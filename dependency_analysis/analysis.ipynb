{
 "metadata": {
  "language_info": {
   "codemirror_mode": {
    "name": "ipython",
    "version": 3
   },
   "file_extension": ".py",
   "mimetype": "text/x-python",
   "name": "python",
   "nbconvert_exporter": "python",
   "pygments_lexer": "ipython3",
   "version": "3.7.7-final"
  },
  "orig_nbformat": 2,
  "kernelspec": {
   "name": "python_defaultSpec_1600050921490",
   "display_name": "Python 3.7.7 64-bit"
  }
 },
 "nbformat": 4,
 "nbformat_minor": 2,
 "cells": [
  {
   "cell_type": "code",
   "execution_count": 19,
   "metadata": {},
   "outputs": [],
   "source": [
    "import os, sys\n",
    "sys.path.append('..')\n",
    "import common, sql\n",
    "import pandas as pd"
   ]
  },
  {
   "cell_type": "code",
   "execution_count": 20,
   "metadata": {},
   "outputs": [
    {
     "output_type": "execute_result",
     "data": {
      "text/plain": "   count(distinct packageId)\n0                        547",
      "text/html": "<div>\n<style scoped>\n    .dataframe tbody tr th:only-of-type {\n        vertical-align: middle;\n    }\n\n    .dataframe tbody tr th {\n        vertical-align: top;\n    }\n\n    .dataframe thead th {\n        text-align: right;\n    }\n</style>\n<table border=\"1\" class=\"dataframe\">\n  <thead>\n    <tr style=\"text-align: right;\">\n      <th></th>\n      <th>count(distinct packageId)</th>\n    </tr>\n  </thead>\n  <tbody>\n    <tr>\n      <th>0</th>\n      <td>547</td>\n    </tr>\n  </tbody>\n</table>\n</div>"
     },
     "metadata": {},
     "execution_count": 20
    }
   ],
   "source": [
    "q='''select count(distinct packageId)\n",
    "from derivedMavenDependencyTree dMDT\n",
    "join dependency d on dMDT.dependencyId = d.id;'''\n",
    "sql.pd_read_sql(q)"
   ]
  },
  {
   "cell_type": "code",
   "execution_count": 21,
   "metadata": {},
   "outputs": [
    {
     "output_type": "execute_result",
     "data": {
      "text/plain": "   count(distinct p.artifact)\n0                         311",
      "text/html": "<div>\n<style scoped>\n    .dataframe tbody tr th:only-of-type {\n        vertical-align: middle;\n    }\n\n    .dataframe tbody tr th {\n        vertical-align: top;\n    }\n\n    .dataframe thead th {\n        text-align: right;\n    }\n</style>\n<table border=\"1\" class=\"dataframe\">\n  <thead>\n    <tr style=\"text-align: right;\">\n      <th></th>\n      <th>count(distinct p.artifact)</th>\n    </tr>\n  </thead>\n  <tbody>\n    <tr>\n      <th>0</th>\n      <td>311</td>\n    </tr>\n  </tbody>\n</table>\n</div>"
     },
     "metadata": {},
     "execution_count": 21
    }
   ],
   "source": [
    "q='''select count(distinct p.artifact)\n",
    "from derivedMavenDependencyTree dMDT\n",
    "join dependency d on dMDT.dependencyId = d.id\n",
    "join package p on d.packageId = p.id;'''\n",
    "sql.pd_read_sql(q)"
   ]
  },
  {
   "cell_type": "code",
   "execution_count": 22,
   "metadata": {},
   "outputs": [
    {
     "output_type": "execute_result",
     "data": {
      "text/plain": "   count(distinct p.id)\n0                  2213",
      "text/html": "<div>\n<style scoped>\n    .dataframe tbody tr th:only-of-type {\n        vertical-align: middle;\n    }\n\n    .dataframe tbody tr th {\n        vertical-align: top;\n    }\n\n    .dataframe thead th {\n        text-align: right;\n    }\n</style>\n<table border=\"1\" class=\"dataframe\">\n  <thead>\n    <tr style=\"text-align: right;\">\n      <th></th>\n      <th>count(distinct p.id)</th>\n    </tr>\n  </thead>\n  <tbody>\n    <tr>\n      <th>0</th>\n      <td>2213</td>\n    </tr>\n  </tbody>\n</table>\n</div>"
     },
     "metadata": {},
     "execution_count": 22
    }
   ],
   "source": [
    "q='''select count(distinct p.id)\n",
    "from repository r\n",
    "join npmDependencyTree nDT on r.id = nDT.repositoryId\n",
    "join package p on nDT.packageId = p.id;;'''\n",
    "sql.pd_read_sql(q)"
   ]
  },
  {
   "cell_type": "code",
   "execution_count": 23,
   "metadata": {},
   "outputs": [
    {
     "output_type": "execute_result",
     "data": {
      "text/plain": "   count(distinct p.artifact)\n0                        1498",
      "text/html": "<div>\n<style scoped>\n    .dataframe tbody tr th:only-of-type {\n        vertical-align: middle;\n    }\n\n    .dataframe tbody tr th {\n        vertical-align: top;\n    }\n\n    .dataframe thead th {\n        text-align: right;\n    }\n</style>\n<table border=\"1\" class=\"dataframe\">\n  <thead>\n    <tr style=\"text-align: right;\">\n      <th></th>\n      <th>count(distinct p.artifact)</th>\n    </tr>\n  </thead>\n  <tbody>\n    <tr>\n      <th>0</th>\n      <td>1498</td>\n    </tr>\n  </tbody>\n</table>\n</div>"
     },
     "metadata": {},
     "execution_count": 23
    }
   ],
   "source": [
    "q='''select count(distinct p.artifact)\n",
    "from repository r\n",
    "join npmDependencyTree nDT on r.id = nDT.repositoryId\n",
    "join package p on nDT.packageId = p.id;;'''\n",
    "sql.pd_read_sql(q)"
   ]
  },
  {
   "cell_type": "code",
   "execution_count": 24,
   "metadata": {},
   "outputs": [
    {
     "output_type": "execute_result",
     "data": {
      "text/plain": "(8222, 1675.0)"
     },
     "metadata": {},
     "execution_count": 24
    }
   ],
   "source": [
    "q='''select repositoryId, count(*) as c\n",
    "from npmDependencyTree\n",
    "group by repositoryId;'''\n",
    "df=sql.pd_read_sql(q)\n",
    "df.c.sum(), df.c.median()"
   ]
  },
  {
   "cell_type": "code",
   "execution_count": 25,
   "metadata": {},
   "outputs": [
    {
     "output_type": "execute_result",
     "data": {
      "text/plain": "127.0"
     },
     "metadata": {},
     "execution_count": 25
    }
   ],
   "source": [
    "q='''select repositoryId, count(*) as deps\n",
    "from derivedMavenDependencyTree dMDT\n",
    "join dependency d on dMDT.dependencyId = d.id\n",
    "group by repositoryId;'''\n",
    "df  = sql.pd_read_sql(q)\n",
    "df.deps.median()"
   ]
  },
  {
   "cell_type": "code",
   "execution_count": 26,
   "metadata": {},
   "outputs": [
    {
     "output_type": "execute_result",
     "data": {
      "text/plain": "840.5"
     },
     "metadata": {},
     "execution_count": 26
    }
   ],
   "source": [
    "q='''select r.id, count(distinct p.id) as deps\n",
    "from repository r\n",
    "join npmDependencyTree nDT on r.id = nDT.repositoryId\n",
    "join package p on nDT.packageId = p.id\n",
    "group by r.id'''\n",
    "df = sql.pd_read_sql(q)\n",
    "df.deps.median()"
   ]
  },
  {
   "cell_type": "code",
   "execution_count": 27,
   "metadata": {},
   "outputs": [
    {
     "output_type": "execute_result",
     "data": {
      "text/plain": "(2.0, 7)"
     },
     "metadata": {},
     "execution_count": 27
    }
   ],
   "source": [
    "q='''select repositoryId, depth\n",
    "from derivedMavenDependencyTree dMDT\n",
    "join dependency d on dMDT.dependencyId = d.id'''\n",
    "df=sql.pd_read_sql(q)\n",
    "dfProject = df.groupby('repositoryId')[['depth']].median()\n",
    "dfProject.depth.median(), df.depth.max()"
   ]
  },
  {
   "cell_type": "code",
   "execution_count": 28,
   "metadata": {},
   "outputs": [
    {
     "output_type": "execute_result",
     "data": {
      "text/plain": "(4.0, 12)"
     },
     "metadata": {},
     "execution_count": 28
    }
   ],
   "source": [
    "q='''select repositoryId, packageId, depth\n",
    "from npmDependencyTree'''\n",
    "df=sql.pd_read_sql(q)\n",
    "dfProject = df.groupby('repositoryId')[['depth']].median()\n",
    "dfProject.depth.median(), df.depth.max()"
   ]
  },
  {
   "cell_type": "code",
   "execution_count": 29,
   "metadata": {},
   "outputs": [
    {
     "output_type": "execute_result",
     "data": {
      "text/plain": "99.0"
     },
     "metadata": {},
     "execution_count": 29
    }
   ],
   "source": [
    "q='''select repositoryId, count(*) as deps\n",
    "from derivedMavenDependencyTree dMDT\n",
    "join dependency d on dMDT.dependencyId = d.id\n",
    "where scope='provided'\n",
    "group by repositoryId;'''\n",
    "df=sql.pd_read_sql(q)\n",
    "df.deps.median()"
   ]
  },
  {
   "cell_type": "code",
   "execution_count": 30,
   "metadata": {},
   "outputs": [
    {
     "output_type": "execute_result",
     "data": {
      "text/plain": "3.0"
     },
     "metadata": {},
     "execution_count": 30
    }
   ],
   "source": [
    "q='''select repositoryId, count(*) as deps\n",
    "from derivedMavenDependencyTree dMDT\n",
    "join dependency d on dMDT.dependencyId = d.id\n",
    "where scope='compile'\n",
    "group by repositoryId;'''\n",
    "df=sql.pd_read_sql(q)\n",
    "df.deps.median()"
   ]
  },
  {
   "cell_type": "code",
   "execution_count": 31,
   "metadata": {},
   "outputs": [
    {
     "output_type": "execute_result",
     "data": {
      "text/plain": "5.0"
     },
     "metadata": {},
     "execution_count": 31
    }
   ],
   "source": [
    "q='''select repositoryId, count(*) as deps\n",
    "from derivedMavenDependencyTree dMDT\n",
    "join dependency d on dMDT.dependencyId = d.id\n",
    "where scope='runtime'\n",
    "group by repositoryId;'''\n",
    "df=sql.pd_read_sql(q)\n",
    "df.deps.median()"
   ]
  },
  {
   "cell_type": "code",
   "execution_count": 32,
   "metadata": {},
   "outputs": [
    {
     "output_type": "execute_result",
     "data": {
      "text/plain": "24.5"
     },
     "metadata": {},
     "execution_count": 32
    }
   ],
   "source": [
    "q='''select repositoryId, count(*) as deps\n",
    "from derivedMavenDependencyTree dMDT\n",
    "join dependency d on dMDT.dependencyId = d.id\n",
    "where scope='test'\n",
    "group by repositoryId;'''\n",
    "df=sql.pd_read_sql(q)\n",
    "df.deps.median()"
   ]
  },
  {
   "cell_type": "code",
   "execution_count": 33,
   "metadata": {},
   "outputs": [
    {
     "output_type": "execute_result",
     "data": {
      "text/plain": "202.5"
     },
     "metadata": {},
     "execution_count": 33
    }
   ],
   "source": [
    "q='''select r.id, count(distinct p.id) as deps\n",
    "from repository r\n",
    "join npmDependencyTree nDT on r.id = nDT.repositoryId\n",
    "join package p on nDT.packageId = p.id\n",
    "where scope='prod'\n",
    "group by r.id'''\n",
    "df=sql.pd_read_sql(q)\n",
    "df.deps.median()"
   ]
  },
  {
   "cell_type": "code",
   "execution_count": 34,
   "metadata": {},
   "outputs": [
    {
     "output_type": "execute_result",
     "data": {
      "text/plain": "366.0"
     },
     "metadata": {},
     "execution_count": 34
    }
   ],
   "source": [
    "q='''select r.id, count(*) as deps\n",
    "from repository r\n",
    "join npmDependencyTree nDT on r.id = nDT.repositoryId\n",
    "join package p on nDT.packageId = p.id\n",
    "where scope='prod'\n",
    "group by r.id'''\n",
    "df=sql.pd_read_sql(q)\n",
    "df.deps.median()"
   ]
  },
  {
   "cell_type": "code",
   "execution_count": 35,
   "metadata": {},
   "outputs": [
    {
     "output_type": "execute_result",
     "data": {
      "text/plain": "807.5"
     },
     "metadata": {},
     "execution_count": 35
    }
   ],
   "source": [
    "q='''select r.id, count(distinct p.id) as deps\n",
    "from repository r\n",
    "join npmDependencyTree nDT on r.id = nDT.repositoryId\n",
    "join package p on nDT.packageId = p.id\n",
    "where scope='dev'\n",
    "group by r.id'''\n",
    "df=sql.pd_read_sql(q)\n",
    "df.deps.median()"
   ]
  },
  {
   "cell_type": "code",
   "execution_count": 36,
   "metadata": {},
   "outputs": [
    {
     "output_type": "execute_result",
     "data": {
      "text/plain": "1613.5"
     },
     "metadata": {},
     "execution_count": 36
    }
   ],
   "source": [
    "q='''select r.id, count(*) as deps\n",
    "from repository r\n",
    "join npmDependencyTree nDT on r.id = nDT.repositoryId\n",
    "join package p on nDT.packageId = p.id\n",
    "where scope='dev'\n",
    "group by r.id'''\n",
    "df=sql.pd_read_sql(q)\n",
    "df.deps.median()"
   ]
  },
  {
   "cell_type": "code",
   "execution_count": null,
   "metadata": {},
   "outputs": [],
   "source": []
  }
 ]
}