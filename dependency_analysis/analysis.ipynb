{
 "metadata": {
  "language_info": {
   "codemirror_mode": {
    "name": "ipython",
    "version": 3
   },
   "file_extension": ".py",
   "mimetype": "text/x-python",
   "name": "python",
   "nbconvert_exporter": "python",
   "pygments_lexer": "ipython3",
   "version": "3.7.7-final"
  },
  "orig_nbformat": 2,
  "kernelspec": {
   "name": "python_defaultSpec_1599188313707",
   "display_name": "Python 3.7.7 64-bit"
  }
 },
 "nbformat": 4,
 "nbformat_minor": 2,
 "cells": [
  {
   "cell_type": "code",
   "execution_count": 2,
   "metadata": {},
   "outputs": [],
   "source": [
    "import os, sys\n",
    "sys.path.append('..')\n",
    "import common, sql\n",
    "import pandas as pd"
   ]
  },
  {
   "cell_type": "code",
   "execution_count": 3,
   "metadata": {},
   "outputs": [
    {
     "output_type": "execute_result",
     "data": {
      "text/plain": "   count(distinct packageId)\n0                        547",
      "text/html": "<div>\n<style scoped>\n    .dataframe tbody tr th:only-of-type {\n        vertical-align: middle;\n    }\n\n    .dataframe tbody tr th {\n        vertical-align: top;\n    }\n\n    .dataframe thead th {\n        text-align: right;\n    }\n</style>\n<table border=\"1\" class=\"dataframe\">\n  <thead>\n    <tr style=\"text-align: right;\">\n      <th></th>\n      <th>count(distinct packageId)</th>\n    </tr>\n  </thead>\n  <tbody>\n    <tr>\n      <th>0</th>\n      <td>547</td>\n    </tr>\n  </tbody>\n</table>\n</div>"
     },
     "metadata": {},
     "execution_count": 3
    }
   ],
   "source": [
    "q='''select count(distinct packageId)\n",
    "from derivedMavenDependencyTree dMDT\n",
    "join dependency d on dMDT.dependencyId = d.id;'''\n",
    "sql.pd_read_sql(q)"
   ]
  },
  {
   "cell_type": "code",
   "execution_count": 4,
   "metadata": {},
   "outputs": [
    {
     "output_type": "execute_result",
     "data": {
      "text/plain": "   count(distinct p.id)\n0                  2213",
      "text/html": "<div>\n<style scoped>\n    .dataframe tbody tr th:only-of-type {\n        vertical-align: middle;\n    }\n\n    .dataframe tbody tr th {\n        vertical-align: top;\n    }\n\n    .dataframe thead th {\n        text-align: right;\n    }\n</style>\n<table border=\"1\" class=\"dataframe\">\n  <thead>\n    <tr style=\"text-align: right;\">\n      <th></th>\n      <th>count(distinct p.id)</th>\n    </tr>\n  </thead>\n  <tbody>\n    <tr>\n      <th>0</th>\n      <td>2213</td>\n    </tr>\n  </tbody>\n</table>\n</div>"
     },
     "metadata": {},
     "execution_count": 4
    }
   ],
   "source": [
    "q='''select count(distinct p.id)\n",
    "from repository r\n",
    "join npmDependencyTree nDT on r.id = nDT.repositoryId\n",
    "join package p on nDT.packageId = p.id;;'''\n",
    "sql.pd_read_sql(q)"
   ]
  },
  {
   "cell_type": "code",
   "execution_count": 5,
   "metadata": {},
   "outputs": [
    {
     "output_type": "execute_result",
     "data": {
      "text/plain": "(8222, 1675.0)"
     },
     "metadata": {},
     "execution_count": 5
    }
   ],
   "source": [
    "q='''select repositoryId, count(*) as c\n",
    "from npmDependencyTree\n",
    "group by repositoryId;'''\n",
    "df=sql.pd_read_sql(q)\n",
    "df.c.sum(), df.c.median()"
   ]
  },
  {
   "cell_type": "code",
   "execution_count": 6,
   "metadata": {},
   "outputs": [
    {
     "output_type": "execute_result",
     "data": {
      "text/plain": "127.0"
     },
     "metadata": {},
     "execution_count": 6
    }
   ],
   "source": [
    "q='''select repositoryId, count(*) as deps\n",
    "from derivedMavenDependencyTree dMDT\n",
    "join dependency d on dMDT.dependencyId = d.id\n",
    "group by repositoryId;'''\n",
    "df  = sql.pd_read_sql(q)\n",
    "df.deps.median()"
   ]
  },
  {
   "cell_type": "code",
   "execution_count": 7,
   "metadata": {},
   "outputs": [
    {
     "output_type": "execute_result",
     "data": {
      "text/plain": "840.5"
     },
     "metadata": {},
     "execution_count": 7
    }
   ],
   "source": [
    "q='''select r.id, count(distinct p.id) as deps\n",
    "from repository r\n",
    "join npmDependencyTree nDT on r.id = nDT.repositoryId\n",
    "join package p on nDT.packageId = p.id\n",
    "group by r.id'''\n",
    "df = sql.pd_read_sql(q)\n",
    "df.deps.median()"
   ]
  },
  {
   "cell_type": "code",
   "execution_count": 8,
   "metadata": {},
   "outputs": [
    {
     "output_type": "execute_result",
     "data": {
      "text/plain": "(2.0, 7)"
     },
     "metadata": {},
     "execution_count": 8
    }
   ],
   "source": [
    "q='''select repositoryId, depth\n",
    "from derivedMavenDependencyTree dMDT\n",
    "join dependency d on dMDT.dependencyId = d.id'''\n",
    "df=sql.pd_read_sql(q)\n",
    "dfProject = df.groupby('repositoryId')[['depth']].median()\n",
    "dfProject.depth.median(), df.depth.max()"
   ]
  },
  {
   "cell_type": "code",
   "execution_count": 9,
   "metadata": {},
   "outputs": [
    {
     "output_type": "execute_result",
     "data": {
      "text/plain": "(4.0, 12)"
     },
     "metadata": {},
     "execution_count": 9
    }
   ],
   "source": [
    "q='''select repositoryId, packageId, depth\n",
    "from npmDependencyTree'''\n",
    "df=sql.pd_read_sql(q)\n",
    "dfProject = df.groupby('repositoryId')[['depth']].median()\n",
    "dfProject.depth.median(), df.depth.max()"
   ]
  },
  {
   "cell_type": "code",
   "execution_count": 10,
   "metadata": {},
   "outputs": [
    {
     "output_type": "execute_result",
     "data": {
      "text/plain": "102.0"
     },
     "metadata": {},
     "execution_count": 10
    }
   ],
   "source": [
    "q='''select repositoryId, count(*) as deps\n",
    "from derivedMavenDependencyTree dMDT\n",
    "join dependency d on dMDT.dependencyId = d.id\n",
    "where scope='provided'\n",
    "group by repositoryId;'''\n",
    "df=sql.pd_read_sql(q)\n",
    "df.deps.median()"
   ]
  },
  {
   "cell_type": "code",
   "execution_count": 11,
   "metadata": {},
   "outputs": [
    {
     "output_type": "execute_result",
     "data": {
      "text/plain": "3.0"
     },
     "metadata": {},
     "execution_count": 11
    }
   ],
   "source": [
    "q='''select repositoryId, count(*) as deps\n",
    "from derivedMavenDependencyTree dMDT\n",
    "join dependency d on dMDT.dependencyId = d.id\n",
    "where scope='compile'\n",
    "group by repositoryId;'''\n",
    "df=sql.pd_read_sql(q)\n",
    "df.deps.median()"
   ]
  },
  {
   "cell_type": "code",
   "execution_count": 12,
   "metadata": {},
   "outputs": [
    {
     "output_type": "execute_result",
     "data": {
      "text/plain": "1.0"
     },
     "metadata": {},
     "execution_count": 12
    }
   ],
   "source": [
    "q='''select repositoryId, count(*) as deps\n",
    "from derivedMavenDependencyTree dMDT\n",
    "join dependency d on dMDT.dependencyId = d.id\n",
    "where scope='runtime'\n",
    "group by repositoryId;'''\n",
    "df=sql.pd_read_sql(q)\n",
    "df.deps.median()"
   ]
  },
  {
   "cell_type": "code",
   "execution_count": 13,
   "metadata": {},
   "outputs": [
    {
     "output_type": "execute_result",
     "data": {
      "text/plain": "24.0"
     },
     "metadata": {},
     "execution_count": 13
    }
   ],
   "source": [
    "q='''select repositoryId, count(*) as deps\n",
    "from derivedMavenDependencyTree dMDT\n",
    "join dependency d on dMDT.dependencyId = d.id\n",
    "where scope='test'\n",
    "group by repositoryId;'''\n",
    "df=sql.pd_read_sql(q)\n",
    "df.deps.median()"
   ]
  },
  {
   "cell_type": "code",
   "execution_count": 14,
   "metadata": {},
   "outputs": [
    {
     "output_type": "execute_result",
     "data": {
      "text/plain": "202.5"
     },
     "metadata": {},
     "execution_count": 14
    }
   ],
   "source": [
    "q='''select r.id, count(distinct p.id) as deps\n",
    "from repository r\n",
    "join npmDependencyTree nDT on r.id = nDT.repositoryId\n",
    "join package p on nDT.packageId = p.id\n",
    "where scope='prod'\n",
    "group by r.id'''\n",
    "df=sql.pd_read_sql(q)\n",
    "df.deps.median()"
   ]
  },
  {
   "cell_type": "code",
   "execution_count": 15,
   "metadata": {},
   "outputs": [
    {
     "output_type": "execute_result",
     "data": {
      "text/plain": "366.0"
     },
     "metadata": {},
     "execution_count": 15
    }
   ],
   "source": [
    "q='''select r.id, count(*) as deps\n",
    "from repository r\n",
    "join npmDependencyTree nDT on r.id = nDT.repositoryId\n",
    "join package p on nDT.packageId = p.id\n",
    "where scope='prod'\n",
    "group by r.id'''\n",
    "df=sql.pd_read_sql(q)\n",
    "df.deps.median()"
   ]
  },
  {
   "cell_type": "code",
   "execution_count": 16,
   "metadata": {},
   "outputs": [
    {
     "output_type": "execute_result",
     "data": {
      "text/plain": "807.5"
     },
     "metadata": {},
     "execution_count": 16
    }
   ],
   "source": [
    "q='''select r.id, count(distinct p.id) as deps\n",
    "from repository r\n",
    "join npmDependencyTree nDT on r.id = nDT.repositoryId\n",
    "join package p on nDT.packageId = p.id\n",
    "where scope='dev'\n",
    "group by r.id'''\n",
    "df=sql.pd_read_sql(q)\n",
    "df.deps.median()"
   ]
  },
  {
   "cell_type": "code",
   "execution_count": 17,
   "metadata": {},
   "outputs": [
    {
     "output_type": "execute_result",
     "data": {
      "text/plain": "1613.5"
     },
     "metadata": {},
     "execution_count": 17
    }
   ],
   "source": [
    "q='''select r.id, count(*) as deps\n",
    "from repository r\n",
    "join npmDependencyTree nDT on r.id = nDT.repositoryId\n",
    "join package p on nDT.packageId = p.id\n",
    "where scope='dev'\n",
    "group by r.id'''\n",
    "df=sql.pd_read_sql(q)\n",
    "df.deps.median()"
   ]
  },
  {
   "cell_type": "code",
   "execution_count": null,
   "metadata": {},
   "outputs": [],
   "source": []
  }
 ]
}