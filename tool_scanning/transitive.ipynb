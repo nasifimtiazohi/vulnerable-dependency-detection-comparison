{
 "metadata": {
  "language_info": {
   "codemirror_mode": {
    "name": "ipython",
    "version": 3
   },
   "file_extension": ".py",
   "mimetype": "text/x-python",
   "name": "python",
   "nbconvert_exporter": "python",
   "pygments_lexer": "ipython3",
   "version": "3.9.4"
  },
  "orig_nbformat": 2,
  "kernelspec": {
   "name": "python394jvsc74a57bd045e6bb90db539892217150e51eb80500a9bf028439c0d739bd24c7b8d42327c6",
   "display_name": "Python 3.9.4 64-bit ('advisory-lifecycle-RDwwAgfI': venv)",
   "language": "python"
  }
 },
 "nbformat": 4,
 "nbformat_minor": 2,
 "cells": [
  {
   "cell_type": "code",
   "execution_count": 1,
   "metadata": {},
   "outputs": [],
   "source": [
    "from matplotlib_venn import venn2, venn2_circles, venn2_unweighted\n",
    "from matplotlib_venn import venn3, venn3_circles\n",
    "from matplotlib import pyplot as plt\n",
    "import os, sys\n",
    "sys.path.append('..')\n",
    "import common, sql\n",
    "import pandas as pd\n",
    "import numpy as np\n",
    "hm={\n",
    "    'Maven Security Versions': 'MSV',\n",
    "    'Github Dependabot' : 'Dependabot',\n",
    "    'OWASP Dependency-Check' : 'OWASP DC',\n",
    "    'Contrast' : 'Com. B',\n",
    "    'SourceClear': 'Com. A'\n",
    "}"
   ]
  },
  {
   "cell_type": "code",
   "execution_count": null,
   "metadata": {
    "tags": []
   },
   "outputs": [],
   "source": [
    "q = '''select *\n",
    "from mavenAlert mA\n",
    "join dependency d on mA.dependencyId = d.id\n",
    "join derivedMavenDependencyTree dMDT on d.id = dMDT.dependencyId\n",
    "join tool t on mA.toolId = t.id;'''\n",
    "df = pd.DataFrame(sql.execute(q))\n",
    "gb = df.groupby('name')\n",
    "for name, group in gb:\n",
    "    repos = group.groupby('repositoryId')\n",
    "    dRate = []\n",
    "    d =t = 0\n",
    "    for id, repo in repos:\n",
    "        direct = len(repo[repo['depth'] == 1])\n",
    "        transitive = len(repo[repo['depth'] > 1])\n",
    "        total = direct + transitive\n",
    "        d+= direct\n",
    "        t+= transitive\n",
    "        if total > 0:\n",
    "            rate = round(direct/total * 100,1)\n",
    "            dRate.append(rate)\n",
    "    print(name, np.median(np.array(dRate)), round((d/(d+t))*100,1))"
   ]
  },
  {
   "cell_type": "code",
   "execution_count": 2,
   "metadata": {},
   "outputs": [
    {
     "output_type": "stream",
     "name": "stdout",
     "text": [
      "Github Dependabot 100.0 65.9\nNPM Audit 0.0 0.9\nOWASP Dependency-Check 3.4000000000000004 4.4\nSnyk 3.15 3.5\nWhiteSource 10.75 8.8\n"
     ]
    }
   ],
   "source": [
    "q = '''select *\n",
    "from npmAlert nA\n",
    "join dependency d on nA.dependencyId = d.id\n",
    "left join\n",
    "(select repositoryId,packageId, min(depth) as depth\n",
    "from npmDependencyTree nDT\n",
    "group by repositoryId,packageId) as dir\n",
    "on dir.repositoryId=d.repositoryId and dir.packageId=d.packageId\n",
    "join tool t on nA.toolId = t.id;'''\n",
    "df = pd.DataFrame(sql.execute(q))\n",
    "gb = df.groupby('name')\n",
    "for name, group in gb:\n",
    "    repos = group.groupby('repositoryId')\n",
    "    dRate = []\n",
    "    d =t = 0\n",
    "    for id, repo in repos:\n",
    "        direct = len(repo[repo['depth'] == 1])\n",
    "        transitive = len(repo[repo['depth'] > 1])\n",
    "        total = direct + transitive\n",
    "        d+= direct\n",
    "        t+= transitive\n",
    "        if total > 0:\n",
    "            rate = round(direct/total * 100,1)\n",
    "            dRate.append(rate)\n",
    "    print(name, np.median(np.array(dRate)), round((d/(d+t))*100,1))"
   ]
  },
  {
   "cell_type": "code",
   "execution_count": null,
   "metadata": {},
   "outputs": [],
   "source": []
  }
 ]
}