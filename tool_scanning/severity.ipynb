{
 "metadata": {
  "language_info": {
   "codemirror_mode": {
    "name": "ipython",
    "version": 3
   },
   "file_extension": ".py",
   "mimetype": "text/x-python",
   "name": "python",
   "nbconvert_exporter": "python",
   "pygments_lexer": "ipython3",
   "version": "3.7.7-final"
  },
  "orig_nbformat": 2,
  "kernelspec": {
   "name": "Python 3.7.7 64-bit",
   "display_name": "Python 3.7.7 64-bit",
   "metadata": {
    "interpreter": {
     "hash": "aee8b7b246df8f9039afb4144a1f6fd8d2ca17a180786b69acc140d282b71a49"
    }
   }
  }
 },
 "nbformat": 4,
 "nbformat_minor": 2,
 "cells": [
  {
   "cell_type": "code",
   "execution_count": 1,
   "metadata": {},
   "outputs": [],
   "source": [
    "import os, sys\n",
    "sys.path.append('..')\n",
    "import common, sql\n",
    "import pandas as pd"
   ]
  },
  {
   "cell_type": "code",
   "execution_count": 11,
   "metadata": {},
   "outputs": [
    {
     "output_type": "execute_result",
     "data": {
      "text/plain": "      id severity CVSS3_severity\n0    151        1              2\n1    143        1              2\n2    141        3              2\n3    137        1              4\n4    153        2              3\n5    145        2              2\n6   1208        1              2\n7    155        3              3\n8    207        1              2\n9    973        1              2\n10   209        2              2\n11   213        3              3\n13   211        2              3\n14   215        1              3\n15   208        2              2\n16   210        3              3\n17   216        3              3\n18   214        3              3\n19   227        3              4\n20   238        2              2\n21   224        3              3\n22   274        3              4\n23   241        3              4\n24   223        3              3\n25   276        4              3\n26   282        2              3\n27   287        4              4\n28   281        4              4\n29   283        2              3\n30   728        3              4",
      "text/html": "<div>\n<style scoped>\n    .dataframe tbody tr th:only-of-type {\n        vertical-align: middle;\n    }\n\n    .dataframe tbody tr th {\n        vertical-align: top;\n    }\n\n    .dataframe thead th {\n        text-align: right;\n    }\n</style>\n<table border=\"1\" class=\"dataframe\">\n  <thead>\n    <tr style=\"text-align: right;\">\n      <th></th>\n      <th>id</th>\n      <th>severity</th>\n      <th>CVSS3_severity</th>\n    </tr>\n  </thead>\n  <tbody>\n    <tr>\n      <th>0</th>\n      <td>151</td>\n      <td>1</td>\n      <td>2</td>\n    </tr>\n    <tr>\n      <th>1</th>\n      <td>143</td>\n      <td>1</td>\n      <td>2</td>\n    </tr>\n    <tr>\n      <th>2</th>\n      <td>141</td>\n      <td>3</td>\n      <td>2</td>\n    </tr>\n    <tr>\n      <th>3</th>\n      <td>137</td>\n      <td>1</td>\n      <td>4</td>\n    </tr>\n    <tr>\n      <th>4</th>\n      <td>153</td>\n      <td>2</td>\n      <td>3</td>\n    </tr>\n    <tr>\n      <th>5</th>\n      <td>145</td>\n      <td>2</td>\n      <td>2</td>\n    </tr>\n    <tr>\n      <th>6</th>\n      <td>1208</td>\n      <td>1</td>\n      <td>2</td>\n    </tr>\n    <tr>\n      <th>7</th>\n      <td>155</td>\n      <td>3</td>\n      <td>3</td>\n    </tr>\n    <tr>\n      <th>8</th>\n      <td>207</td>\n      <td>1</td>\n      <td>2</td>\n    </tr>\n    <tr>\n      <th>9</th>\n      <td>973</td>\n      <td>1</td>\n      <td>2</td>\n    </tr>\n    <tr>\n      <th>10</th>\n      <td>209</td>\n      <td>2</td>\n      <td>2</td>\n    </tr>\n    <tr>\n      <th>11</th>\n      <td>213</td>\n      <td>3</td>\n      <td>3</td>\n    </tr>\n    <tr>\n      <th>13</th>\n      <td>211</td>\n      <td>2</td>\n      <td>3</td>\n    </tr>\n    <tr>\n      <th>14</th>\n      <td>215</td>\n      <td>1</td>\n      <td>3</td>\n    </tr>\n    <tr>\n      <th>15</th>\n      <td>208</td>\n      <td>2</td>\n      <td>2</td>\n    </tr>\n    <tr>\n      <th>16</th>\n      <td>210</td>\n      <td>3</td>\n      <td>3</td>\n    </tr>\n    <tr>\n      <th>17</th>\n      <td>216</td>\n      <td>3</td>\n      <td>3</td>\n    </tr>\n    <tr>\n      <th>18</th>\n      <td>214</td>\n      <td>3</td>\n      <td>3</td>\n    </tr>\n    <tr>\n      <th>19</th>\n      <td>227</td>\n      <td>3</td>\n      <td>4</td>\n    </tr>\n    <tr>\n      <th>20</th>\n      <td>238</td>\n      <td>2</td>\n      <td>2</td>\n    </tr>\n    <tr>\n      <th>21</th>\n      <td>224</td>\n      <td>3</td>\n      <td>3</td>\n    </tr>\n    <tr>\n      <th>22</th>\n      <td>274</td>\n      <td>3</td>\n      <td>4</td>\n    </tr>\n    <tr>\n      <th>23</th>\n      <td>241</td>\n      <td>3</td>\n      <td>4</td>\n    </tr>\n    <tr>\n      <th>24</th>\n      <td>223</td>\n      <td>3</td>\n      <td>3</td>\n    </tr>\n    <tr>\n      <th>25</th>\n      <td>276</td>\n      <td>4</td>\n      <td>3</td>\n    </tr>\n    <tr>\n      <th>26</th>\n      <td>282</td>\n      <td>2</td>\n      <td>3</td>\n    </tr>\n    <tr>\n      <th>27</th>\n      <td>287</td>\n      <td>4</td>\n      <td>4</td>\n    </tr>\n    <tr>\n      <th>28</th>\n      <td>281</td>\n      <td>4</td>\n      <td>4</td>\n    </tr>\n    <tr>\n      <th>29</th>\n      <td>283</td>\n      <td>2</td>\n      <td>3</td>\n    </tr>\n    <tr>\n      <th>30</th>\n      <td>728</td>\n      <td>3</td>\n      <td>4</td>\n    </tr>\n  </tbody>\n</table>\n</div>"
     },
     "metadata": {},
     "execution_count": 11
    }
   ],
   "source": [
    "q='''select distinct v.id, severity, CVSS3_severity from npmAlert nA\n",
    "    join vulnerability v on nA.vulnerabilityId = v.id\n",
    "    where toolId=5\n",
    "    and cveId is not null;'''\n",
    "df=sql.pd_read_sql(q)\n",
    "df.loc[(df.severity=='low'),'severity']=1\n",
    "df.loc[(df.severity=='moderate'),'severity']=2\n",
    "df.loc[(df.severity=='high'),'severity']=3\n",
    "df.loc[(df.severity=='critical'),'severity']=4\n",
    "df.loc[df['CVSS3_severity']=='MEDIUM','CVSS3_severity']=2\n",
    "df.loc[df['CVSS3_severity']=='HIGH','CVSS3_severity']=3\n",
    "df.loc[df['CVSS3_severity']=='CRITICAL','CVSS3_severity']=4\n",
    "df = df[df['CVSS3_severity'].notna()]\n",
    "df"
   ]
  },
  {
   "cell_type": "code",
   "execution_count": 16,
   "metadata": {},
   "outputs": [
    {
     "output_type": "execute_result",
     "data": {
      "text/plain": "      id severity CVSS3_severity diff   d\n0    151        1              2    1   1\n1    143        1              2    1   1\n2    141        3              2   -1  -1\n3    137        1              4    3   3\n4    153        2              3    1   1\n5    145        2              2    0   0\n6   1208        1              2    1   1\n7    155        3              3    0   0\n8    207        1              2    1   1\n9    973        1              2    1   1\n10   209        2              2    0   0\n11   213        3              3    0   0\n13   211        2              3    1   1\n14   215        1              3    2   2\n15   208        2              2    0   0\n16   210        3              3    0   0\n17   216        3              3    0   0\n18   214        3              3    0   0\n19   227        3              4    1   1\n20   238        2              2    0   0\n21   224        3              3    0   0\n22   274        3              4    1   1\n23   241        3              4    1   1\n24   223        3              3    0   0\n25   276        4              3   -1  -1\n26   282        2              3    1   1\n27   287        4              4    0   0\n28   281        4              4    0   0\n29   283        2              3    1   1\n30   728        3              4    1   1",
      "text/html": "<div>\n<style scoped>\n    .dataframe tbody tr th:only-of-type {\n        vertical-align: middle;\n    }\n\n    .dataframe tbody tr th {\n        vertical-align: top;\n    }\n\n    .dataframe thead th {\n        text-align: right;\n    }\n</style>\n<table border=\"1\" class=\"dataframe\">\n  <thead>\n    <tr style=\"text-align: right;\">\n      <th></th>\n      <th>id</th>\n      <th>severity</th>\n      <th>CVSS3_severity</th>\n      <th>diff</th>\n      <th>d</th>\n    </tr>\n  </thead>\n  <tbody>\n    <tr>\n      <th>0</th>\n      <td>151</td>\n      <td>1</td>\n      <td>2</td>\n      <td>1</td>\n      <td>1</td>\n    </tr>\n    <tr>\n      <th>1</th>\n      <td>143</td>\n      <td>1</td>\n      <td>2</td>\n      <td>1</td>\n      <td>1</td>\n    </tr>\n    <tr>\n      <th>2</th>\n      <td>141</td>\n      <td>3</td>\n      <td>2</td>\n      <td>-1</td>\n      <td>-1</td>\n    </tr>\n    <tr>\n      <th>3</th>\n      <td>137</td>\n      <td>1</td>\n      <td>4</td>\n      <td>3</td>\n      <td>3</td>\n    </tr>\n    <tr>\n      <th>4</th>\n      <td>153</td>\n      <td>2</td>\n      <td>3</td>\n      <td>1</td>\n      <td>1</td>\n    </tr>\n    <tr>\n      <th>5</th>\n      <td>145</td>\n      <td>2</td>\n      <td>2</td>\n      <td>0</td>\n      <td>0</td>\n    </tr>\n    <tr>\n      <th>6</th>\n      <td>1208</td>\n      <td>1</td>\n      <td>2</td>\n      <td>1</td>\n      <td>1</td>\n    </tr>\n    <tr>\n      <th>7</th>\n      <td>155</td>\n      <td>3</td>\n      <td>3</td>\n      <td>0</td>\n      <td>0</td>\n    </tr>\n    <tr>\n      <th>8</th>\n      <td>207</td>\n      <td>1</td>\n      <td>2</td>\n      <td>1</td>\n      <td>1</td>\n    </tr>\n    <tr>\n      <th>9</th>\n      <td>973</td>\n      <td>1</td>\n      <td>2</td>\n      <td>1</td>\n      <td>1</td>\n    </tr>\n    <tr>\n      <th>10</th>\n      <td>209</td>\n      <td>2</td>\n      <td>2</td>\n      <td>0</td>\n      <td>0</td>\n    </tr>\n    <tr>\n      <th>11</th>\n      <td>213</td>\n      <td>3</td>\n      <td>3</td>\n      <td>0</td>\n      <td>0</td>\n    </tr>\n    <tr>\n      <th>13</th>\n      <td>211</td>\n      <td>2</td>\n      <td>3</td>\n      <td>1</td>\n      <td>1</td>\n    </tr>\n    <tr>\n      <th>14</th>\n      <td>215</td>\n      <td>1</td>\n      <td>3</td>\n      <td>2</td>\n      <td>2</td>\n    </tr>\n    <tr>\n      <th>15</th>\n      <td>208</td>\n      <td>2</td>\n      <td>2</td>\n      <td>0</td>\n      <td>0</td>\n    </tr>\n    <tr>\n      <th>16</th>\n      <td>210</td>\n      <td>3</td>\n      <td>3</td>\n      <td>0</td>\n      <td>0</td>\n    </tr>\n    <tr>\n      <th>17</th>\n      <td>216</td>\n      <td>3</td>\n      <td>3</td>\n      <td>0</td>\n      <td>0</td>\n    </tr>\n    <tr>\n      <th>18</th>\n      <td>214</td>\n      <td>3</td>\n      <td>3</td>\n      <td>0</td>\n      <td>0</td>\n    </tr>\n    <tr>\n      <th>19</th>\n      <td>227</td>\n      <td>3</td>\n      <td>4</td>\n      <td>1</td>\n      <td>1</td>\n    </tr>\n    <tr>\n      <th>20</th>\n      <td>238</td>\n      <td>2</td>\n      <td>2</td>\n      <td>0</td>\n      <td>0</td>\n    </tr>\n    <tr>\n      <th>21</th>\n      <td>224</td>\n      <td>3</td>\n      <td>3</td>\n      <td>0</td>\n      <td>0</td>\n    </tr>\n    <tr>\n      <th>22</th>\n      <td>274</td>\n      <td>3</td>\n      <td>4</td>\n      <td>1</td>\n      <td>1</td>\n    </tr>\n    <tr>\n      <th>23</th>\n      <td>241</td>\n      <td>3</td>\n      <td>4</td>\n      <td>1</td>\n      <td>1</td>\n    </tr>\n    <tr>\n      <th>24</th>\n      <td>223</td>\n      <td>3</td>\n      <td>3</td>\n      <td>0</td>\n      <td>0</td>\n    </tr>\n    <tr>\n      <th>25</th>\n      <td>276</td>\n      <td>4</td>\n      <td>3</td>\n      <td>-1</td>\n      <td>-1</td>\n    </tr>\n    <tr>\n      <th>26</th>\n      <td>282</td>\n      <td>2</td>\n      <td>3</td>\n      <td>1</td>\n      <td>1</td>\n    </tr>\n    <tr>\n      <th>27</th>\n      <td>287</td>\n      <td>4</td>\n      <td>4</td>\n      <td>0</td>\n      <td>0</td>\n    </tr>\n    <tr>\n      <th>28</th>\n      <td>281</td>\n      <td>4</td>\n      <td>4</td>\n      <td>0</td>\n      <td>0</td>\n    </tr>\n    <tr>\n      <th>29</th>\n      <td>283</td>\n      <td>2</td>\n      <td>3</td>\n      <td>1</td>\n      <td>1</td>\n    </tr>\n    <tr>\n      <th>30</th>\n      <td>728</td>\n      <td>3</td>\n      <td>4</td>\n      <td>1</td>\n      <td>1</td>\n    </tr>\n  </tbody>\n</table>\n</div>"
     },
     "metadata": {},
     "execution_count": 16
    }
   ],
   "source": [
    "df['d'] = df['CVSS3_severity'] - df.severity\n",
    "df"
   ]
  },
  {
   "cell_type": "code",
   "execution_count": 17,
   "metadata": {},
   "outputs": [
    {
     "output_type": "execute_result",
     "data": {
      "text/plain": "0.5"
     },
     "metadata": {},
     "execution_count": 17
    }
   ],
   "source": [
    "df.d.median()"
   ]
  },
  {
   "cell_type": "code",
   "execution_count": 22,
   "metadata": {
    "tags": []
   },
   "outputs": [
    {
     "output_type": "stream",
     "name": "stdout",
     "text": "-1 2\n0 13\n1 13\n2 1\n3 1\n"
    }
   ],
   "source": [
    "dfs = df.groupby('d')\n",
    "for name, group in dfs:\n",
    "    print(name, len(group))"
   ]
  },
  {
   "cell_type": "code",
   "execution_count": 27,
   "metadata": {},
   "outputs": [
    {
     "output_type": "execute_result",
     "data": {
      "text/plain": "      id severity CVSS2_severity CVSS3_severity\n0    283        2         MEDIUM              3\n1    153        2         MEDIUM              3\n2   1056        3         MEDIUM              3\n3   1057        3         MEDIUM              3\n4    155        3         MEDIUM              3\n..   ...      ...            ...            ...\n85    98        4           HIGH              4\n86    99        3         MEDIUM              3\n87    34        3         MEDIUM              3\n88   310        2         MEDIUM              2\n89   309        3         MEDIUM              2\n\n[86 rows x 4 columns]",
      "text/html": "<div>\n<style scoped>\n    .dataframe tbody tr th:only-of-type {\n        vertical-align: middle;\n    }\n\n    .dataframe tbody tr th {\n        vertical-align: top;\n    }\n\n    .dataframe thead th {\n        text-align: right;\n    }\n</style>\n<table border=\"1\" class=\"dataframe\">\n  <thead>\n    <tr style=\"text-align: right;\">\n      <th></th>\n      <th>id</th>\n      <th>severity</th>\n      <th>CVSS2_severity</th>\n      <th>CVSS3_severity</th>\n    </tr>\n  </thead>\n  <tbody>\n    <tr>\n      <th>0</th>\n      <td>283</td>\n      <td>2</td>\n      <td>MEDIUM</td>\n      <td>3</td>\n    </tr>\n    <tr>\n      <th>1</th>\n      <td>153</td>\n      <td>2</td>\n      <td>MEDIUM</td>\n      <td>3</td>\n    </tr>\n    <tr>\n      <th>2</th>\n      <td>1056</td>\n      <td>3</td>\n      <td>MEDIUM</td>\n      <td>3</td>\n    </tr>\n    <tr>\n      <th>3</th>\n      <td>1057</td>\n      <td>3</td>\n      <td>MEDIUM</td>\n      <td>3</td>\n    </tr>\n    <tr>\n      <th>4</th>\n      <td>155</td>\n      <td>3</td>\n      <td>MEDIUM</td>\n      <td>3</td>\n    </tr>\n    <tr>\n      <th>...</th>\n      <td>...</td>\n      <td>...</td>\n      <td>...</td>\n      <td>...</td>\n    </tr>\n    <tr>\n      <th>85</th>\n      <td>98</td>\n      <td>4</td>\n      <td>HIGH</td>\n      <td>4</td>\n    </tr>\n    <tr>\n      <th>86</th>\n      <td>99</td>\n      <td>3</td>\n      <td>MEDIUM</td>\n      <td>3</td>\n    </tr>\n    <tr>\n      <th>87</th>\n      <td>34</td>\n      <td>3</td>\n      <td>MEDIUM</td>\n      <td>3</td>\n    </tr>\n    <tr>\n      <th>88</th>\n      <td>310</td>\n      <td>2</td>\n      <td>MEDIUM</td>\n      <td>2</td>\n    </tr>\n    <tr>\n      <th>89</th>\n      <td>309</td>\n      <td>3</td>\n      <td>MEDIUM</td>\n      <td>2</td>\n    </tr>\n  </tbody>\n</table>\n<p>86 rows × 4 columns</p>\n</div>"
     },
     "metadata": {},
     "execution_count": 27
    }
   ],
   "source": [
    "q='''select distinct v.id, severity, CVSS2_severity, CVSS3_severity from npmAlert nA\n",
    "join vulnerability v on nA.vulnerabilityId = v.id\n",
    "where toolId=3\n",
    "and cveId is not null\n",
    "union\n",
    "select distinct v.id, severity, CVSS2_severity, CVSS3_severity from mavenAlert nA\n",
    "join vulnerability v on nA.vulnerabilityId = v.id\n",
    "where toolId=3\n",
    "and cveId is not null;'''\n",
    "df=sql.pd_read_sql(q)\n",
    "df.loc[(df.severity=='LOW'),'severity']=1\n",
    "df.loc[(df.severity=='MODERATE'),'severity']=2\n",
    "df.loc[(df.severity=='HIGH'),'severity']=3\n",
    "df.loc[(df.severity=='CRITICAL'),'severity']=4\n",
    "df.loc[df['CVSS3_severity']=='LOW','CVSS3_severity']=1\n",
    "df.loc[df['CVSS3_severity']=='MEDIUM','CVSS3_severity']=2\n",
    "df.loc[df['CVSS3_severity']=='HIGH','CVSS3_severity']=3\n",
    "df.loc[df['CVSS3_severity']=='CRITICAL','CVSS3_severity']=4\n",
    "df = df[df['CVSS3_severity'].notna()]\n",
    "df"
   ]
  },
  {
   "cell_type": "code",
   "execution_count": 28,
   "metadata": {
    "tags": []
   },
   "outputs": [
    {
     "output_type": "stream",
     "name": "stdout",
     "text": "-1 2\n0 30\n1 42\n2 12\n"
    }
   ],
   "source": [
    "df['d'] = df['CVSS3_severity'] - df.severity\n",
    "dfs = df.groupby('d')\n",
    "for name, group in dfs:\n",
    "    print(name, len(group))"
   ]
  },
  {
   "cell_type": "code",
   "execution_count": null,
   "metadata": {},
   "outputs": [],
   "source": []
  }
 ]
}