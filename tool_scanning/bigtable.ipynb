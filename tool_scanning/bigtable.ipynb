{
 "metadata": {
  "language_info": {
   "codemirror_mode": {
    "name": "ipython",
    "version": 3
   },
   "file_extension": ".py",
   "mimetype": "text/x-python",
   "name": "python",
   "nbconvert_exporter": "python",
   "pygments_lexer": "ipython3",
   "version": "3.7.7-final"
  },
  "orig_nbformat": 2,
  "kernelspec": {
   "name": "Python 3.7.7 64-bit",
   "display_name": "Python 3.7.7 64-bit",
   "metadata": {
    "interpreter": {
     "hash": "aee8b7b246df8f9039afb4144a1f6fd8d2ca17a180786b69acc140d282b71a49"
    }
   }
  }
 },
 "nbformat": 4,
 "nbformat_minor": 2,
 "cells": [
  {
   "cell_type": "code",
   "execution_count": 1,
   "metadata": {},
   "outputs": [],
   "source": [
    "from matplotlib_venn import venn2, venn2_circles, venn2_unweighted\n",
    "from matplotlib_venn import venn3, venn3_circles\n",
    "from matplotlib import pyplot as plt\n",
    "import os, sys\n",
    "sys.path.append('..')\n",
    "import common, sql\n",
    "import pandas as pd"
   ]
  },
  {
   "source": [
    "q='''select distinct t.name as tool, d.packageId as id\n",
    "    from mavenAlert mA\n",
    "    join dependency d on mA.dependencyId = d.id\n",
    "    join tool t on mA.toolId = t.id'''\n",
    "fullDf= sql.pd_read_sql(q)\n",
    "deps = []\n",
    "tools = []\n",
    "#deps[i] will be the dep list for tool[i]\n",
    "for tool, df in fullDf.groupby('tool'):\n",
    "    tools.append(tool)\n",
    "    s = set(df.id)\n",
    "    deps.append(s)\n",
    "arr= [[0 for x in range(len(tools))] for x in range(len(tools))]\n",
    "for i in range(len(arr)):\n",
    "    arr[i][i]=100.0\n",
    "for i in range(len(tools)):\n",
    "    for j in range(i+1, len(tools)):\n",
    "        #how many of i's deps is common with j's?\n",
    "        total = len(deps[i])\n",
    "        common = total - len(deps[i]-deps[j])\n",
    "        ratio = round(common/total * 100,1)\n",
    "        arr[i][j] = ratio\n",
    "\n",
    "        #how many of j's deps is common with i's\n",
    "        total = len(deps[j])\n",
    "        common = total - len(deps[j]-deps[i])\n",
    "        ratio = round(common/total * 100,1)\n",
    "        arr[j][i] = ratio\n",
    "arr\n"
   ],
   "cell_type": "code",
   "metadata": {},
   "execution_count": 35,
   "outputs": [
    {
     "output_type": "execute_result",
     "data": {
      "text/plain": "[[100.0, 40.0, 95.0, 95.0, 100.0, 75.0, 85.0],\n [22.2, 100.0, 61.1, 75.0, 94.4, 97.2, 38.9],\n [5.7, 6.6, 100.0, 17.5, 19.3, 15.4, 12.0],\n [19.8, 28.1, 60.4, 100.0, 88.5, 60.4, 54.2],\n [18.7, 31.8, 59.8, 79.4, 100.0, 61.7, 50.5],\n [16.5, 38.5, 56.0, 63.7, 72.5, 100.0, 41.8],\n [22.4, 18.4, 52.6, 68.4, 71.1, 50.0, 100.0]]"
     },
     "metadata": {},
     "execution_count": 35
    }
   ]
  },
  {
   "cell_type": "code",
   "execution_count": 36,
   "metadata": {
    "tags": []
   },
   "outputs": [
    {
     "output_type": "stream",
     "name": "stdout",
     "text": "Github Dependabot&amp;Maven Security Versions&amp;OWASP Dependency-Check&amp;Snyk&amp;SourceClear&amp;Steady&amp;WhiteSource\n\\\\\nGithub Dependabot&amp;100.0\\%&amp;40.0\\%&amp;95.0\\%&amp;95.0\\%&amp;100.0\\%&amp;75.0\\%&amp;85.0\\%\n\\\\\nMaven Security Versions&amp;22.2\\%&amp;100.0\\%&amp;61.1\\%&amp;75.0\\%&amp;94.4\\%&amp;97.2\\%&amp;38.9\\%\n\\\\\nOWASP Dependency-Check&amp;5.7\\%&amp;6.6\\%&amp;100.0\\%&amp;17.5\\%&amp;19.3\\%&amp;15.4\\%&amp;12.0\\%\n\\\\\nSnyk&amp;19.8\\%&amp;28.1\\%&amp;60.4\\%&amp;100.0\\%&amp;88.5\\%&amp;60.4\\%&amp;54.2\\%\n\\\\\nSourceClear&amp;18.7\\%&amp;31.8\\%&amp;59.8\\%&amp;79.4\\%&amp;100.0\\%&amp;61.7\\%&amp;50.5\\%\n\\\\\nSteady&amp;16.5\\%&amp;38.5\\%&amp;56.0\\%&amp;63.7\\%&amp;72.5\\%&amp;100.0\\%&amp;41.8\\%\n\\\\\nWhiteSource&amp;22.4\\%&amp;18.4\\%&amp;52.6\\%&amp;68.4\\%&amp;71.1\\%&amp;50.0\\%&amp;100.0\\%\n\\\\\n"
    }
   ],
   "source": [
    "print('&'.join(tools)) \n",
    "print('\\\\\\\\')\n",
    "for i in range(len(arr)):\n",
    "    temp = [tools[i]]\n",
    "    for j in range(len(arr[i])):\n",
    "        temp.append(str(arr[i][j]) + '\\\\%')\n",
    "    print('&'.join(temp))\n",
    "    print('\\\\\\\\')\n",
    "    \n",
    "\n",
    "    "
   ]
  },
  {
   "cell_type": "code",
   "execution_count": 39,
   "metadata": {
    "tags": []
   },
   "outputs": [
    {
     "output_type": "stream",
     "name": "stdout",
     "text": "0.35294117647058826\n0.29411764705882354\n0.7647058823529411\n0.9411764705882353\n0.9411764705882353\n0.7647058823529411\n0.7647058823529411\n"
    }
   ],
   "source": [
    "q='select packageId from contrast'\n",
    "df= sql.pd_read_sql(q)\n",
    "s=set(df.packageId)\n",
    "for i in range(len(tools)):\n",
    "    total = len(s)\n",
    "    common = total - (len(s-deps[i]))\n",
    "    print(common/total)"
   ]
  },
  {
   "cell_type": "code",
   "execution_count": 44,
   "metadata": {
    "tags": []
   },
   "outputs": [
    {
     "output_type": "stream",
     "name": "stdout",
     "text": "Github Dependabot\n0.3\nMaven Security Versions\n0.1388888888888889\nOWASP Dependency-Check\n0.0391566265060241\nSnyk\n0.16666666666666666\nSourceClear\n0.14953271028037382\nSteady\n0.14285714285714285\nWhiteSource\n0.17105263157894737\n"
    }
   ],
   "source": [
    "q='select packageId from contrast'\n",
    "df= sql.pd_read_sql(q)\n",
    "s=set(df.packageId)\n",
    "for i in range(len(tools)):\n",
    "    print(tools[i])\n",
    "    total = len(deps[i])\n",
    "    common = total - (len(deps[i]-s))\n",
    "    print(common/total)"
   ]
  },
  {
   "cell_type": "code",
   "execution_count": 28,
   "metadata": {},
   "outputs": [
    {
     "output_type": "execute_result",
     "data": {
      "text/plain": "[[100.0, 25.0, 37.5, 40.6, 50.0],\n [13.8, 100.0, 82.8, 63.8, 62.1],\n [5.0, 20.1, 100.0, 31.8, 30.5],\n [14.4, 41.1, 84.4, 100.0, 86.7],\n [18.0, 40.4, 82.0, 87.6, 100.0]]"
     },
     "metadata": {},
     "execution_count": 28
    }
   ],
   "source": [
    "q='''select distinct t.name as tool, d.packageId as id\n",
    "    from npmAlert nA\n",
    "    join dependency d on nA.dependencyId = d.id\n",
    "    join tool t on nA.toolId = t.id'''\n",
    "fullDf= sql.pd_read_sql(q)\n",
    "\n",
    "deps = []\n",
    "tools = []\n",
    "#deps[i] will be the dep list for tool[i]\n",
    "for tool, df in fullDf.groupby('tool'):\n",
    "    tools.append(tool)\n",
    "    s = set(df.id)\n",
    "    deps.append(s)\n",
    "arr= [[0 for x in range(len(tools))] for x in range(len(tools))]\n",
    "for i in range(len(arr)):\n",
    "    arr[i][i]=100.0\n",
    "for i in range(len(tools)):\n",
    "    for j in range(i+1, len(tools)):\n",
    "        #how many of i's deps is common with j's?\n",
    "        total = len(deps[i])\n",
    "        common = total - len(deps[i]-deps[j])\n",
    "        ratio = round(common/total * 100,1)\n",
    "        arr[i][j] = ratio\n",
    "\n",
    "        #how many of j's deps is common with i's\n",
    "        total = len(deps[j])\n",
    "        common = total - len(deps[j]-deps[i])\n",
    "        ratio = round(common/total * 100,1)\n",
    "        arr[j][i] = ratio\n",
    "arr"
   ]
  },
  {
   "cell_type": "code",
   "execution_count": 29,
   "metadata": {
    "tags": []
   },
   "outputs": [
    {
     "output_type": "stream",
     "name": "stdout",
     "text": "Github Dependabot&amp;NPM Audit&amp;OWASP Dependency-Check&amp;Snyk&amp;WhiteSource\n\\\\\nGithub Dependabot&amp;100.0\\%&amp;25.0\\%&amp;37.5\\%&amp;40.6\\%&amp;50.0\\%\n\\\\\nNPM Audit&amp;13.8\\%&amp;100.0\\%&amp;82.8\\%&amp;63.8\\%&amp;62.1\\%\n\\\\\nOWASP Dependency-Check&amp;5.0\\%&amp;20.1\\%&amp;100.0\\%&amp;31.8\\%&amp;30.5\\%\n\\\\\nSnyk&amp;14.4\\%&amp;41.1\\%&amp;84.4\\%&amp;100.0\\%&amp;86.7\\%\n\\\\\nWhiteSource&amp;18.0\\%&amp;40.4\\%&amp;82.0\\%&amp;87.6\\%&amp;100.0\\%\n\\\\\n"
    }
   ],
   "source": [
    "print('&'.join(tools)) \n",
    "print('\\\\\\\\')\n",
    "for i in range(len(arr)):\n",
    "    temp = [tools[i]]\n",
    "    for j in range(len(arr[i])):\n",
    "        temp.append(str(arr[i][j]) + '\\\\%')\n",
    "    print('&'.join(temp))\n",
    "    print('\\\\\\\\')\n",
    "    "
   ]
  },
  {
   "cell_type": "code",
   "execution_count": null,
   "metadata": {},
   "outputs": [],
   "source": []
  }
 ]
}