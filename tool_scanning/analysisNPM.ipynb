{
 "metadata": {
  "language_info": {
   "codemirror_mode": {
    "name": "ipython",
    "version": 3
   },
   "file_extension": ".py",
   "mimetype": "text/x-python",
   "name": "python",
   "nbconvert_exporter": "python",
   "pygments_lexer": "ipython3",
   "version": "3.7.7-final"
  },
  "orig_nbformat": 2,
  "kernelspec": {
   "name": "Python 3.7.7 64-bit",
   "display_name": "Python 3.7.7 64-bit",
   "metadata": {
    "interpreter": {
     "hash": "aee8b7b246df8f9039afb4144a1f6fd8d2ca17a180786b69acc140d282b71a49"
    }
   }
  }
 },
 "nbformat": 4,
 "nbformat_minor": 2,
 "cells": [
  {
   "cell_type": "code",
   "execution_count": 1,
   "metadata": {},
   "outputs": [],
   "source": [
    "import os, sys\n",
    "sys.path.append('..')\n",
    "import common, sql\n",
    "import pandas as pd"
   ]
  },
  {
   "cell_type": "code",
   "execution_count": 2,
   "metadata": {},
   "outputs": [
    {
     "output_type": "execute_result",
     "data": {
      "text/plain": "[{'id': 2, 'name': 'Snyk'},\n {'id': 3, 'name': 'Github Dependabot'},\n {'id': 4, 'name': 'OWASP Dependency-Check'},\n {'id': 5, 'name': 'NPM Audit'},\n {'id': 6, 'name': 'Contrast'},\n {'id': 7, 'name': 'WhiteSource'},\n {'id': 8, 'name': 'Seeker'},\n {'id': 9, 'name': 'Steady'}]"
     },
     "metadata": {},
     "execution_count": 2
    }
   ],
   "source": [
    "q='''select * from tool\n",
    "where id not in (1);'''\n",
    "tools=sql.execute(q)\n",
    "tools"
   ]
  },
  {
   "cell_type": "code",
   "execution_count": 3,
   "metadata": {
    "tags": []
   },
   "outputs": [
    {
     "output_type": "stream",
     "name": "stdout",
     "text": "Snyk 2210 135.0\nGithub Dependabot 97 8.0\nOWASP Dependency-Check 1379 208.0\nNPM Audit 1266 37.0\nContrast 0 0.0\nWhiteSource 205 32.0\nSeeker 0 0.0\nSteady 0 0.0\n"
    }
   ],
   "source": [
    "for tool in tools:\n",
    "    toolId = tool['id']\n",
    "    toolName = tool['name']\n",
    "    q='''select r.id, ifnull(sub.alerts,0) as alerts from repository r\n",
    "        left join\n",
    "        (select repositoryId, sum(nA.count)as alerts from npmAlert nA\n",
    "        join dependency d on nA.dependencyId = d.id\n",
    "        join vulnerability v on nA.vulnerabilityId = v.id\n",
    "        where toolId=%s\n",
    "        group by repositoryId) sub\n",
    "        on r.id=sub.repositoryId\n",
    "        where r.id in (8,20,25,33,44)\n",
    "        order by r.id;'''\n",
    "    df=pd.DataFrame(sql.execute(q,(toolId,)))\n",
    "    print(toolName, df.alerts.sum(), df.alerts.median())"
   ]
  },
  {
   "cell_type": "code",
   "execution_count": 4,
   "metadata": {
    "tags": []
   },
   "outputs": [
    {
     "output_type": "execute_result",
     "data": {
      "text/plain": "   id                    name  count(distinct nA.dependencyPathId)\n0   2                    Snyk                                 1004\n1   3       Github Dependabot                                    0\n2   4  OWASP Dependency-Check                                  498\n3   5               NPM Audit                                  852\n4   7             WhiteSource                                    0",
      "text/html": "<div>\n<style scoped>\n    .dataframe tbody tr th:only-of-type {\n        vertical-align: middle;\n    }\n\n    .dataframe tbody tr th {\n        vertical-align: top;\n    }\n\n    .dataframe thead th {\n        text-align: right;\n    }\n</style>\n<table border=\"1\" class=\"dataframe\">\n  <thead>\n    <tr style=\"text-align: right;\">\n      <th></th>\n      <th>id</th>\n      <th>name</th>\n      <th>count(distinct nA.dependencyPathId)</th>\n    </tr>\n  </thead>\n  <tbody>\n    <tr>\n      <th>0</th>\n      <td>2</td>\n      <td>Snyk</td>\n      <td>1004</td>\n    </tr>\n    <tr>\n      <th>1</th>\n      <td>3</td>\n      <td>Github Dependabot</td>\n      <td>0</td>\n    </tr>\n    <tr>\n      <th>2</th>\n      <td>4</td>\n      <td>OWASP Dependency-Check</td>\n      <td>498</td>\n    </tr>\n    <tr>\n      <th>3</th>\n      <td>5</td>\n      <td>NPM Audit</td>\n      <td>852</td>\n    </tr>\n    <tr>\n      <th>4</th>\n      <td>7</td>\n      <td>WhiteSource</td>\n      <td>0</td>\n    </tr>\n  </tbody>\n</table>\n</div>"
     },
     "metadata": {},
     "execution_count": 4
    }
   ],
   "source": [
    "q='''select t.id, t.name, count(distinct nA.dependencyPathId)\n",
    "from npmAlert nA\n",
    "join dependency d on nA.dependencyId = d.id\n",
    "join package p on d.packageId = p.id\n",
    "join vulnerability v on nA.vulnerabilityId = v.id\n",
    "join tool t on nA.toolId = t.id\n",
    "group by t.id, t.name\n",
    "order by t.id;'''\n",
    "df=sql.pd_read_sql(q)\n",
    "df"
   ]
  },
  {
   "cell_type": "code",
   "execution_count": 5,
   "metadata": {
    "tags": []
   },
   "outputs": [
    {
     "output_type": "stream",
     "name": "stdout",
     "text": "Snyk 44.0\nGithub Dependabot 0.0\nOWASP Dependency-Check 72.0\nNPM Audit 28.0\nContrast 0.0\nWhiteSource 0.0\nSeeker 0.0\nSteady 0.0\n"
    }
   ],
   "source": [
    "for tool in tools:\n",
    "    toolId = tool['id']\n",
    "    toolName = tool['name']\n",
    "    q='''select r.id, ifnull(sub.c,0) as c from repository r\n",
    "        left join\n",
    "        (select repositoryId, count(distinct nA.dependencyPathId) as c\n",
    "        from npmAlert nA\n",
    "        join dependency d on nA.dependencyId = d.id\n",
    "        join package p on d.packageId = p.id\n",
    "        join vulnerability v on nA.vulnerabilityId = v.id\n",
    "        join tool t on nA.toolId = t.id\n",
    "        where toolId=%s\n",
    "        group by repositoryId) sub\n",
    "        on r.id=sub.repositoryId\n",
    "        where r.id in (8,20,25,33,44)\n",
    "        order by r.id;'''\n",
    "    df=pd.DataFrame(sql.execute(q,(toolId,)))\n",
    "    print(toolName, df.c.median())"
   ]
  },
  {
   "cell_type": "code",
   "execution_count": 6,
   "metadata": {},
   "outputs": [
    {
     "output_type": "execute_result",
     "data": {
      "text/plain": "   id                    name  count(distinct d.packageId)\n0   2                    Snyk                           90\n1   3       Github Dependabot                           32\n2   4  OWASP Dependency-Check                          239\n3   5               NPM Audit                           58\n4   7             WhiteSource                           89",
      "text/html": "<div>\n<style scoped>\n    .dataframe tbody tr th:only-of-type {\n        vertical-align: middle;\n    }\n\n    .dataframe tbody tr th {\n        vertical-align: top;\n    }\n\n    .dataframe thead th {\n        text-align: right;\n    }\n</style>\n<table border=\"1\" class=\"dataframe\">\n  <thead>\n    <tr style=\"text-align: right;\">\n      <th></th>\n      <th>id</th>\n      <th>name</th>\n      <th>count(distinct d.packageId)</th>\n    </tr>\n  </thead>\n  <tbody>\n    <tr>\n      <th>0</th>\n      <td>2</td>\n      <td>Snyk</td>\n      <td>90</td>\n    </tr>\n    <tr>\n      <th>1</th>\n      <td>3</td>\n      <td>Github Dependabot</td>\n      <td>32</td>\n    </tr>\n    <tr>\n      <th>2</th>\n      <td>4</td>\n      <td>OWASP Dependency-Check</td>\n      <td>239</td>\n    </tr>\n    <tr>\n      <th>3</th>\n      <td>5</td>\n      <td>NPM Audit</td>\n      <td>58</td>\n    </tr>\n    <tr>\n      <th>4</th>\n      <td>7</td>\n      <td>WhiteSource</td>\n      <td>89</td>\n    </tr>\n  </tbody>\n</table>\n</div>"
     },
     "metadata": {},
     "execution_count": 6
    }
   ],
   "source": [
    "q='''select t.id, t.name, count(distinct d.packageId)\n",
    "from npmAlert nA\n",
    "join dependency d on nA.dependencyId = d.id\n",
    "join package p on d.packageId = p.id\n",
    "join vulnerability v on nA.vulnerabilityId = v.id\n",
    "join tool t on nA.toolId = t.id\n",
    "group by t.id, t.name\n",
    "order by t.id;'''\n",
    "df=sql.pd_read_sql(q)\n",
    "df"
   ]
  },
  {
   "cell_type": "code",
   "execution_count": 7,
   "metadata": {
    "tags": []
   },
   "outputs": [
    {
     "output_type": "stream",
     "name": "stdout",
     "text": "Snyk 20.0\nGithub Dependabot 1.0\nOWASP Dependency-Check 71.0\nNPM Audit 12.0\nContrast 0.0\nWhiteSource 14.0\nSeeker 0.0\nSteady 0.0\n"
    }
   ],
   "source": [
    "for tool in tools:\n",
    "    toolId = tool['id']\n",
    "    toolName = tool['name']\n",
    "    q='''select r.id, ifnull(sub.c,0) as c from repository r\n",
    "        left join\n",
    "        (select repositoryId, count(distinct d.packageId) as c\n",
    "        from npmAlert nA\n",
    "        join dependency d on nA.dependencyId = d.id\n",
    "        join package p on d.packageId = p.id\n",
    "        join vulnerability v on nA.vulnerabilityId = v.id\n",
    "        join tool t on nA.toolId = t.id\n",
    "        where toolId=%s\n",
    "        group by repositoryId) sub\n",
    "        on r.id=sub.repositoryId\n",
    "        where r.id in (8,20,25,33,44)\n",
    "        order by r.id;'''\n",
    "    df=pd.DataFrame(sql.execute(q,(toolId,)))\n",
    "    print(toolName, df.c.median())"
   ]
  },
  {
   "cell_type": "code",
   "execution_count": 8,
   "metadata": {},
   "outputs": [
    {
     "output_type": "execute_result",
     "data": {
      "text/plain": "   id                    name  count(distinct p.artifact)\n0   2                    Snyk                          54\n1   3       Github Dependabot                          30\n2   4  OWASP Dependency-Check                         160\n3   5               NPM Audit                          45\n4   7             WhiteSource                          55",
      "text/html": "<div>\n<style scoped>\n    .dataframe tbody tr th:only-of-type {\n        vertical-align: middle;\n    }\n\n    .dataframe tbody tr th {\n        vertical-align: top;\n    }\n\n    .dataframe thead th {\n        text-align: right;\n    }\n</style>\n<table border=\"1\" class=\"dataframe\">\n  <thead>\n    <tr style=\"text-align: right;\">\n      <th></th>\n      <th>id</th>\n      <th>name</th>\n      <th>count(distinct p.artifact)</th>\n    </tr>\n  </thead>\n  <tbody>\n    <tr>\n      <th>0</th>\n      <td>2</td>\n      <td>Snyk</td>\n      <td>54</td>\n    </tr>\n    <tr>\n      <th>1</th>\n      <td>3</td>\n      <td>Github Dependabot</td>\n      <td>30</td>\n    </tr>\n    <tr>\n      <th>2</th>\n      <td>4</td>\n      <td>OWASP Dependency-Check</td>\n      <td>160</td>\n    </tr>\n    <tr>\n      <th>3</th>\n      <td>5</td>\n      <td>NPM Audit</td>\n      <td>45</td>\n    </tr>\n    <tr>\n      <th>4</th>\n      <td>7</td>\n      <td>WhiteSource</td>\n      <td>55</td>\n    </tr>\n  </tbody>\n</table>\n</div>"
     },
     "metadata": {},
     "execution_count": 8
    }
   ],
   "source": [
    "q='''select t.id, t.name, count(distinct p.artifact)\n",
    "from npmAlert nA\n",
    "join dependency d on nA.dependencyId = d.id\n",
    "join package p on d.packageId = p.id\n",
    "join vulnerability v on nA.vulnerabilityId = v.id\n",
    "join tool t on nA.toolId = t.id\n",
    "group by t.id, t.name\n",
    "order by t.id;'''\n",
    "df=sql.pd_read_sql(q)\n",
    "df"
   ]
  },
  {
   "cell_type": "code",
   "execution_count": 9,
   "metadata": {
    "tags": []
   },
   "outputs": [
    {
     "output_type": "stream",
     "name": "stdout",
     "text": "Snyk 17.0\nGithub Dependabot 1.0\nOWASP Dependency-Check 57.0\nNPM Audit 12.0\nContrast 0.0\nWhiteSource 9.0\nSeeker 0.0\nSteady 0.0\n"
    }
   ],
   "source": [
    "for tool in tools:\n",
    "    toolId = tool['id']\n",
    "    toolName = tool['name']\n",
    "    q='''select r.id, ifnull(sub.c,0) as c from repository r\n",
    "        left join\n",
    "        (select repositoryId, count(distinct p.artifact) as c\n",
    "        from npmAlert nA\n",
    "        join dependency d on nA.dependencyId = d.id\n",
    "        join package p on d.packageId = p.id\n",
    "        join vulnerability v on nA.vulnerabilityId = v.id\n",
    "        join tool t on nA.toolId = t.id\n",
    "        where toolId=%s\n",
    "        group by repositoryId) sub\n",
    "        on r.id=sub.repositoryId\n",
    "        where r.id in (8,20,25,33,44)\n",
    "        order by r.id;'''\n",
    "    df=pd.DataFrame(sql.execute(q,(toolId,)))\n",
    "    print(toolName, df.c.median())"
   ]
  },
  {
   "cell_type": "code",
   "execution_count": 10,
   "metadata": {},
   "outputs": [
    {
     "output_type": "execute_result",
     "data": {
      "text/plain": "   id                    name  count(distinct v.id)\n0   2                    Snyk                   121\n1   3       Github Dependabot                    45\n2   4  OWASP Dependency-Check                   234\n3   5               NPM Audit                    62\n4   7             WhiteSource                    96",
      "text/html": "<div>\n<style scoped>\n    .dataframe tbody tr th:only-of-type {\n        vertical-align: middle;\n    }\n\n    .dataframe tbody tr th {\n        vertical-align: top;\n    }\n\n    .dataframe thead th {\n        text-align: right;\n    }\n</style>\n<table border=\"1\" class=\"dataframe\">\n  <thead>\n    <tr style=\"text-align: right;\">\n      <th></th>\n      <th>id</th>\n      <th>name</th>\n      <th>count(distinct v.id)</th>\n    </tr>\n  </thead>\n  <tbody>\n    <tr>\n      <th>0</th>\n      <td>2</td>\n      <td>Snyk</td>\n      <td>121</td>\n    </tr>\n    <tr>\n      <th>1</th>\n      <td>3</td>\n      <td>Github Dependabot</td>\n      <td>45</td>\n    </tr>\n    <tr>\n      <th>2</th>\n      <td>4</td>\n      <td>OWASP Dependency-Check</td>\n      <td>234</td>\n    </tr>\n    <tr>\n      <th>3</th>\n      <td>5</td>\n      <td>NPM Audit</td>\n      <td>62</td>\n    </tr>\n    <tr>\n      <th>4</th>\n      <td>7</td>\n      <td>WhiteSource</td>\n      <td>96</td>\n    </tr>\n  </tbody>\n</table>\n</div>"
     },
     "metadata": {},
     "execution_count": 10
    }
   ],
   "source": [
    "q='''select t.id, t.name, count(distinct v.id)\n",
    "from npmAlert nA\n",
    "join dependency d on nA.dependencyId = d.id\n",
    "join package p on d.packageId = p.id\n",
    "join vulnerability v on nA.vulnerabilityId = v.id\n",
    "join tool t on nA.toolId = t.id\n",
    "group by t.id, t.name\n",
    "order by t.id;'''\n",
    "df=sql.pd_read_sql(q)\n",
    "df"
   ]
  },
  {
   "cell_type": "code",
   "execution_count": 11,
   "metadata": {
    "tags": []
   },
   "outputs": [
    {
     "output_type": "stream",
     "name": "stdout",
     "text": "Snyk 26.0\nGithub Dependabot 4.0\nOWASP Dependency-Check 71.0\nNPM Audit 16.0\nContrast 0.0\nWhiteSource 18.0\nSeeker 0.0\nSteady 0.0\n"
    }
   ],
   "source": [
    "for tool in tools:\n",
    "    toolId = tool['id']\n",
    "    toolName = tool['name']\n",
    "    q='''select r.id, ifnull(sub.c,0) as c from repository r\n",
    "        left join\n",
    "        (select repositoryId, count(distinct v.id) as c\n",
    "        from npmAlert nA\n",
    "        join dependency d on nA.dependencyId = d.id\n",
    "        join package p on d.packageId = p.id\n",
    "        join vulnerability v on nA.vulnerabilityId = v.id\n",
    "        join tool t on nA.toolId = t.id\n",
    "        where toolId=%s\n",
    "        group by repositoryId) sub\n",
    "        on r.id=sub.repositoryId\n",
    "        where r.id in (8,20,25,33,44)\n",
    "        order by r.id;'''\n",
    "    df=pd.DataFrame(sql.execute(q,(toolId,)))\n",
    "    print(toolName, df.c.median())"
   ]
  },
  {
   "cell_type": "code",
   "execution_count": 12,
   "metadata": {},
   "outputs": [
    {
     "output_type": "execute_result",
     "data": {
      "text/plain": "   id                    name  count(distinct v.id)\n0   2                    Snyk                    79\n1   3       Github Dependabot                    29\n2   4  OWASP Dependency-Check                    78\n3   5               NPM Audit                    31\n4   7             WhiteSource                    58",
      "text/html": "<div>\n<style scoped>\n    .dataframe tbody tr th:only-of-type {\n        vertical-align: middle;\n    }\n\n    .dataframe tbody tr th {\n        vertical-align: top;\n    }\n\n    .dataframe thead th {\n        text-align: right;\n    }\n</style>\n<table border=\"1\" class=\"dataframe\">\n  <thead>\n    <tr style=\"text-align: right;\">\n      <th></th>\n      <th>id</th>\n      <th>name</th>\n      <th>count(distinct v.id)</th>\n    </tr>\n  </thead>\n  <tbody>\n    <tr>\n      <th>0</th>\n      <td>2</td>\n      <td>Snyk</td>\n      <td>79</td>\n    </tr>\n    <tr>\n      <th>1</th>\n      <td>3</td>\n      <td>Github Dependabot</td>\n      <td>29</td>\n    </tr>\n    <tr>\n      <th>2</th>\n      <td>4</td>\n      <td>OWASP Dependency-Check</td>\n      <td>78</td>\n    </tr>\n    <tr>\n      <th>3</th>\n      <td>5</td>\n      <td>NPM Audit</td>\n      <td>31</td>\n    </tr>\n    <tr>\n      <th>4</th>\n      <td>7</td>\n      <td>WhiteSource</td>\n      <td>58</td>\n    </tr>\n  </tbody>\n</table>\n</div>"
     },
     "metadata": {},
     "execution_count": 12
    }
   ],
   "source": [
    "q='''select t.id, t.name, count(distinct v.id)\n",
    "from npmAlert nA\n",
    "join dependency d on nA.dependencyId = d.id\n",
    "join package p on d.packageId = p.id\n",
    "join vulnerability v on nA.vulnerabilityId = v.id\n",
    "join tool t on nA.toolId = t.id\n",
    "where v.cveId is not null and v.sourceId is null\n",
    "group by t.id, t.name\n",
    "order by t.id;'''\n",
    "df=sql.pd_read_sql(q)\n",
    "df"
   ]
  },
  {
   "cell_type": "code",
   "execution_count": 13,
   "metadata": {},
   "outputs": [
    {
     "output_type": "execute_result",
     "data": {
      "text/plain": "   id                    name  count(distinct v.id)\n0   2                    Snyk                    42\n1   3       Github Dependabot                    16\n2   4  OWASP Dependency-Check                   156\n3   5               NPM Audit                    31\n4   7             WhiteSource                    38",
      "text/html": "<div>\n<style scoped>\n    .dataframe tbody tr th:only-of-type {\n        vertical-align: middle;\n    }\n\n    .dataframe tbody tr th {\n        vertical-align: top;\n    }\n\n    .dataframe thead th {\n        text-align: right;\n    }\n</style>\n<table border=\"1\" class=\"dataframe\">\n  <thead>\n    <tr style=\"text-align: right;\">\n      <th></th>\n      <th>id</th>\n      <th>name</th>\n      <th>count(distinct v.id)</th>\n    </tr>\n  </thead>\n  <tbody>\n    <tr>\n      <th>0</th>\n      <td>2</td>\n      <td>Snyk</td>\n      <td>42</td>\n    </tr>\n    <tr>\n      <th>1</th>\n      <td>3</td>\n      <td>Github Dependabot</td>\n      <td>16</td>\n    </tr>\n    <tr>\n      <th>2</th>\n      <td>4</td>\n      <td>OWASP Dependency-Check</td>\n      <td>156</td>\n    </tr>\n    <tr>\n      <th>3</th>\n      <td>5</td>\n      <td>NPM Audit</td>\n      <td>31</td>\n    </tr>\n    <tr>\n      <th>4</th>\n      <td>7</td>\n      <td>WhiteSource</td>\n      <td>38</td>\n    </tr>\n  </tbody>\n</table>\n</div>"
     },
     "metadata": {},
     "execution_count": 13
    }
   ],
   "source": [
    "q='''select t.id, t.name, count(distinct v.id)\n",
    "from npmAlert nA\n",
    "join dependency d on nA.dependencyId = d.id\n",
    "join package p on d.packageId = p.id\n",
    "join vulnerability v on nA.vulnerabilityId = v.id\n",
    "join tool t on nA.toolId = t.id\n",
    "where v.cveId is null and v.sourceId is not null\n",
    "group by t.id, t.name\n",
    "order by t.id;'''\n",
    "df=sql.pd_read_sql(q)\n",
    "df"
   ]
  },
  {
   "cell_type": "code",
   "execution_count": 14,
   "metadata": {},
   "outputs": [
    {
     "output_type": "execute_result",
     "data": {
      "text/plain": "[{'toolId': 1, 'maven': 3.43333, 'npm': None},\n {'toolId': 2, 'maven': 15.1333, 'npm': 1.05},\n {'toolId': 4, 'maven': 14.4167, 'npm': 4.68333},\n {'toolId': 5, 'maven': None, 'npm': 0.133333},\n {'toolId': 9, 'maven': 385.0, 'npm': None}]"
     },
     "metadata": {},
     "execution_count": 14
    }
   ],
   "source": [
    "q='select * from scanMinutes'\n",
    "sql.execute(q)"
   ]
  },
  {
   "cell_type": "code",
   "execution_count": null,
   "metadata": {},
   "outputs": [],
   "source": []
  }
 ]
}