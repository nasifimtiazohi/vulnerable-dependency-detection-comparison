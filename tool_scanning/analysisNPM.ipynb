{
 "metadata": {
  "language_info": {
   "codemirror_mode": {
    "name": "ipython",
    "version": 3
   },
   "file_extension": ".py",
   "mimetype": "text/x-python",
   "name": "python",
   "nbconvert_exporter": "python",
   "pygments_lexer": "ipython3",
   "version": "3.7.7-final"
  },
  "orig_nbformat": 2,
  "kernelspec": {
   "name": "python_defaultSpec_1599505694350",
   "display_name": "Python 3.7.7 64-bit"
  }
 },
 "nbformat": 4,
 "nbformat_minor": 2,
 "cells": [
  {
   "cell_type": "code",
   "execution_count": 5,
   "metadata": {},
   "outputs": [],
   "source": [
    "import os, sys\n",
    "sys.path.append('..')\n",
    "import common, sql\n",
    "import pandas as pd"
   ]
  },
  {
   "cell_type": "code",
   "execution_count": 6,
   "metadata": {},
   "outputs": [
    {
     "output_type": "execute_result",
     "data": {
      "text/plain": "[{'id': 2, 'name': 'Snyk'},\n {'id': 3, 'name': 'Github Dependabot'},\n {'id': 4, 'name': 'OWASP Dependency-Check'},\n {'id': 5, 'name': 'NPM Audit'}]"
     },
     "metadata": {},
     "execution_count": 6
    }
   ],
   "source": [
    "q='''select * from tool\n",
    "where id not in (1);'''\n",
    "tools=sql.execute(q)\n",
    "tools"
   ]
  },
  {
   "cell_type": "code",
   "execution_count": 9,
   "metadata": {
    "tags": []
   },
   "outputs": [
    {
     "output_type": "stream",
     "name": "stdout",
     "text": "Snyk 2100 76.0\nGithub Dependabot 48 4.0\nOWASP Dependency-Check 677 60.0\nNPM Audit 1229 37.0\n"
    }
   ],
   "source": [
    "for tool in tools:\n",
    "    toolId = tool['id']\n",
    "    toolName = tool['name']\n",
    "    q='''select r.id, ifnull(sub.alerts,0) as alerts from repository r\n",
    "        left join\n",
    "        (select repositoryId, sum(nA.count)as alerts from npmAlert nA\n",
    "        join dependency d on nA.dependencyId = d.id\n",
    "        join vulnerability v on nA.vulnerabilityId = v.id\n",
    "        where toolId=%s\n",
    "        group by repositoryId) sub\n",
    "        on r.id=sub.repositoryId\n",
    "        where r.id in (8,20,25,33,44)\n",
    "        order by r.id;'''\n",
    "    df=pd.DataFrame(sql.execute(q,(toolId,)))\n",
    "    print(toolName, df.alerts.sum(), df.alerts.median())"
   ]
  },
  {
   "cell_type": "code",
   "execution_count": 13,
   "metadata": {
    "tags": []
   },
   "outputs": [
    {
     "output_type": "execute_result",
     "data": {
      "text/plain": "   id                    name  count(distinct nA.dependencyPathId)\n0   2                    Snyk                                  954\n1   3       Github Dependabot                                    0\n2   4  OWASP Dependency-Check                                  236\n3   5               NPM Audit                                  815",
      "text/html": "<div>\n<style scoped>\n    .dataframe tbody tr th:only-of-type {\n        vertical-align: middle;\n    }\n\n    .dataframe tbody tr th {\n        vertical-align: top;\n    }\n\n    .dataframe thead th {\n        text-align: right;\n    }\n</style>\n<table border=\"1\" class=\"dataframe\">\n  <thead>\n    <tr style=\"text-align: right;\">\n      <th></th>\n      <th>id</th>\n      <th>name</th>\n      <th>count(distinct nA.dependencyPathId)</th>\n    </tr>\n  </thead>\n  <tbody>\n    <tr>\n      <th>0</th>\n      <td>2</td>\n      <td>Snyk</td>\n      <td>954</td>\n    </tr>\n    <tr>\n      <th>1</th>\n      <td>3</td>\n      <td>Github Dependabot</td>\n      <td>0</td>\n    </tr>\n    <tr>\n      <th>2</th>\n      <td>4</td>\n      <td>OWASP Dependency-Check</td>\n      <td>236</td>\n    </tr>\n    <tr>\n      <th>3</th>\n      <td>5</td>\n      <td>NPM Audit</td>\n      <td>815</td>\n    </tr>\n  </tbody>\n</table>\n</div>"
     },
     "metadata": {},
     "execution_count": 13
    }
   ],
   "source": [
    "q='''select t.id, t.name, count(distinct nA.dependencyPathId)\n",
    "from npmAlert nA\n",
    "join dependency d on nA.dependencyId = d.id\n",
    "join package p on d.packageId = p.id\n",
    "join vulnerability v on nA.vulnerabilityId = v.id\n",
    "join tool t on nA.toolId = t.id\n",
    "group by t.id, t.name\n",
    "order by t.id;'''\n",
    "df=sql.pd_read_sql(q)\n",
    "df"
   ]
  },
  {
   "cell_type": "code",
   "execution_count": 15,
   "metadata": {
    "tags": []
   },
   "outputs": [
    {
     "output_type": "stream",
     "name": "stdout",
     "text": "Snyk 40.0\nGithub Dependabot 0.0\nOWASP Dependency-Check 10.0\nNPM Audit 28.0\n"
    }
   ],
   "source": [
    "for tool in tools:\n",
    "    toolId = tool['id']\n",
    "    toolName = tool['name']\n",
    "    q='''select r.id, ifnull(sub.c,0) as c from repository r\n",
    "        left join\n",
    "        (select repositoryId, count(distinct nA.dependencyPathId) as c\n",
    "        from npmAlert nA\n",
    "        join dependency d on nA.dependencyId = d.id\n",
    "        join package p on d.packageId = p.id\n",
    "        join vulnerability v on nA.vulnerabilityId = v.id\n",
    "        join tool t on nA.toolId = t.id\n",
    "        where toolId=%s\n",
    "        group by repositoryId) sub\n",
    "        on r.id=sub.repositoryId\n",
    "        where r.id in (8,20,25,33,44)\n",
    "        order by r.id;'''\n",
    "    df=pd.DataFrame(sql.execute(q,(toolId,)))\n",
    "    print(toolName, df.c.median())"
   ]
  },
  {
   "cell_type": "code",
   "execution_count": 24,
   "metadata": {},
   "outputs": [
    {
     "output_type": "execute_result",
     "data": {
      "text/plain": "   id                    name  count(distinct d.packageId)\n0   2                    Snyk                           89\n1   3       Github Dependabot                           31\n2   4  OWASP Dependency-Check                          190\n3   5               NPM Audit                           55",
      "text/html": "<div>\n<style scoped>\n    .dataframe tbody tr th:only-of-type {\n        vertical-align: middle;\n    }\n\n    .dataframe tbody tr th {\n        vertical-align: top;\n    }\n\n    .dataframe thead th {\n        text-align: right;\n    }\n</style>\n<table border=\"1\" class=\"dataframe\">\n  <thead>\n    <tr style=\"text-align: right;\">\n      <th></th>\n      <th>id</th>\n      <th>name</th>\n      <th>count(distinct d.packageId)</th>\n    </tr>\n  </thead>\n  <tbody>\n    <tr>\n      <th>0</th>\n      <td>2</td>\n      <td>Snyk</td>\n      <td>89</td>\n    </tr>\n    <tr>\n      <th>1</th>\n      <td>3</td>\n      <td>Github Dependabot</td>\n      <td>31</td>\n    </tr>\n    <tr>\n      <th>2</th>\n      <td>4</td>\n      <td>OWASP Dependency-Check</td>\n      <td>190</td>\n    </tr>\n    <tr>\n      <th>3</th>\n      <td>5</td>\n      <td>NPM Audit</td>\n      <td>55</td>\n    </tr>\n  </tbody>\n</table>\n</div>"
     },
     "metadata": {},
     "execution_count": 24
    }
   ],
   "source": [
    "q='''select t.id, t.name, count(distinct d.packageId)\n",
    "from npmAlert nA\n",
    "join dependency d on nA.dependencyId = d.id\n",
    "join package p on d.packageId = p.id\n",
    "join vulnerability v on nA.vulnerabilityId = v.id\n",
    "join tool t on nA.toolId = t.id\n",
    "group by t.id, t.name\n",
    "order by t.id;'''\n",
    "df=sql.pd_read_sql(q)\n",
    "df"
   ]
  },
  {
   "cell_type": "code",
   "execution_count": 25,
   "metadata": {
    "tags": []
   },
   "outputs": [
    {
     "output_type": "stream",
     "name": "stdout",
     "text": "Snyk 19.0\nGithub Dependabot 1.0\nOWASP Dependency-Check 10.0\nNPM Audit 11.0\n"
    }
   ],
   "source": [
    "for tool in tools:\n",
    "    toolId = tool['id']\n",
    "    toolName = tool['name']\n",
    "    q='''select r.id, ifnull(sub.c,0) as c from repository r\n",
    "        left join\n",
    "        (select repositoryId, count(distinct d.packageId) as c\n",
    "        from npmAlert nA\n",
    "        join dependency d on nA.dependencyId = d.id\n",
    "        join package p on d.packageId = p.id\n",
    "        join vulnerability v on nA.vulnerabilityId = v.id\n",
    "        join tool t on nA.toolId = t.id\n",
    "        where toolId=%s\n",
    "        group by repositoryId) sub\n",
    "        on r.id=sub.repositoryId\n",
    "        where r.id in (8,20,25,33,44)\n",
    "        order by r.id;'''\n",
    "    df=pd.DataFrame(sql.execute(q,(toolId,)))\n",
    "    print(toolName, df.c.median())"
   ]
  },
  {
   "cell_type": "code",
   "execution_count": 26,
   "metadata": {},
   "outputs": [
    {
     "output_type": "execute_result",
     "data": {
      "text/plain": "   id                    name  count(distinct p.artifact)\n0   2                    Snyk                          53\n1   3       Github Dependabot                          29\n2   4  OWASP Dependency-Check                         134\n3   5               NPM Audit                          43",
      "text/html": "<div>\n<style scoped>\n    .dataframe tbody tr th:only-of-type {\n        vertical-align: middle;\n    }\n\n    .dataframe tbody tr th {\n        vertical-align: top;\n    }\n\n    .dataframe thead th {\n        text-align: right;\n    }\n</style>\n<table border=\"1\" class=\"dataframe\">\n  <thead>\n    <tr style=\"text-align: right;\">\n      <th></th>\n      <th>id</th>\n      <th>name</th>\n      <th>count(distinct p.artifact)</th>\n    </tr>\n  </thead>\n  <tbody>\n    <tr>\n      <th>0</th>\n      <td>2</td>\n      <td>Snyk</td>\n      <td>53</td>\n    </tr>\n    <tr>\n      <th>1</th>\n      <td>3</td>\n      <td>Github Dependabot</td>\n      <td>29</td>\n    </tr>\n    <tr>\n      <th>2</th>\n      <td>4</td>\n      <td>OWASP Dependency-Check</td>\n      <td>134</td>\n    </tr>\n    <tr>\n      <th>3</th>\n      <td>5</td>\n      <td>NPM Audit</td>\n      <td>43</td>\n    </tr>\n  </tbody>\n</table>\n</div>"
     },
     "metadata": {},
     "execution_count": 26
    }
   ],
   "source": [
    "q='''select t.id, t.name, count(distinct p.artifact)\n",
    "from npmAlert nA\n",
    "join dependency d on nA.dependencyId = d.id\n",
    "join package p on d.packageId = p.id\n",
    "join vulnerability v on nA.vulnerabilityId = v.id\n",
    "join tool t on nA.toolId = t.id\n",
    "group by t.id, t.name\n",
    "order by t.id;'''\n",
    "df=sql.pd_read_sql(q)\n",
    "df"
   ]
  },
  {
   "cell_type": "code",
   "execution_count": 27,
   "metadata": {
    "tags": []
   },
   "outputs": [
    {
     "output_type": "stream",
     "name": "stdout",
     "text": "Snyk 16.0\nGithub Dependabot 1.0\nOWASP Dependency-Check 7.0\nNPM Audit 11.0\n"
    }
   ],
   "source": [
    "for tool in tools:\n",
    "    toolId = tool['id']\n",
    "    toolName = tool['name']\n",
    "    q='''select r.id, ifnull(sub.c,0) as c from repository r\n",
    "        left join\n",
    "        (select repositoryId, count(distinct p.artifact) as c\n",
    "        from npmAlert nA\n",
    "        join dependency d on nA.dependencyId = d.id\n",
    "        join package p on d.packageId = p.id\n",
    "        join vulnerability v on nA.vulnerabilityId = v.id\n",
    "        join tool t on nA.toolId = t.id\n",
    "        where toolId=%s\n",
    "        group by repositoryId) sub\n",
    "        on r.id=sub.repositoryId\n",
    "        where r.id in (8,20,25,33,44)\n",
    "        order by r.id;'''\n",
    "    df=pd.DataFrame(sql.execute(q,(toolId,)))\n",
    "    print(toolName, df.c.median())"
   ]
  },
  {
   "cell_type": "code",
   "execution_count": 28,
   "metadata": {},
   "outputs": [
    {
     "output_type": "execute_result",
     "data": {
      "text/plain": "   id                    name  count(distinct v.id)\n0   2                    Snyk                   119\n1   3       Github Dependabot                    44\n2   4  OWASP Dependency-Check                   219\n3   5               NPM Audit                    60",
      "text/html": "<div>\n<style scoped>\n    .dataframe tbody tr th:only-of-type {\n        vertical-align: middle;\n    }\n\n    .dataframe tbody tr th {\n        vertical-align: top;\n    }\n\n    .dataframe thead th {\n        text-align: right;\n    }\n</style>\n<table border=\"1\" class=\"dataframe\">\n  <thead>\n    <tr style=\"text-align: right;\">\n      <th></th>\n      <th>id</th>\n      <th>name</th>\n      <th>count(distinct v.id)</th>\n    </tr>\n  </thead>\n  <tbody>\n    <tr>\n      <th>0</th>\n      <td>2</td>\n      <td>Snyk</td>\n      <td>119</td>\n    </tr>\n    <tr>\n      <th>1</th>\n      <td>3</td>\n      <td>Github Dependabot</td>\n      <td>44</td>\n    </tr>\n    <tr>\n      <th>2</th>\n      <td>4</td>\n      <td>OWASP Dependency-Check</td>\n      <td>219</td>\n    </tr>\n    <tr>\n      <th>3</th>\n      <td>5</td>\n      <td>NPM Audit</td>\n      <td>60</td>\n    </tr>\n  </tbody>\n</table>\n</div>"
     },
     "metadata": {},
     "execution_count": 28
    }
   ],
   "source": [
    "q='''select t.id, t.name, count(distinct v.id)\n",
    "from npmAlert nA\n",
    "join dependency d on nA.dependencyId = d.id\n",
    "join package p on d.packageId = p.id\n",
    "join vulnerability v on nA.vulnerabilityId = v.id\n",
    "join tool t on nA.toolId = t.id\n",
    "group by t.id, t.name\n",
    "order by t.id;'''\n",
    "df=sql.pd_read_sql(q)\n",
    "df"
   ]
  },
  {
   "cell_type": "code",
   "execution_count": 29,
   "metadata": {
    "tags": []
   },
   "outputs": [
    {
     "output_type": "stream",
     "name": "stdout",
     "text": "Snyk 26.0\nGithub Dependabot 4.0\nOWASP Dependency-Check 37.0\nNPM Audit 15.0\n"
    }
   ],
   "source": [
    "for tool in tools:\n",
    "    toolId = tool['id']\n",
    "    toolName = tool['name']\n",
    "    q='''select r.id, ifnull(sub.c,0) as c from repository r\n",
    "        left join\n",
    "        (select repositoryId, count(distinct v.id) as c\n",
    "        from npmAlert nA\n",
    "        join dependency d on nA.dependencyId = d.id\n",
    "        join package p on d.packageId = p.id\n",
    "        join vulnerability v on nA.vulnerabilityId = v.id\n",
    "        join tool t on nA.toolId = t.id\n",
    "        where toolId=%s\n",
    "        group by repositoryId) sub\n",
    "        on r.id=sub.repositoryId\n",
    "        where r.id in (8,20,25,33,44)\n",
    "        order by r.id;'''\n",
    "    df=pd.DataFrame(sql.execute(q,(toolId,)))\n",
    "    print(toolName, df.c.median())"
   ]
  },
  {
   "cell_type": "code",
   "execution_count": 30,
   "metadata": {},
   "outputs": [
    {
     "output_type": "execute_result",
     "data": {
      "text/plain": "   id                    name  count(distinct v.id)\n0   2                    Snyk                    77\n1   3       Github Dependabot                    28\n2   4  OWASP Dependency-Check                    51\n3   5               NPM Audit                    30",
      "text/html": "<div>\n<style scoped>\n    .dataframe tbody tr th:only-of-type {\n        vertical-align: middle;\n    }\n\n    .dataframe tbody tr th {\n        vertical-align: top;\n    }\n\n    .dataframe thead th {\n        text-align: right;\n    }\n</style>\n<table border=\"1\" class=\"dataframe\">\n  <thead>\n    <tr style=\"text-align: right;\">\n      <th></th>\n      <th>id</th>\n      <th>name</th>\n      <th>count(distinct v.id)</th>\n    </tr>\n  </thead>\n  <tbody>\n    <tr>\n      <th>0</th>\n      <td>2</td>\n      <td>Snyk</td>\n      <td>77</td>\n    </tr>\n    <tr>\n      <th>1</th>\n      <td>3</td>\n      <td>Github Dependabot</td>\n      <td>28</td>\n    </tr>\n    <tr>\n      <th>2</th>\n      <td>4</td>\n      <td>OWASP Dependency-Check</td>\n      <td>51</td>\n    </tr>\n    <tr>\n      <th>3</th>\n      <td>5</td>\n      <td>NPM Audit</td>\n      <td>30</td>\n    </tr>\n  </tbody>\n</table>\n</div>"
     },
     "metadata": {},
     "execution_count": 30
    }
   ],
   "source": [
    "q='''select t.id, t.name, count(distinct v.id)\n",
    "from npmAlert nA\n",
    "join dependency d on nA.dependencyId = d.id\n",
    "join package p on d.packageId = p.id\n",
    "join vulnerability v on nA.vulnerabilityId = v.id\n",
    "join tool t on nA.toolId = t.id\n",
    "where v.cveId is not null and v.sourceId is null\n",
    "group by t.id, t.name\n",
    "order by t.id;'''\n",
    "df=sql.pd_read_sql(q)\n",
    "df"
   ]
  },
  {
   "cell_type": "code",
   "execution_count": 31,
   "metadata": {},
   "outputs": [
    {
     "output_type": "execute_result",
     "data": {
      "text/plain": "   id                    name  count(distinct v.id)\n0   2                    Snyk                    42\n1   3       Github Dependabot                    16\n2   4  OWASP Dependency-Check                   168\n3   5               NPM Audit                    30",
      "text/html": "<div>\n<style scoped>\n    .dataframe tbody tr th:only-of-type {\n        vertical-align: middle;\n    }\n\n    .dataframe tbody tr th {\n        vertical-align: top;\n    }\n\n    .dataframe thead th {\n        text-align: right;\n    }\n</style>\n<table border=\"1\" class=\"dataframe\">\n  <thead>\n    <tr style=\"text-align: right;\">\n      <th></th>\n      <th>id</th>\n      <th>name</th>\n      <th>count(distinct v.id)</th>\n    </tr>\n  </thead>\n  <tbody>\n    <tr>\n      <th>0</th>\n      <td>2</td>\n      <td>Snyk</td>\n      <td>42</td>\n    </tr>\n    <tr>\n      <th>1</th>\n      <td>3</td>\n      <td>Github Dependabot</td>\n      <td>16</td>\n    </tr>\n    <tr>\n      <th>2</th>\n      <td>4</td>\n      <td>OWASP Dependency-Check</td>\n      <td>168</td>\n    </tr>\n    <tr>\n      <th>3</th>\n      <td>5</td>\n      <td>NPM Audit</td>\n      <td>30</td>\n    </tr>\n  </tbody>\n</table>\n</div>"
     },
     "metadata": {},
     "execution_count": 31
    }
   ],
   "source": [
    "q='''select t.id, t.name, count(distinct v.id)\n",
    "from npmAlert nA\n",
    "join dependency d on nA.dependencyId = d.id\n",
    "join package p on d.packageId = p.id\n",
    "join vulnerability v on nA.vulnerabilityId = v.id\n",
    "join tool t on nA.toolId = t.id\n",
    "where v.cveId is null and v.sourceId is not null\n",
    "group by t.id, t.name\n",
    "order by t.id;'''\n",
    "df=sql.pd_read_sql(q)\n",
    "df"
   ]
  },
  {
   "cell_type": "code",
   "execution_count": 33,
   "metadata": {},
   "outputs": [
    {
     "output_type": "execute_result",
     "data": {
      "text/plain": "[{'toolId': 1, 'maven': 2.46667, 'npm': None},\n {'toolId': 2, 'maven': 16.3667, 'npm': 1.03333},\n {'toolId': 4, 'maven': 10.7333, 'npm': 4.43333}]"
     },
     "metadata": {},
     "execution_count": 33
    }
   ],
   "source": [
    "q='select * from scanMinutes'\n",
    "sql.execute(q)"
   ]
  },
  {
   "cell_type": "code",
   "execution_count": null,
   "metadata": {},
   "outputs": [],
   "source": []
  }
 ]
}