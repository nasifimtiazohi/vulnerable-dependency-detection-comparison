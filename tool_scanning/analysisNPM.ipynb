{
 "metadata": {
  "language_info": {
   "codemirror_mode": {
    "name": "ipython",
    "version": 3
   },
   "file_extension": ".py",
   "mimetype": "text/x-python",
   "name": "python",
   "nbconvert_exporter": "python",
   "pygments_lexer": "ipython3",
   "version": "3.7.7-final"
  },
  "orig_nbformat": 2,
  "kernelspec": {
   "name": "python_defaultSpec_1599156947438",
   "display_name": "Python 3.7.7 64-bit"
  }
 },
 "nbformat": 4,
 "nbformat_minor": 2,
 "cells": [
  {
   "cell_type": "code",
   "execution_count": 1,
   "metadata": {},
   "outputs": [],
   "source": [
    "import os, sys\n",
    "sys.path.append('..')\n",
    "import common, sql\n",
    "import pandas as pd"
   ]
  },
  {
   "cell_type": "code",
   "execution_count": 2,
   "metadata": {
    "tags": []
   },
   "outputs": [
    {
     "output_type": "stream",
     "name": "stdout",
     "text": "Snyk 2153 135.0\n"
    }
   ],
   "source": [
    "q='''select t.name as tool, repositoryId, count(*) as c\n",
    "from npmAlert nA\n",
    "join dependency d on nA.dependencyId = d.id\n",
    "join vulnerability v on nA.vulnerabilityId = v.id\n",
    "join repository r on d.repositoryId = r.id\n",
    "join tool t on nA.toolId = t.id\n",
    "group by t.name, repositoryId;'''\n",
    "results = sql.pd_read_sql(q)\n",
    "for tool, df in results.groupby('tool'):\n",
    "    print(tool, df.c.sum(), df.c.median())"
   ]
  },
  {
   "cell_type": "code",
   "execution_count": 3,
   "metadata": {
    "tags": []
   },
   "outputs": [
    {
     "output_type": "stream",
     "name": "stdout",
     "text": "Snyk 125 20.5\n"
    }
   ],
   "source": [
    "q='''select t.name as tool, repositoryId, count(distinct d.packageId) as c\n",
    "from npmAlert nA\n",
    "join dependency d on nA.dependencyId = d.id\n",
    "join vulnerability v on nA.vulnerabilityId = v.id\n",
    "join repository r on d.repositoryId = r.id\n",
    "join tool t on nA.toolId = t.id\n",
    "group by t.name, repositoryId;'''\n",
    "results = sql.pd_read_sql(q)\n",
    "for tool, df in results.groupby('tool'):\n",
    "    print(tool, df.c.sum(), df.c.median())"
   ]
  },
  {
   "cell_type": "code",
   "execution_count": 4,
   "metadata": {
    "tags": []
   },
   "outputs": [
    {
     "output_type": "stream",
     "name": "stdout",
     "text": "Snyk 191 32.5\n"
    }
   ],
   "source": [
    "q='''select t.name as tool, repositoryId, count(distinct v.id) as c\n",
    "from npmAlert nA\n",
    "join dependency d on nA.dependencyId = d.id\n",
    "join vulnerability v on nA.vulnerabilityId = v.id\n",
    "join repository r on d.repositoryId = r.id\n",
    "join tool t on nA.toolId = t.id\n",
    "group by t.name, repositoryId;'''\n",
    "results = sql.pd_read_sql(q)\n",
    "for tool, df in results.groupby('tool'):\n",
    "    print(tool, df.c.sum(), df.c.median())"
   ]
  },
  {
   "cell_type": "code",
   "execution_count": 5,
   "metadata": {
    "tags": []
   },
   "outputs": [
    {
     "output_type": "stream",
     "name": "stdout",
     "text": "Snyk 115 18.5\n"
    }
   ],
   "source": [
    "q='''select t.name as tool, repositoryId, count(distinct v.id) as c\n",
    "from npmAlert nA\n",
    "join dependency d on nA.dependencyId = d.id\n",
    "join vulnerability v on nA.vulnerabilityId = v.id\n",
    "join repository r on d.repositoryId = r.id\n",
    "join tool t on nA.toolId = t.id\n",
    "where v.cveId is not null and v.sourceId is null\n",
    "group by t.name, repositoryId;'''\n",
    "results = sql.pd_read_sql(q)\n",
    "for tool, df in results.groupby('tool'):\n",
    "    print(tool, df.c.sum(), df.c.median())"
   ]
  },
  {
   "cell_type": "code",
   "execution_count": 6,
   "metadata": {
    "tags": []
   },
   "outputs": [
    {
     "output_type": "stream",
     "name": "stdout",
     "text": "Snyk 76 15.5\n"
    }
   ],
   "source": [
    "q='''select t.name as tool, repositoryId, count(distinct v.id) as c\n",
    "from npmAlert nA\n",
    "join dependency d on nA.dependencyId = d.id\n",
    "join vulnerability v on nA.vulnerabilityId = v.id\n",
    "join repository r on d.repositoryId = r.id\n",
    "join tool t on nA.toolId = t.id\n",
    "where v.cveId is null and v.sourceId is not null\n",
    "group by t.name, repositoryId;'''\n",
    "results = sql.pd_read_sql(q)\n",
    "for tool, df in results.groupby('tool'):\n",
    "    print(tool, df.c.sum(), df.c.median())"
   ]
  },
  {
   "cell_type": "code",
   "execution_count": 9,
   "metadata": {
    "tags": []
   },
   "outputs": [
    {
     "output_type": "stream",
     "name": "stdout",
     "text": "Snyk 16 4.0\n"
    }
   ],
   "source": [
    "q='''select t.name as tool, d.repositoryId, count(distinct d.packageId) as c\n",
    "from npmAlert nA\n",
    "join dependency d on nA.dependencyId = d.id\n",
    "join vulnerability v on nA.vulnerabilityId = v.id\n",
    "join repository r on d.repositoryId = r.id\n",
    "join npmDependencyTree nDT on nDT.packageId=d.packageId\n",
    "join tool t on nA.toolId = t.id\n",
    "where scope ='prod'\n",
    "group by t.name, d.repositoryId;'''\n",
    "results = sql.pd_read_sql(q)\n",
    "for tool, df in results.groupby('tool'):\n",
    "    print(tool, df.c.sum(), df.c.median())"
   ]
  },
  {
   "cell_type": "code",
   "execution_count": 10,
   "metadata": {
    "tags": []
   },
   "outputs": [
    {
     "output_type": "stream",
     "name": "stdout",
     "text": "Snyk 118 19.0\n"
    }
   ],
   "source": [
    "q='''select t.name as tool, d.repositoryId, count(distinct d.packageId) as c\n",
    "from npmAlert nA\n",
    "join dependency d on nA.dependencyId = d.id\n",
    "join vulnerability v on nA.vulnerabilityId = v.id\n",
    "join repository r on d.repositoryId = r.id\n",
    "join npmDependencyTree nDT on nDT.packageId=d.packageId\n",
    "join tool t on nA.toolId = t.id\n",
    "where scope ='dev'\n",
    "group by t.name, d.repositoryId;'''\n",
    "results = sql.pd_read_sql(q)\n",
    "for tool, df in results.groupby('tool'):\n",
    "    print(tool, df.c.sum(), df.c.median())"
   ]
  },
  {
   "cell_type": "code",
   "execution_count": null,
   "metadata": {},
   "outputs": [],
   "source": []
  }
 ]
}