{
 "metadata": {
  "language_info": {
   "codemirror_mode": {
    "name": "ipython",
    "version": 3
   },
   "file_extension": ".py",
   "mimetype": "text/x-python",
   "name": "python",
   "nbconvert_exporter": "python",
   "pygments_lexer": "ipython3",
   "version": "3.7.7-final"
  },
  "orig_nbformat": 2,
  "kernelspec": {
   "name": "python3",
   "display_name": "Python 3"
  }
 },
 "nbformat": 4,
 "nbformat_minor": 2,
 "cells": [
  {
   "cell_type": "code",
   "execution_count": 1,
   "metadata": {},
   "outputs": [],
   "source": [
    "import os, sys\n",
    "sys.path.append('..')\n",
    "import common, sql\n",
    "import pandas as pd"
   ]
  },
  {
   "cell_type": "code",
   "execution_count": 2,
   "metadata": {
    "tags": []
   },
   "outputs": [
    {
     "output_type": "stream",
     "name": "stdout",
     "text": "Maven Security Versions 3197.0 58.0\nSnyk 4968.0 67.0\n"
    }
   ],
   "source": [
    "q='''select t.name as tool, repositoryId, sum(mA.count) as c\n",
    "from mavenAlert mA\n",
    "join derivedMavenDependencyTree dMDT on mA.dependencyId = dMDT.dependencyId\n",
    "join dependency d on dMDT.dependencyId = d.id\n",
    "join tool t on mA.toolId = t.id\n",
    "group by t.name, repositoryId;'''\n",
    "results = sql.pd_read_sql(q)\n",
    "for tool, df in results.groupby('tool'):\n",
    "    print(tool, df.c.sum(), df.c.median())\n"
   ]
  },
  {
   "cell_type": "code",
   "execution_count": 9,
   "metadata": {},
   "outputs": [
    {
     "output_type": "execute_result",
     "data": {
      "text/plain": "                      tool  count(distinct packageId)\n0  Maven Security Versions                         36\n1                     Snyk                         96",
      "text/html": "<div>\n<style scoped>\n    .dataframe tbody tr th:only-of-type {\n        vertical-align: middle;\n    }\n\n    .dataframe tbody tr th {\n        vertical-align: top;\n    }\n\n    .dataframe thead th {\n        text-align: right;\n    }\n</style>\n<table border=\"1\" class=\"dataframe\">\n  <thead>\n    <tr style=\"text-align: right;\">\n      <th></th>\n      <th>tool</th>\n      <th>count(distinct packageId)</th>\n    </tr>\n  </thead>\n  <tbody>\n    <tr>\n      <th>0</th>\n      <td>Maven Security Versions</td>\n      <td>36</td>\n    </tr>\n    <tr>\n      <th>1</th>\n      <td>Snyk</td>\n      <td>96</td>\n    </tr>\n  </tbody>\n</table>\n</div>"
     },
     "metadata": {},
     "execution_count": 9
    }
   ],
   "source": [
    "q='''select t.name as tool, count(distinct packageId)\n",
    "from mavenAlert mA\n",
    "join dependency d on mA.dependencyId = d.id\n",
    "join derivedMavenDependencyTree dMDT on d.id = dMDT.dependencyId\n",
    "join tool t on mA.toolId = t.id\n",
    "group by toolId;'''\n",
    "sql.pd_read_sql(q)"
   ]
  },
  {
   "cell_type": "code",
   "execution_count": 10,
   "metadata": {},
   "outputs": [
    {
     "output_type": "execute_result",
     "data": {
      "text/plain": "                      tool  count(distinct v.id)\n0  Maven Security Versions                    36\n1                     Snyk                   186",
      "text/html": "<div>\n<style scoped>\n    .dataframe tbody tr th:only-of-type {\n        vertical-align: middle;\n    }\n\n    .dataframe tbody tr th {\n        vertical-align: top;\n    }\n\n    .dataframe thead th {\n        text-align: right;\n    }\n</style>\n<table border=\"1\" class=\"dataframe\">\n  <thead>\n    <tr style=\"text-align: right;\">\n      <th></th>\n      <th>tool</th>\n      <th>count(distinct v.id)</th>\n    </tr>\n  </thead>\n  <tbody>\n    <tr>\n      <th>0</th>\n      <td>Maven Security Versions</td>\n      <td>36</td>\n    </tr>\n    <tr>\n      <th>1</th>\n      <td>Snyk</td>\n      <td>186</td>\n    </tr>\n  </tbody>\n</table>\n</div>"
     },
     "metadata": {},
     "execution_count": 10
    }
   ],
   "source": [
    "q='''select t.name as tool, count(distinct v.id)\n",
    "from mavenAlert mA\n",
    "join dependency d on mA.dependencyId = d.id\n",
    "join derivedMavenDependencyTree dMDT on d.id = dMDT.dependencyId\n",
    "join vulnerability v on mA.vulnerabilityId = v.id\n",
    "join tool t on mA.toolId = t.id\n",
    "group by toolId;'''\n",
    "sql.pd_read_sql(q)"
   ]
  },
  {
   "cell_type": "code",
   "execution_count": 5,
   "metadata": {},
   "outputs": [
    {
     "output_type": "execute_result",
     "data": {
      "text/plain": "                      tool  count(distinct v.id)\n0  Maven Security Versions                    36\n1                     Snyk                   175",
      "text/html": "<div>\n<style scoped>\n    .dataframe tbody tr th:only-of-type {\n        vertical-align: middle;\n    }\n\n    .dataframe tbody tr th {\n        vertical-align: top;\n    }\n\n    .dataframe thead th {\n        text-align: right;\n    }\n</style>\n<table border=\"1\" class=\"dataframe\">\n  <thead>\n    <tr style=\"text-align: right;\">\n      <th></th>\n      <th>tool</th>\n      <th>count(distinct v.id)</th>\n    </tr>\n  </thead>\n  <tbody>\n    <tr>\n      <th>0</th>\n      <td>Maven Security Versions</td>\n      <td>36</td>\n    </tr>\n    <tr>\n      <th>1</th>\n      <td>Snyk</td>\n      <td>175</td>\n    </tr>\n  </tbody>\n</table>\n</div>"
     },
     "metadata": {},
     "execution_count": 5
    }
   ],
   "source": [
    "q='''select t.name as tool, count(distinct v.id)\n",
    "from mavenAlert mA\n",
    "join dependency d on mA.dependencyId = d.id\n",
    "join derivedMavenDependencyTree dMDT on d.id = dMDT.dependencyId\n",
    "join vulnerability v on mA.vulnerabilityId = v.id\n",
    "join tool t on mA.toolId = t.id\n",
    "where v.cveId is not null and v.sourceId is null\n",
    "group by toolId;'''\n",
    "sql.pd_read_sql(q)"
   ]
  },
  {
   "cell_type": "code",
   "execution_count": 11,
   "metadata": {
    "tags": []
   },
   "outputs": [
    {
     "output_type": "stream",
     "name": "stdout",
     "text": "Maven Security Versions 12.0\nSnyk 6.0\n"
    }
   ],
   "source": [
    "q='''select t.name as tool, repositoryId, count(distinct packageId) as c\n",
    "from mavenAlert mA\n",
    "join dependency d on mA.dependencyId = d.id\n",
    "join derivedMavenDependencyTree dMDT on d.id = dMDT.dependencyId\n",
    "join tool t on mA.toolId = t.id\n",
    "group by toolId, repositoryId;'''\n",
    "results = sql.pd_read_sql(q)\n",
    "for tool, df in results.groupby('tool'):\n",
    "    print(tool,df.c.median()) "
   ]
  },
  {
   "cell_type": "code",
   "execution_count": 7,
   "metadata": {
    "tags": []
   },
   "outputs": [
    {
     "output_type": "stream",
     "name": "stdout",
     "text": "Maven Security Versions 22.0\nSnyk 26.5\n"
    }
   ],
   "source": [
    "q='''select t.name as tool, repositoryId, count(distinct v.id) as c\n",
    "from mavenAlert mA\n",
    "join dependency d on mA.dependencyId = d.id\n",
    "join derivedMavenDependencyTree dMDT on d.id = dMDT.dependencyId\n",
    "join vulnerability v on mA.vulnerabilityId = v.id\n",
    "join tool t on mA.toolId = t.id\n",
    "group by toolId, repositoryId;'''\n",
    "results = sql.pd_read_sql(q)\n",
    "for tool, df in results.groupby('tool'):\n",
    "    print(tool,df.c.median()) "
   ]
  },
  {
   "cell_type": "code",
   "execution_count": 8,
   "metadata": {},
   "outputs": [
    {
     "output_type": "execute_result",
     "data": {
      "text/plain": "                      tool     scope  deps  vuln\n0  Maven Security Versions   compile     6     9\n1  Maven Security Versions  provided    35    35\n2  Maven Security Versions      test     5     9\n3                     Snyk   compile    40    97\n4                     Snyk  provided    75   181\n5                     Snyk   runtime     1     2\n6                     Snyk      test    21    22",
      "text/html": "<div>\n<style scoped>\n    .dataframe tbody tr th:only-of-type {\n        vertical-align: middle;\n    }\n\n    .dataframe tbody tr th {\n        vertical-align: top;\n    }\n\n    .dataframe thead th {\n        text-align: right;\n    }\n</style>\n<table border=\"1\" class=\"dataframe\">\n  <thead>\n    <tr style=\"text-align: right;\">\n      <th></th>\n      <th>tool</th>\n      <th>scope</th>\n      <th>deps</th>\n      <th>vuln</th>\n    </tr>\n  </thead>\n  <tbody>\n    <tr>\n      <th>0</th>\n      <td>Maven Security Versions</td>\n      <td>compile</td>\n      <td>6</td>\n      <td>9</td>\n    </tr>\n    <tr>\n      <th>1</th>\n      <td>Maven Security Versions</td>\n      <td>provided</td>\n      <td>35</td>\n      <td>35</td>\n    </tr>\n    <tr>\n      <th>2</th>\n      <td>Maven Security Versions</td>\n      <td>test</td>\n      <td>5</td>\n      <td>9</td>\n    </tr>\n    <tr>\n      <th>3</th>\n      <td>Snyk</td>\n      <td>compile</td>\n      <td>40</td>\n      <td>97</td>\n    </tr>\n    <tr>\n      <th>4</th>\n      <td>Snyk</td>\n      <td>provided</td>\n      <td>75</td>\n      <td>181</td>\n    </tr>\n    <tr>\n      <th>5</th>\n      <td>Snyk</td>\n      <td>runtime</td>\n      <td>1</td>\n      <td>2</td>\n    </tr>\n    <tr>\n      <th>6</th>\n      <td>Snyk</td>\n      <td>test</td>\n      <td>21</td>\n      <td>22</td>\n    </tr>\n  </tbody>\n</table>\n</div>"
     },
     "metadata": {},
     "execution_count": 8
    }
   ],
   "source": [
    "q='''select t.name as tool, scope, count(distinct d.packageId) as deps, count(distinct v.id) as vuln\n",
    "from mavenAlert mA\n",
    "join dependency d on mA.dependencyId=d.id\n",
    "join vulnerability v on mA.vulnerabilityId=v.id\n",
    "join derivedMavenDependencyTree dMDT on d.id = dMDT.dependencyId\n",
    "join tool t on t.id=mA.toolId\n",
    "group by toolId, scope;'''\n",
    "sql.pd_read_sql(q)"
   ]
  }
 ]
}