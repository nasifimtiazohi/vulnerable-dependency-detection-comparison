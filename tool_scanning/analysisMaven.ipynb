{
 "metadata": {
  "language_info": {
   "codemirror_mode": {
    "name": "ipython",
    "version": 3
   },
   "file_extension": ".py",
   "mimetype": "text/x-python",
   "name": "python",
   "nbconvert_exporter": "python",
   "pygments_lexer": "ipython3",
   "version": "3.7.7-final"
  },
  "orig_nbformat": 2,
  "kernelspec": {
   "name": "python3",
   "display_name": "Python 3"
  }
 },
 "nbformat": 4,
 "nbformat_minor": 2,
 "cells": [
  {
   "cell_type": "code",
   "execution_count": 5,
   "metadata": {},
   "outputs": [],
   "source": [
    "import os, sys\n",
    "sys.path.append('..')\n",
    "import common, sql\n",
    "import pandas as pd"
   ]
  },
  {
   "cell_type": "code",
   "execution_count": 2,
   "metadata": {},
   "outputs": [
    {
     "output_type": "execute_result",
     "data": {
      "text/plain": "[{'id': 1, 'name': 'Maven Security Versions'},\n {'id': 2, 'name': 'Snyk'},\n {'id': 3, 'name': 'Github Dependabot'},\n {'id': 4, 'name': 'OWASP Dependency-Check'},\n {'id': 6, 'name': 'Contrast'},\n {'id': 7, 'name': 'WhiteSource'},\n {'id': 8, 'name': 'Seeker'},\n {'id': 9, 'name': 'Steady'},\n {'id': 10, 'name': 'SourceClear'}]"
     },
     "metadata": {},
     "execution_count": 2
    }
   ],
   "source": [
    "q='''select * from tool\n",
    "where id not in (5);'''\n",
    "tools=sql.execute(q)\n",
    "tools"
   ]
  },
  {
   "cell_type": "code",
   "execution_count": 3,
   "metadata": {
    "tags": []
   },
   "outputs": [
    {
     "output_type": "stream",
     "name": "stdout",
     "text": "Maven Security Versions 3197.0 58.0\nSnyk 5073.0 64.0\nGithub Dependabot 136.0 0.0\nOWASP Dependency-Check 12466.0 254.0\nContrast 0.0 0.0\nWhiteSource 434.0 0.0\nSeeker 0.0 0.0\nSteady 2489.0 51.0\nSourceClear 2998.0000022649765 70.0\n"
    }
   ],
   "source": [
    "for tool in tools:\n",
    "    toolId = tool['id']\n",
    "    toolName = tool['name']\n",
    "    q='''select r.id, ifnull(sub.alerts,0) as alerts from repository r\n",
    "        left join\n",
    "        (select repositoryId, sum(mA.count)as alerts from mavenAlert mA\n",
    "        join dependency d on mA.dependencyId = d.id\n",
    "        where toolId=%s\n",
    "        group by repositoryId) sub\n",
    "        on r.id=sub.repositoryId\n",
    "        where r.id != 44\n",
    "        order by r.id;'''\n",
    "    df=pd.DataFrame(sql.execute(q,(toolId,)))\n",
    "    print(toolName, df.alerts.sum(), df.alerts.median())"
   ]
  },
  {
   "cell_type": "code",
   "execution_count": 4,
   "metadata": {},
   "outputs": [
    {
     "output_type": "execute_result",
     "data": {
      "text/plain": "   id                     name  count(distinct p.id)\n0   1  Maven Security Versions                    36\n1   2                     Snyk                    96\n2   3        Github Dependabot                    20\n3   4   OWASP Dependency-Check                   332\n4   7              WhiteSource                    76\n5   9                   Steady                    91\n6  10              SourceClear                   107",
      "text/html": "<div>\n<style scoped>\n    .dataframe tbody tr th:only-of-type {\n        vertical-align: middle;\n    }\n\n    .dataframe tbody tr th {\n        vertical-align: top;\n    }\n\n    .dataframe thead th {\n        text-align: right;\n    }\n</style>\n<table border=\"1\" class=\"dataframe\">\n  <thead>\n    <tr style=\"text-align: right;\">\n      <th></th>\n      <th>id</th>\n      <th>name</th>\n      <th>count(distinct p.id)</th>\n    </tr>\n  </thead>\n  <tbody>\n    <tr>\n      <th>0</th>\n      <td>1</td>\n      <td>Maven Security Versions</td>\n      <td>36</td>\n    </tr>\n    <tr>\n      <th>1</th>\n      <td>2</td>\n      <td>Snyk</td>\n      <td>96</td>\n    </tr>\n    <tr>\n      <th>2</th>\n      <td>3</td>\n      <td>Github Dependabot</td>\n      <td>20</td>\n    </tr>\n    <tr>\n      <th>3</th>\n      <td>4</td>\n      <td>OWASP Dependency-Check</td>\n      <td>332</td>\n    </tr>\n    <tr>\n      <th>4</th>\n      <td>7</td>\n      <td>WhiteSource</td>\n      <td>76</td>\n    </tr>\n    <tr>\n      <th>5</th>\n      <td>9</td>\n      <td>Steady</td>\n      <td>91</td>\n    </tr>\n    <tr>\n      <th>6</th>\n      <td>10</td>\n      <td>SourceClear</td>\n      <td>107</td>\n    </tr>\n  </tbody>\n</table>\n</div>"
     },
     "metadata": {},
     "execution_count": 4
    }
   ],
   "source": [
    "q='''select t.id, t.name, count(distinct p.id)\n",
    "from mavenAlert mA\n",
    "join dependency d on mA.dependencyId = d.id\n",
    "join package p on d.packageId = p.id\n",
    "join tool t on mA.toolId = t.id\n",
    "group by t.id,t.name\n",
    "order by t.id;'''\n",
    "df=sql.pd_read_sql(q)\n",
    "df"
   ]
  },
  {
   "cell_type": "code",
   "execution_count": 5,
   "metadata": {
    "tags": []
   },
   "outputs": [
    {
     "output_type": "stream",
     "name": "stdout",
     "text": "Maven Security Versions 12.0\nSnyk 6.0\nGithub Dependabot 0.0\nOWASP Dependency-Check 38.0\nContrast 0.0\nWhiteSource 0.0\nSeeker 0.0\nSteady 20.0\nSourceClear 24.0\n"
    }
   ],
   "source": [
    "for tool in tools:\n",
    "    toolId = tool['id']\n",
    "    toolName = tool['name']\n",
    "    q='''select r.id, ifnull(sub.deps,0) as deps from repository r\n",
    "        left join\n",
    "        (select repositoryId, count(distinct packageId) as deps from mavenAlert mA\n",
    "        join dependency d on mA.dependencyId = d.id\n",
    "        where toolId=%s\n",
    "        group by repositoryId) sub\n",
    "        on r.id=sub.repositoryId\n",
    "        where r.id != 44\n",
    "        order by r.id;'''\n",
    "    df=pd.DataFrame(sql.execute(q,(toolId,)))\n",
    "    print(toolName, df.deps.median())"
   ]
  },
  {
   "cell_type": "code",
   "execution_count": 6,
   "metadata": {},
   "outputs": [
    {
     "output_type": "execute_result",
     "data": {
      "text/plain": "   id                     name  count(distinct p.artifact)\n0   1  Maven Security Versions                          14\n1   2                     Snyk                          46\n2   3        Github Dependabot                          11\n3   4   OWASP Dependency-Check                         149\n4   7              WhiteSource                          44\n5   9                   Steady                          39\n6  10              SourceClear                          53",
      "text/html": "<div>\n<style scoped>\n    .dataframe tbody tr th:only-of-type {\n        vertical-align: middle;\n    }\n\n    .dataframe tbody tr th {\n        vertical-align: top;\n    }\n\n    .dataframe thead th {\n        text-align: right;\n    }\n</style>\n<table border=\"1\" class=\"dataframe\">\n  <thead>\n    <tr style=\"text-align: right;\">\n      <th></th>\n      <th>id</th>\n      <th>name</th>\n      <th>count(distinct p.artifact)</th>\n    </tr>\n  </thead>\n  <tbody>\n    <tr>\n      <th>0</th>\n      <td>1</td>\n      <td>Maven Security Versions</td>\n      <td>14</td>\n    </tr>\n    <tr>\n      <th>1</th>\n      <td>2</td>\n      <td>Snyk</td>\n      <td>46</td>\n    </tr>\n    <tr>\n      <th>2</th>\n      <td>3</td>\n      <td>Github Dependabot</td>\n      <td>11</td>\n    </tr>\n    <tr>\n      <th>3</th>\n      <td>4</td>\n      <td>OWASP Dependency-Check</td>\n      <td>149</td>\n    </tr>\n    <tr>\n      <th>4</th>\n      <td>7</td>\n      <td>WhiteSource</td>\n      <td>44</td>\n    </tr>\n    <tr>\n      <th>5</th>\n      <td>9</td>\n      <td>Steady</td>\n      <td>39</td>\n    </tr>\n    <tr>\n      <th>6</th>\n      <td>10</td>\n      <td>SourceClear</td>\n      <td>53</td>\n    </tr>\n  </tbody>\n</table>\n</div>"
     },
     "metadata": {},
     "execution_count": 6
    }
   ],
   "source": [
    "q='''select t.id, t.name, count(distinct p.artifact)\n",
    "from mavenAlert mA\n",
    "join dependency d on mA.dependencyId = d.id\n",
    "join package p on d.packageId = p.id\n",
    "join tool t on mA.toolId = t.id\n",
    "group by t.id,t.name\n",
    "order by t.id;'''\n",
    "df=sql.pd_read_sql(q)\n",
    "df"
   ]
  },
  {
   "cell_type": "code",
   "execution_count": 7,
   "metadata": {
    "tags": []
   },
   "outputs": [
    {
     "output_type": "stream",
     "name": "stdout",
     "text": "Maven Security Versions 12.0\nSnyk 6.0\nGithub Dependabot 0.0\nOWASP Dependency-Check 36.0\nContrast 0.0\nWhiteSource 0.0\nSeeker 0.0\nSteady 19.0\nSourceClear 24.0\n"
    }
   ],
   "source": [
    "for tool in tools:\n",
    "    toolId = tool['id']\n",
    "    toolName = tool['name']\n",
    "    q='''select r.id, ifnull(sub.deps,0) as packages from repository r\n",
    "        left join\n",
    "        (select repositoryId, count(distinct p.artifact) as deps from mavenAlert mA\n",
    "        join dependency d on mA.dependencyId = d.id\n",
    "        join package p on d.packageId = p.id\n",
    "        where toolId=%s\n",
    "        group by repositoryId) sub\n",
    "        on r.id=sub.repositoryId\n",
    "        where r.id != 44\n",
    "        order by r.id;'''\n",
    "    df=pd.DataFrame(sql.execute(q,(toolId,)))\n",
    "    print(toolName, df.packages.median())"
   ]
  },
  {
   "cell_type": "code",
   "execution_count": 8,
   "metadata": {},
   "outputs": [
    {
     "output_type": "execute_result",
     "data": {
      "text/plain": "   id                     name  count(distinct v.id)\n0   1  Maven Security Versions                    36\n1   2                     Snyk                   189\n2   3        Github Dependabot                    61\n3   4   OWASP Dependency-Check                   313\n4   7              WhiteSource                   146\n5   9                   Steady                    97\n6  10              SourceClear                   208",
      "text/html": "<div>\n<style scoped>\n    .dataframe tbody tr th:only-of-type {\n        vertical-align: middle;\n    }\n\n    .dataframe tbody tr th {\n        vertical-align: top;\n    }\n\n    .dataframe thead th {\n        text-align: right;\n    }\n</style>\n<table border=\"1\" class=\"dataframe\">\n  <thead>\n    <tr style=\"text-align: right;\">\n      <th></th>\n      <th>id</th>\n      <th>name</th>\n      <th>count(distinct v.id)</th>\n    </tr>\n  </thead>\n  <tbody>\n    <tr>\n      <th>0</th>\n      <td>1</td>\n      <td>Maven Security Versions</td>\n      <td>36</td>\n    </tr>\n    <tr>\n      <th>1</th>\n      <td>2</td>\n      <td>Snyk</td>\n      <td>189</td>\n    </tr>\n    <tr>\n      <th>2</th>\n      <td>3</td>\n      <td>Github Dependabot</td>\n      <td>61</td>\n    </tr>\n    <tr>\n      <th>3</th>\n      <td>4</td>\n      <td>OWASP Dependency-Check</td>\n      <td>313</td>\n    </tr>\n    <tr>\n      <th>4</th>\n      <td>7</td>\n      <td>WhiteSource</td>\n      <td>146</td>\n    </tr>\n    <tr>\n      <th>5</th>\n      <td>9</td>\n      <td>Steady</td>\n      <td>97</td>\n    </tr>\n    <tr>\n      <th>6</th>\n      <td>10</td>\n      <td>SourceClear</td>\n      <td>208</td>\n    </tr>\n  </tbody>\n</table>\n</div>"
     },
     "metadata": {},
     "execution_count": 8
    }
   ],
   "source": [
    "q='''select t.id, t.name, count(distinct v.id)\n",
    "from mavenAlert mA\n",
    "join dependency d on mA.dependencyId = d.id\n",
    "join package p on d.packageId = p.id\n",
    "join tool t on mA.toolId = t.id\n",
    "join vulnerability v on mA.vulnerabilityId = v.id\n",
    "group by t.id,t.name\n",
    "order by t.id;'''\n",
    "df=sql.pd_read_sql(q)\n",
    "df"
   ]
  },
  {
   "cell_type": "code",
   "execution_count": 9,
   "metadata": {
    "tags": []
   },
   "outputs": [
    {
     "output_type": "stream",
     "name": "stdout",
     "text": "Maven Security Versions 22.0\nSnyk 23.0\nGithub Dependabot 0.0\nOWASP Dependency-Check 117.0\nContrast 0.0\nWhiteSource 0.0\nSeeker 0.0\nSteady 41.0\nSourceClear 70.0\n"
    }
   ],
   "source": [
    "for tool in tools:\n",
    "    toolId = tool['id']\n",
    "    toolName = tool['name']\n",
    "    q='''select r.id, ifnull(sub.vuln,0) as vuln from repository r\n",
    "        left join\n",
    "        (select repositoryId, count(distinct v.id) as vuln from mavenAlert mA\n",
    "        join dependency d on mA.dependencyId = d.id\n",
    "        join package p on d.packageId = p.id\n",
    "        join vulnerability v on mA.vulnerabilityId = v.id\n",
    "        where toolId=%s\n",
    "        group by repositoryId) sub\n",
    "        on r.id=sub.repositoryId\n",
    "        where r.id != 44\n",
    "        order by r.id;'''\n",
    "    df=pd.DataFrame(sql.execute(q,(toolId,)))\n",
    "    print(toolName, df.vuln.median())"
   ]
  },
  {
   "cell_type": "code",
   "execution_count": 10,
   "metadata": {},
   "outputs": [
    {
     "output_type": "execute_result",
     "data": {
      "text/plain": "   id                     name  count(distinct v.id)\n0   1  Maven Security Versions                    36\n1   2                     Snyk                   178\n2   3        Github Dependabot                    61\n3   4   OWASP Dependency-Check                   289\n4   7              WhiteSource                   127\n5   9                   Steady                    89\n6  10              SourceClear                   187",
      "text/html": "<div>\n<style scoped>\n    .dataframe tbody tr th:only-of-type {\n        vertical-align: middle;\n    }\n\n    .dataframe tbody tr th {\n        vertical-align: top;\n    }\n\n    .dataframe thead th {\n        text-align: right;\n    }\n</style>\n<table border=\"1\" class=\"dataframe\">\n  <thead>\n    <tr style=\"text-align: right;\">\n      <th></th>\n      <th>id</th>\n      <th>name</th>\n      <th>count(distinct v.id)</th>\n    </tr>\n  </thead>\n  <tbody>\n    <tr>\n      <th>0</th>\n      <td>1</td>\n      <td>Maven Security Versions</td>\n      <td>36</td>\n    </tr>\n    <tr>\n      <th>1</th>\n      <td>2</td>\n      <td>Snyk</td>\n      <td>178</td>\n    </tr>\n    <tr>\n      <th>2</th>\n      <td>3</td>\n      <td>Github Dependabot</td>\n      <td>61</td>\n    </tr>\n    <tr>\n      <th>3</th>\n      <td>4</td>\n      <td>OWASP Dependency-Check</td>\n      <td>289</td>\n    </tr>\n    <tr>\n      <th>4</th>\n      <td>7</td>\n      <td>WhiteSource</td>\n      <td>127</td>\n    </tr>\n    <tr>\n      <th>5</th>\n      <td>9</td>\n      <td>Steady</td>\n      <td>89</td>\n    </tr>\n    <tr>\n      <th>6</th>\n      <td>10</td>\n      <td>SourceClear</td>\n      <td>187</td>\n    </tr>\n  </tbody>\n</table>\n</div>"
     },
     "metadata": {},
     "execution_count": 10
    }
   ],
   "source": [
    "q='''select t.id, t.name, count(distinct v.id)\n",
    "from mavenAlert mA\n",
    "join dependency d on mA.dependencyId = d.id\n",
    "join package p on d.packageId = p.id\n",
    "join tool t on mA.toolId = t.id\n",
    "join vulnerability v on mA.vulnerabilityId = v.id\n",
    "where v.cveId is not null and v.sourceId is null\n",
    "group by t.id,t.name\n",
    "order by t.id;'''\n",
    "df=sql.pd_read_sql(q)\n",
    "df"
   ]
  },
  {
   "cell_type": "code",
   "execution_count": 11,
   "metadata": {},
   "outputs": [
    {
     "output_type": "execute_result",
     "data": {
      "text/plain": "   toolId      maven       npm\n0       1    3.43333       NaN\n1       2   15.13330  1.050000\n2       4   14.41670  4.683330\n3       5        NaN  0.133333\n4       9  385.00000       NaN",
      "text/html": "<div>\n<style scoped>\n    .dataframe tbody tr th:only-of-type {\n        vertical-align: middle;\n    }\n\n    .dataframe tbody tr th {\n        vertical-align: top;\n    }\n\n    .dataframe thead th {\n        text-align: right;\n    }\n</style>\n<table border=\"1\" class=\"dataframe\">\n  <thead>\n    <tr style=\"text-align: right;\">\n      <th></th>\n      <th>toolId</th>\n      <th>maven</th>\n      <th>npm</th>\n    </tr>\n  </thead>\n  <tbody>\n    <tr>\n      <th>0</th>\n      <td>1</td>\n      <td>3.43333</td>\n      <td>NaN</td>\n    </tr>\n    <tr>\n      <th>1</th>\n      <td>2</td>\n      <td>15.13330</td>\n      <td>1.050000</td>\n    </tr>\n    <tr>\n      <th>2</th>\n      <td>4</td>\n      <td>14.41670</td>\n      <td>4.683330</td>\n    </tr>\n    <tr>\n      <th>3</th>\n      <td>5</td>\n      <td>NaN</td>\n      <td>0.133333</td>\n    </tr>\n    <tr>\n      <th>4</th>\n      <td>9</td>\n      <td>385.00000</td>\n      <td>NaN</td>\n    </tr>\n  </tbody>\n</table>\n</div>"
     },
     "metadata": {},
     "execution_count": 11
    }
   ],
   "source": [
    "q='select * from scanMinutes'\n",
    "df=sql.pd_read_sql(q)\n",
    "df"
   ]
  },
  {
   "cell_type": "code",
   "execution_count": 12,
   "metadata": {
    "tags": []
   },
   "outputs": [
    {
     "output_type": "stream",
     "name": "stdout",
     "text": "Github Dependabot 2.0\nMaven Security Versions 12.0\nOWASP Dependency-Check 23.0\nSnyk 6.0\nSourceClear 26.0\nSteady 20.5\nWhiteSource 3.0\n"
    }
   ],
   "source": [
    "q='''select t.name as tool, repositoryId, count(distinct packageId) as c\n",
    "from mavenAlert mA\n",
    "join dependency d on mA.dependencyId = d.id\n",
    "join derivedMavenDependencyTree dMDT on d.id = dMDT.dependencyId\n",
    "join tool t on mA.toolId = t.id\n",
    "group by toolId, repositoryId;'''\n",
    "results = sql.pd_read_sql(q)\n",
    "for tool, df in results.groupby('tool'):\n",
    "    print(tool,df.c.median()) "
   ]
  },
  {
   "cell_type": "code",
   "execution_count": 13,
   "metadata": {
    "tags": []
   },
   "outputs": [
    {
     "output_type": "stream",
     "name": "stdout",
     "text": "Github Dependabot 3.0\nMaven Security Versions 22.0\nOWASP Dependency-Check 93.0\nSnyk 27.5\nSourceClear 71.0\nSteady 41.0\nWhiteSource 27.0\n"
    }
   ],
   "source": [
    "q='''select t.name as tool, repositoryId, count(distinct v.id) as c\n",
    "from mavenAlert mA\n",
    "join dependency d on mA.dependencyId = d.id\n",
    "join derivedMavenDependencyTree dMDT on d.id = dMDT.dependencyId\n",
    "join vulnerability v on mA.vulnerabilityId = v.id\n",
    "join tool t on mA.toolId = t.id\n",
    "group by toolId, repositoryId;'''\n",
    "results = sql.pd_read_sql(q)\n",
    "for tool, df in results.groupby('tool'):\n",
    "    print(tool,df.c.median()) "
   ]
  },
  {
   "cell_type": "code",
   "execution_count": 14,
   "metadata": {},
   "outputs": [
    {
     "output_type": "execute_result",
     "data": {
      "text/plain": "                       tool     scope  deps  vuln\n0   Maven Security Versions   compile    19    27\n1   Maven Security Versions  provided    30    35\n2   Maven Security Versions   runtime     1     1\n3   Maven Security Versions      test     3     2\n4                      Snyk   compile    56   118\n5                      Snyk  provided    62   173\n6                      Snyk   runtime     2     6\n7                      Snyk      test    25    55\n8         Github Dependabot   compile    15    61\n9         Github Dependabot  provided     5     5\n10        Github Dependabot   runtime     1     1\n11        Github Dependabot      test     2     2\n12   OWASP Dependency-Check   compile    58   183\n13   OWASP Dependency-Check  provided    66   249\n14   OWASP Dependency-Check   runtime     4    15\n15              WhiteSource   compile    54   122\n16              WhiteSource   runtime     2     7\n17                   Steady   compile    60    85\n18                   Steady  provided    60    73\n19                   Steady   runtime     4     4\n20                   Steady      test    11    14\n21              SourceClear   compile    72   147\n22              SourceClear  provided    79   183\n23              SourceClear   runtime     1     6",
      "text/html": "<div>\n<style scoped>\n    .dataframe tbody tr th:only-of-type {\n        vertical-align: middle;\n    }\n\n    .dataframe tbody tr th {\n        vertical-align: top;\n    }\n\n    .dataframe thead th {\n        text-align: right;\n    }\n</style>\n<table border=\"1\" class=\"dataframe\">\n  <thead>\n    <tr style=\"text-align: right;\">\n      <th></th>\n      <th>tool</th>\n      <th>scope</th>\n      <th>deps</th>\n      <th>vuln</th>\n    </tr>\n  </thead>\n  <tbody>\n    <tr>\n      <th>0</th>\n      <td>Maven Security Versions</td>\n      <td>compile</td>\n      <td>19</td>\n      <td>27</td>\n    </tr>\n    <tr>\n      <th>1</th>\n      <td>Maven Security Versions</td>\n      <td>provided</td>\n      <td>30</td>\n      <td>35</td>\n    </tr>\n    <tr>\n      <th>2</th>\n      <td>Maven Security Versions</td>\n      <td>runtime</td>\n      <td>1</td>\n      <td>1</td>\n    </tr>\n    <tr>\n      <th>3</th>\n      <td>Maven Security Versions</td>\n      <td>test</td>\n      <td>3</td>\n      <td>2</td>\n    </tr>\n    <tr>\n      <th>4</th>\n      <td>Snyk</td>\n      <td>compile</td>\n      <td>56</td>\n      <td>118</td>\n    </tr>\n    <tr>\n      <th>5</th>\n      <td>Snyk</td>\n      <td>provided</td>\n      <td>62</td>\n      <td>173</td>\n    </tr>\n    <tr>\n      <th>6</th>\n      <td>Snyk</td>\n      <td>runtime</td>\n      <td>2</td>\n      <td>6</td>\n    </tr>\n    <tr>\n      <th>7</th>\n      <td>Snyk</td>\n      <td>test</td>\n      <td>25</td>\n      <td>55</td>\n    </tr>\n    <tr>\n      <th>8</th>\n      <td>Github Dependabot</td>\n      <td>compile</td>\n      <td>15</td>\n      <td>61</td>\n    </tr>\n    <tr>\n      <th>9</th>\n      <td>Github Dependabot</td>\n      <td>provided</td>\n      <td>5</td>\n      <td>5</td>\n    </tr>\n    <tr>\n      <th>10</th>\n      <td>Github Dependabot</td>\n      <td>runtime</td>\n      <td>1</td>\n      <td>1</td>\n    </tr>\n    <tr>\n      <th>11</th>\n      <td>Github Dependabot</td>\n      <td>test</td>\n      <td>2</td>\n      <td>2</td>\n    </tr>\n    <tr>\n      <th>12</th>\n      <td>OWASP Dependency-Check</td>\n      <td>compile</td>\n      <td>58</td>\n      <td>183</td>\n    </tr>\n    <tr>\n      <th>13</th>\n      <td>OWASP Dependency-Check</td>\n      <td>provided</td>\n      <td>66</td>\n      <td>249</td>\n    </tr>\n    <tr>\n      <th>14</th>\n      <td>OWASP Dependency-Check</td>\n      <td>runtime</td>\n      <td>4</td>\n      <td>15</td>\n    </tr>\n    <tr>\n      <th>15</th>\n      <td>WhiteSource</td>\n      <td>compile</td>\n      <td>54</td>\n      <td>122</td>\n    </tr>\n    <tr>\n      <th>16</th>\n      <td>WhiteSource</td>\n      <td>runtime</td>\n      <td>2</td>\n      <td>7</td>\n    </tr>\n    <tr>\n      <th>17</th>\n      <td>Steady</td>\n      <td>compile</td>\n      <td>60</td>\n      <td>85</td>\n    </tr>\n    <tr>\n      <th>18</th>\n      <td>Steady</td>\n      <td>provided</td>\n      <td>60</td>\n      <td>73</td>\n    </tr>\n    <tr>\n      <th>19</th>\n      <td>Steady</td>\n      <td>runtime</td>\n      <td>4</td>\n      <td>4</td>\n    </tr>\n    <tr>\n      <th>20</th>\n      <td>Steady</td>\n      <td>test</td>\n      <td>11</td>\n      <td>14</td>\n    </tr>\n    <tr>\n      <th>21</th>\n      <td>SourceClear</td>\n      <td>compile</td>\n      <td>72</td>\n      <td>147</td>\n    </tr>\n    <tr>\n      <th>22</th>\n      <td>SourceClear</td>\n      <td>provided</td>\n      <td>79</td>\n      <td>183</td>\n    </tr>\n    <tr>\n      <th>23</th>\n      <td>SourceClear</td>\n      <td>runtime</td>\n      <td>1</td>\n      <td>6</td>\n    </tr>\n  </tbody>\n</table>\n</div>"
     },
     "metadata": {},
     "execution_count": 14
    }
   ],
   "source": [
    "q='''select t.name as tool, scope, count(distinct d.packageId) as deps, count(distinct v.id) as vuln\n",
    "from mavenAlert mA\n",
    "join dependency d on mA.dependencyId=d.id\n",
    "join vulnerability v on mA.vulnerabilityId=v.id\n",
    "join derivedMavenDependencyTree dMDT on d.id = dMDT.dependencyId\n",
    "join tool t on t.id=mA.toolId\n",
    "group by toolId, scope;'''\n",
    "sql.pd_read_sql(q)"
   ]
  },
  {
   "cell_type": "code",
   "execution_count": 15,
   "metadata": {},
   "outputs": [
    {
     "output_type": "execute_result",
     "data": {
      "text/plain": "                     tool scope  deps  vuln\n0                    Snyk   dev    83   106\n1                    Snyk  prod    13    25\n2       Github Dependabot   dev     8     9\n3       Github Dependabot  prod     6    10\n4  OWASP Dependency-Check   dev   207   200\n5  OWASP Dependency-Check  prod    65    65\n6               NPM Audit   dev    51    57\n7               NPM Audit  prod    15    12\n8             WhiteSource   dev    76    78\n9             WhiteSource  prod    12    19",
      "text/html": "<div>\n<style scoped>\n    .dataframe tbody tr th:only-of-type {\n        vertical-align: middle;\n    }\n\n    .dataframe tbody tr th {\n        vertical-align: top;\n    }\n\n    .dataframe thead th {\n        text-align: right;\n    }\n</style>\n<table border=\"1\" class=\"dataframe\">\n  <thead>\n    <tr style=\"text-align: right;\">\n      <th></th>\n      <th>tool</th>\n      <th>scope</th>\n      <th>deps</th>\n      <th>vuln</th>\n    </tr>\n  </thead>\n  <tbody>\n    <tr>\n      <th>0</th>\n      <td>Snyk</td>\n      <td>dev</td>\n      <td>83</td>\n      <td>106</td>\n    </tr>\n    <tr>\n      <th>1</th>\n      <td>Snyk</td>\n      <td>prod</td>\n      <td>13</td>\n      <td>25</td>\n    </tr>\n    <tr>\n      <th>2</th>\n      <td>Github Dependabot</td>\n      <td>dev</td>\n      <td>8</td>\n      <td>9</td>\n    </tr>\n    <tr>\n      <th>3</th>\n      <td>Github Dependabot</td>\n      <td>prod</td>\n      <td>6</td>\n      <td>10</td>\n    </tr>\n    <tr>\n      <th>4</th>\n      <td>OWASP Dependency-Check</td>\n      <td>dev</td>\n      <td>207</td>\n      <td>200</td>\n    </tr>\n    <tr>\n      <th>5</th>\n      <td>OWASP Dependency-Check</td>\n      <td>prod</td>\n      <td>65</td>\n      <td>65</td>\n    </tr>\n    <tr>\n      <th>6</th>\n      <td>NPM Audit</td>\n      <td>dev</td>\n      <td>51</td>\n      <td>57</td>\n    </tr>\n    <tr>\n      <th>7</th>\n      <td>NPM Audit</td>\n      <td>prod</td>\n      <td>15</td>\n      <td>12</td>\n    </tr>\n    <tr>\n      <th>8</th>\n      <td>WhiteSource</td>\n      <td>dev</td>\n      <td>76</td>\n      <td>78</td>\n    </tr>\n    <tr>\n      <th>9</th>\n      <td>WhiteSource</td>\n      <td>prod</td>\n      <td>12</td>\n      <td>19</td>\n    </tr>\n  </tbody>\n</table>\n</div>"
     },
     "metadata": {},
     "execution_count": 15
    }
   ],
   "source": [
    "q='''select t.name as tool, scope, count(distinct d.packageId) as deps, count(distinct v.id) as vuln\n",
    "from npmAlert nA\n",
    "join dependency d on nA.dependencyId=d.id\n",
    "join vulnerability v on nA.vulnerabilityId=v.id\n",
    "join npmDependencyTree nDT on d.packageId = nDT.packageId\n",
    "join tool t on t.id=nA.toolId\n",
    "group by toolId, scope;'''\n",
    "df=sql.pd_read_sql(q)\n",
    "df"
   ]
  },
  {
   "cell_type": "code",
   "execution_count": 16,
   "metadata": {},
   "outputs": [
    {
     "output_type": "execute_result",
     "data": {
      "text/plain": "    packageId language grade  cveCount  totalClasses  usedClasses\n0         102     Java     F         2           435          112\n1         105     Java     F         2           348          140\n2          61     Java     F         1           216           85\n3          85     Java     F         1           502          329\n4           2     Java     F         1           721          444\n5          83     Java     F         2           265          122\n6         104     Java     F         1            40           11\n7          52     Java     D         1          3463         1966\n8         108     Java     F         1           254           30\n9          88     Java     F        32           624          267\n10         98     Java     F         1            18            7\n11         89     Java     F         1          4414          790\n12        117     Java     F         5           150            5\n13         32     Java     F         1           137           49\n14         81     Java     F         1           878          440\n15         16     Java     F         1           210            4\n16        101     Java     F         3           492          203",
      "text/html": "<div>\n<style scoped>\n    .dataframe tbody tr th:only-of-type {\n        vertical-align: middle;\n    }\n\n    .dataframe tbody tr th {\n        vertical-align: top;\n    }\n\n    .dataframe thead th {\n        text-align: right;\n    }\n</style>\n<table border=\"1\" class=\"dataframe\">\n  <thead>\n    <tr style=\"text-align: right;\">\n      <th></th>\n      <th>packageId</th>\n      <th>language</th>\n      <th>grade</th>\n      <th>cveCount</th>\n      <th>totalClasses</th>\n      <th>usedClasses</th>\n    </tr>\n  </thead>\n  <tbody>\n    <tr>\n      <th>0</th>\n      <td>102</td>\n      <td>Java</td>\n      <td>F</td>\n      <td>2</td>\n      <td>435</td>\n      <td>112</td>\n    </tr>\n    <tr>\n      <th>1</th>\n      <td>105</td>\n      <td>Java</td>\n      <td>F</td>\n      <td>2</td>\n      <td>348</td>\n      <td>140</td>\n    </tr>\n    <tr>\n      <th>2</th>\n      <td>61</td>\n      <td>Java</td>\n      <td>F</td>\n      <td>1</td>\n      <td>216</td>\n      <td>85</td>\n    </tr>\n    <tr>\n      <th>3</th>\n      <td>85</td>\n      <td>Java</td>\n      <td>F</td>\n      <td>1</td>\n      <td>502</td>\n      <td>329</td>\n    </tr>\n    <tr>\n      <th>4</th>\n      <td>2</td>\n      <td>Java</td>\n      <td>F</td>\n      <td>1</td>\n      <td>721</td>\n      <td>444</td>\n    </tr>\n    <tr>\n      <th>5</th>\n      <td>83</td>\n      <td>Java</td>\n      <td>F</td>\n      <td>2</td>\n      <td>265</td>\n      <td>122</td>\n    </tr>\n    <tr>\n      <th>6</th>\n      <td>104</td>\n      <td>Java</td>\n      <td>F</td>\n      <td>1</td>\n      <td>40</td>\n      <td>11</td>\n    </tr>\n    <tr>\n      <th>7</th>\n      <td>52</td>\n      <td>Java</td>\n      <td>D</td>\n      <td>1</td>\n      <td>3463</td>\n      <td>1966</td>\n    </tr>\n    <tr>\n      <th>8</th>\n      <td>108</td>\n      <td>Java</td>\n      <td>F</td>\n      <td>1</td>\n      <td>254</td>\n      <td>30</td>\n    </tr>\n    <tr>\n      <th>9</th>\n      <td>88</td>\n      <td>Java</td>\n      <td>F</td>\n      <td>32</td>\n      <td>624</td>\n      <td>267</td>\n    </tr>\n    <tr>\n      <th>10</th>\n      <td>98</td>\n      <td>Java</td>\n      <td>F</td>\n      <td>1</td>\n      <td>18</td>\n      <td>7</td>\n    </tr>\n    <tr>\n      <th>11</th>\n      <td>89</td>\n      <td>Java</td>\n      <td>F</td>\n      <td>1</td>\n      <td>4414</td>\n      <td>790</td>\n    </tr>\n    <tr>\n      <th>12</th>\n      <td>117</td>\n      <td>Java</td>\n      <td>F</td>\n      <td>5</td>\n      <td>150</td>\n      <td>5</td>\n    </tr>\n    <tr>\n      <th>13</th>\n      <td>32</td>\n      <td>Java</td>\n      <td>F</td>\n      <td>1</td>\n      <td>137</td>\n      <td>49</td>\n    </tr>\n    <tr>\n      <th>14</th>\n      <td>81</td>\n      <td>Java</td>\n      <td>F</td>\n      <td>1</td>\n      <td>878</td>\n      <td>440</td>\n    </tr>\n    <tr>\n      <th>15</th>\n      <td>16</td>\n      <td>Java</td>\n      <td>F</td>\n      <td>1</td>\n      <td>210</td>\n      <td>4</td>\n    </tr>\n    <tr>\n      <th>16</th>\n      <td>101</td>\n      <td>Java</td>\n      <td>F</td>\n      <td>3</td>\n      <td>492</td>\n      <td>203</td>\n    </tr>\n  </tbody>\n</table>\n</div>"
     },
     "metadata": {},
     "execution_count": 16
    }
   ],
   "source": [
    "q='''select * from contrast'''\n",
    "df=sql.pd_read_sql(q)\n",
    "df"
   ]
  },
  {
   "cell_type": "code",
   "execution_count": 17,
   "metadata": {},
   "outputs": [
    {
     "output_type": "execute_result",
     "data": {
      "text/plain": "    packageId language grade  cveCount  totalClasses  usedClasses     ratio\n0         102     Java     F         2           435          112  0.257471\n1         105     Java     F         2           348          140  0.402299\n2          61     Java     F         1           216           85  0.393519\n3          85     Java     F         1           502          329  0.655378\n4           2     Java     F         1           721          444  0.615811\n5          83     Java     F         2           265          122  0.460377\n6         104     Java     F         1            40           11  0.275000\n7          52     Java     D         1          3463         1966  0.567716\n8         108     Java     F         1           254           30  0.118110\n9          88     Java     F        32           624          267  0.427885\n10         98     Java     F         1            18            7  0.388889\n11         89     Java     F         1          4414          790  0.178976\n12        117     Java     F         5           150            5  0.033333\n13         32     Java     F         1           137           49  0.357664\n14         81     Java     F         1           878          440  0.501139\n15         16     Java     F         1           210            4  0.019048\n16        101     Java     F         3           492          203  0.412602",
      "text/html": "<div>\n<style scoped>\n    .dataframe tbody tr th:only-of-type {\n        vertical-align: middle;\n    }\n\n    .dataframe tbody tr th {\n        vertical-align: top;\n    }\n\n    .dataframe thead th {\n        text-align: right;\n    }\n</style>\n<table border=\"1\" class=\"dataframe\">\n  <thead>\n    <tr style=\"text-align: right;\">\n      <th></th>\n      <th>packageId</th>\n      <th>language</th>\n      <th>grade</th>\n      <th>cveCount</th>\n      <th>totalClasses</th>\n      <th>usedClasses</th>\n      <th>ratio</th>\n    </tr>\n  </thead>\n  <tbody>\n    <tr>\n      <th>0</th>\n      <td>102</td>\n      <td>Java</td>\n      <td>F</td>\n      <td>2</td>\n      <td>435</td>\n      <td>112</td>\n      <td>0.257471</td>\n    </tr>\n    <tr>\n      <th>1</th>\n      <td>105</td>\n      <td>Java</td>\n      <td>F</td>\n      <td>2</td>\n      <td>348</td>\n      <td>140</td>\n      <td>0.402299</td>\n    </tr>\n    <tr>\n      <th>2</th>\n      <td>61</td>\n      <td>Java</td>\n      <td>F</td>\n      <td>1</td>\n      <td>216</td>\n      <td>85</td>\n      <td>0.393519</td>\n    </tr>\n    <tr>\n      <th>3</th>\n      <td>85</td>\n      <td>Java</td>\n      <td>F</td>\n      <td>1</td>\n      <td>502</td>\n      <td>329</td>\n      <td>0.655378</td>\n    </tr>\n    <tr>\n      <th>4</th>\n      <td>2</td>\n      <td>Java</td>\n      <td>F</td>\n      <td>1</td>\n      <td>721</td>\n      <td>444</td>\n      <td>0.615811</td>\n    </tr>\n    <tr>\n      <th>5</th>\n      <td>83</td>\n      <td>Java</td>\n      <td>F</td>\n      <td>2</td>\n      <td>265</td>\n      <td>122</td>\n      <td>0.460377</td>\n    </tr>\n    <tr>\n      <th>6</th>\n      <td>104</td>\n      <td>Java</td>\n      <td>F</td>\n      <td>1</td>\n      <td>40</td>\n      <td>11</td>\n      <td>0.275000</td>\n    </tr>\n    <tr>\n      <th>7</th>\n      <td>52</td>\n      <td>Java</td>\n      <td>D</td>\n      <td>1</td>\n      <td>3463</td>\n      <td>1966</td>\n      <td>0.567716</td>\n    </tr>\n    <tr>\n      <th>8</th>\n      <td>108</td>\n      <td>Java</td>\n      <td>F</td>\n      <td>1</td>\n      <td>254</td>\n      <td>30</td>\n      <td>0.118110</td>\n    </tr>\n    <tr>\n      <th>9</th>\n      <td>88</td>\n      <td>Java</td>\n      <td>F</td>\n      <td>32</td>\n      <td>624</td>\n      <td>267</td>\n      <td>0.427885</td>\n    </tr>\n    <tr>\n      <th>10</th>\n      <td>98</td>\n      <td>Java</td>\n      <td>F</td>\n      <td>1</td>\n      <td>18</td>\n      <td>7</td>\n      <td>0.388889</td>\n    </tr>\n    <tr>\n      <th>11</th>\n      <td>89</td>\n      <td>Java</td>\n      <td>F</td>\n      <td>1</td>\n      <td>4414</td>\n      <td>790</td>\n      <td>0.178976</td>\n    </tr>\n    <tr>\n      <th>12</th>\n      <td>117</td>\n      <td>Java</td>\n      <td>F</td>\n      <td>5</td>\n      <td>150</td>\n      <td>5</td>\n      <td>0.033333</td>\n    </tr>\n    <tr>\n      <th>13</th>\n      <td>32</td>\n      <td>Java</td>\n      <td>F</td>\n      <td>1</td>\n      <td>137</td>\n      <td>49</td>\n      <td>0.357664</td>\n    </tr>\n    <tr>\n      <th>14</th>\n      <td>81</td>\n      <td>Java</td>\n      <td>F</td>\n      <td>1</td>\n      <td>878</td>\n      <td>440</td>\n      <td>0.501139</td>\n    </tr>\n    <tr>\n      <th>15</th>\n      <td>16</td>\n      <td>Java</td>\n      <td>F</td>\n      <td>1</td>\n      <td>210</td>\n      <td>4</td>\n      <td>0.019048</td>\n    </tr>\n    <tr>\n      <th>16</th>\n      <td>101</td>\n      <td>Java</td>\n      <td>F</td>\n      <td>3</td>\n      <td>492</td>\n      <td>203</td>\n      <td>0.412602</td>\n    </tr>\n  </tbody>\n</table>\n</div>"
     },
     "metadata": {},
     "execution_count": 17
    }
   ],
   "source": [
    "df['ratio']=df.usedClasses/df.totalClasses\n",
    "df"
   ]
  },
  {
   "cell_type": "code",
   "execution_count": 18,
   "metadata": {},
   "outputs": [
    {
     "output_type": "execute_result",
     "data": {
      "text/plain": "0.39351851851851855"
     },
     "metadata": {},
     "execution_count": 18
    }
   ],
   "source": [
    "df.ratio.median()"
   ]
  },
  {
   "cell_type": "code",
   "execution_count": 6,
   "metadata": {},
   "outputs": [
    {
     "output_type": "error",
     "ename": "DatabaseError",
     "evalue": "Execution failed on sql: select * from srcclrCallChains;\n(0, '')\nunable to rollback",
     "traceback": [
      "\u001b[0;31m---------------------------------------------------------------------------\u001b[0m",
      "\u001b[0;31mInterfaceError\u001b[0m                            Traceback (most recent call last)",
      "\u001b[0;32m~/Library/Python/3.7/lib/python/site-packages/pandas/io/sql.py\u001b[0m in \u001b[0;36mexecute\u001b[0;34m(self, *args, **kwargs)\u001b[0m\n\u001b[1;32m   1585\u001b[0m         \u001b[0;32mtry\u001b[0m\u001b[0;34m:\u001b[0m\u001b[0;34m\u001b[0m\u001b[0;34m\u001b[0m\u001b[0m\n\u001b[0;32m-> 1586\u001b[0;31m             \u001b[0mcur\u001b[0m\u001b[0;34m.\u001b[0m\u001b[0mexecute\u001b[0m\u001b[0;34m(\u001b[0m\u001b[0;34m*\u001b[0m\u001b[0margs\u001b[0m\u001b[0;34m,\u001b[0m \u001b[0;34m**\u001b[0m\u001b[0mkwargs\u001b[0m\u001b[0;34m)\u001b[0m\u001b[0;34m\u001b[0m\u001b[0;34m\u001b[0m\u001b[0m\n\u001b[0m\u001b[1;32m   1587\u001b[0m             \u001b[0;32mreturn\u001b[0m \u001b[0mcur\u001b[0m\u001b[0;34m\u001b[0m\u001b[0;34m\u001b[0m\u001b[0m\n",
      "\u001b[0;32m/usr/local/lib/python3.7/site-packages/pymysql/cursors.py\u001b[0m in \u001b[0;36mexecute\u001b[0;34m(self, query, args)\u001b[0m\n\u001b[1;32m    169\u001b[0m \u001b[0;34m\u001b[0m\u001b[0m\n\u001b[0;32m--> 170\u001b[0;31m         \u001b[0mresult\u001b[0m \u001b[0;34m=\u001b[0m \u001b[0mself\u001b[0m\u001b[0;34m.\u001b[0m\u001b[0m_query\u001b[0m\u001b[0;34m(\u001b[0m\u001b[0mquery\u001b[0m\u001b[0;34m)\u001b[0m\u001b[0;34m\u001b[0m\u001b[0;34m\u001b[0m\u001b[0m\n\u001b[0m\u001b[1;32m    171\u001b[0m         \u001b[0mself\u001b[0m\u001b[0;34m.\u001b[0m\u001b[0m_executed\u001b[0m \u001b[0;34m=\u001b[0m \u001b[0mquery\u001b[0m\u001b[0;34m\u001b[0m\u001b[0;34m\u001b[0m\u001b[0m\n",
      "\u001b[0;32m/usr/local/lib/python3.7/site-packages/pymysql/cursors.py\u001b[0m in \u001b[0;36m_query\u001b[0;34m(self, q)\u001b[0m\n\u001b[1;32m    327\u001b[0m         \u001b[0mself\u001b[0m\u001b[0;34m.\u001b[0m\u001b[0m_clear_result\u001b[0m\u001b[0;34m(\u001b[0m\u001b[0;34m)\u001b[0m\u001b[0;34m\u001b[0m\u001b[0;34m\u001b[0m\u001b[0m\n\u001b[0;32m--> 328\u001b[0;31m         \u001b[0mconn\u001b[0m\u001b[0;34m.\u001b[0m\u001b[0mquery\u001b[0m\u001b[0;34m(\u001b[0m\u001b[0mq\u001b[0m\u001b[0;34m)\u001b[0m\u001b[0;34m\u001b[0m\u001b[0;34m\u001b[0m\u001b[0m\n\u001b[0m\u001b[1;32m    329\u001b[0m         \u001b[0mself\u001b[0m\u001b[0;34m.\u001b[0m\u001b[0m_do_get_result\u001b[0m\u001b[0;34m(\u001b[0m\u001b[0;34m)\u001b[0m\u001b[0;34m\u001b[0m\u001b[0;34m\u001b[0m\u001b[0m\n",
      "\u001b[0;32m/usr/local/lib/python3.7/site-packages/pymysql/connections.py\u001b[0m in \u001b[0;36mquery\u001b[0;34m(self, sql, unbuffered)\u001b[0m\n\u001b[1;32m    515\u001b[0m                 \u001b[0msql\u001b[0m \u001b[0;34m=\u001b[0m \u001b[0msql\u001b[0m\u001b[0;34m.\u001b[0m\u001b[0mencode\u001b[0m\u001b[0;34m(\u001b[0m\u001b[0mself\u001b[0m\u001b[0;34m.\u001b[0m\u001b[0mencoding\u001b[0m\u001b[0;34m,\u001b[0m \u001b[0;34m'surrogateescape'\u001b[0m\u001b[0;34m)\u001b[0m\u001b[0;34m\u001b[0m\u001b[0;34m\u001b[0m\u001b[0m\n\u001b[0;32m--> 516\u001b[0;31m         \u001b[0mself\u001b[0m\u001b[0;34m.\u001b[0m\u001b[0m_execute_command\u001b[0m\u001b[0;34m(\u001b[0m\u001b[0mCOMMAND\u001b[0m\u001b[0;34m.\u001b[0m\u001b[0mCOM_QUERY\u001b[0m\u001b[0;34m,\u001b[0m \u001b[0msql\u001b[0m\u001b[0;34m)\u001b[0m\u001b[0;34m\u001b[0m\u001b[0;34m\u001b[0m\u001b[0m\n\u001b[0m\u001b[1;32m    517\u001b[0m         \u001b[0mself\u001b[0m\u001b[0;34m.\u001b[0m\u001b[0m_affected_rows\u001b[0m \u001b[0;34m=\u001b[0m \u001b[0mself\u001b[0m\u001b[0;34m.\u001b[0m\u001b[0m_read_query_result\u001b[0m\u001b[0;34m(\u001b[0m\u001b[0munbuffered\u001b[0m\u001b[0;34m=\u001b[0m\u001b[0munbuffered\u001b[0m\u001b[0;34m)\u001b[0m\u001b[0;34m\u001b[0m\u001b[0;34m\u001b[0m\u001b[0m\n",
      "\u001b[0;32m/usr/local/lib/python3.7/site-packages/pymysql/connections.py\u001b[0m in \u001b[0;36m_execute_command\u001b[0;34m(self, command, sql)\u001b[0m\n\u001b[1;32m    749\u001b[0m         \u001b[0;32mif\u001b[0m \u001b[0;32mnot\u001b[0m \u001b[0mself\u001b[0m\u001b[0;34m.\u001b[0m\u001b[0m_sock\u001b[0m\u001b[0;34m:\u001b[0m\u001b[0;34m\u001b[0m\u001b[0;34m\u001b[0m\u001b[0m\n\u001b[0;32m--> 750\u001b[0;31m             \u001b[0;32mraise\u001b[0m \u001b[0merr\u001b[0m\u001b[0;34m.\u001b[0m\u001b[0mInterfaceError\u001b[0m\u001b[0;34m(\u001b[0m\u001b[0;34m\"(0, '')\"\u001b[0m\u001b[0;34m)\u001b[0m\u001b[0;34m\u001b[0m\u001b[0;34m\u001b[0m\u001b[0m\n\u001b[0m\u001b[1;32m    751\u001b[0m \u001b[0;34m\u001b[0m\u001b[0m\n",
      "\u001b[0;31mInterfaceError\u001b[0m: (0, '')",
      "\nDuring handling of the above exception, another exception occurred:\n",
      "\u001b[0;31mInterfaceError\u001b[0m                            Traceback (most recent call last)",
      "\u001b[0;32m~/Library/Python/3.7/lib/python/site-packages/pandas/io/sql.py\u001b[0m in \u001b[0;36mexecute\u001b[0;34m(self, *args, **kwargs)\u001b[0m\n\u001b[1;32m   1589\u001b[0m             \u001b[0;32mtry\u001b[0m\u001b[0;34m:\u001b[0m\u001b[0;34m\u001b[0m\u001b[0;34m\u001b[0m\u001b[0m\n\u001b[0;32m-> 1590\u001b[0;31m                 \u001b[0mself\u001b[0m\u001b[0;34m.\u001b[0m\u001b[0mcon\u001b[0m\u001b[0;34m.\u001b[0m\u001b[0mrollback\u001b[0m\u001b[0;34m(\u001b[0m\u001b[0;34m)\u001b[0m\u001b[0;34m\u001b[0m\u001b[0;34m\u001b[0m\u001b[0m\n\u001b[0m\u001b[1;32m   1591\u001b[0m             \u001b[0;32mexcept\u001b[0m \u001b[0mException\u001b[0m \u001b[0;32mas\u001b[0m \u001b[0minner_exc\u001b[0m\u001b[0;34m:\u001b[0m  \u001b[0;31m# pragma: no cover\u001b[0m\u001b[0;34m\u001b[0m\u001b[0;34m\u001b[0m\u001b[0m\n",
      "\u001b[0;32m/usr/local/lib/python3.7/site-packages/pymysql/connections.py\u001b[0m in \u001b[0;36mrollback\u001b[0;34m(self)\u001b[0m\n\u001b[1;32m    428\u001b[0m         \"\"\"\n\u001b[0;32m--> 429\u001b[0;31m         \u001b[0mself\u001b[0m\u001b[0;34m.\u001b[0m\u001b[0m_execute_command\u001b[0m\u001b[0;34m(\u001b[0m\u001b[0mCOMMAND\u001b[0m\u001b[0;34m.\u001b[0m\u001b[0mCOM_QUERY\u001b[0m\u001b[0;34m,\u001b[0m \u001b[0;34m\"ROLLBACK\"\u001b[0m\u001b[0;34m)\u001b[0m\u001b[0;34m\u001b[0m\u001b[0;34m\u001b[0m\u001b[0m\n\u001b[0m\u001b[1;32m    430\u001b[0m         \u001b[0mself\u001b[0m\u001b[0;34m.\u001b[0m\u001b[0m_read_ok_packet\u001b[0m\u001b[0;34m(\u001b[0m\u001b[0;34m)\u001b[0m\u001b[0;34m\u001b[0m\u001b[0;34m\u001b[0m\u001b[0m\n",
      "\u001b[0;32m/usr/local/lib/python3.7/site-packages/pymysql/connections.py\u001b[0m in \u001b[0;36m_execute_command\u001b[0;34m(self, command, sql)\u001b[0m\n\u001b[1;32m    749\u001b[0m         \u001b[0;32mif\u001b[0m \u001b[0;32mnot\u001b[0m \u001b[0mself\u001b[0m\u001b[0;34m.\u001b[0m\u001b[0m_sock\u001b[0m\u001b[0;34m:\u001b[0m\u001b[0;34m\u001b[0m\u001b[0;34m\u001b[0m\u001b[0m\n\u001b[0;32m--> 750\u001b[0;31m             \u001b[0;32mraise\u001b[0m \u001b[0merr\u001b[0m\u001b[0;34m.\u001b[0m\u001b[0mInterfaceError\u001b[0m\u001b[0;34m(\u001b[0m\u001b[0;34m\"(0, '')\"\u001b[0m\u001b[0;34m)\u001b[0m\u001b[0;34m\u001b[0m\u001b[0;34m\u001b[0m\u001b[0m\n\u001b[0m\u001b[1;32m    751\u001b[0m \u001b[0;34m\u001b[0m\u001b[0m\n",
      "\u001b[0;31mInterfaceError\u001b[0m: (0, '')",
      "\nThe above exception was the direct cause of the following exception:\n",
      "\u001b[0;31mDatabaseError\u001b[0m                             Traceback (most recent call last)",
      "\u001b[0;32m<ipython-input-6-2427e3b0062b>\u001b[0m in \u001b[0;36m<module>\u001b[0;34m\u001b[0m\n\u001b[1;32m      1\u001b[0m \u001b[0mq\u001b[0m\u001b[0;34m=\u001b[0m\u001b[0;34m'''select * from srcclrCallChains;'''\u001b[0m\u001b[0;34m\u001b[0m\u001b[0;34m\u001b[0m\u001b[0m\n\u001b[0;32m----> 2\u001b[0;31m \u001b[0mdf\u001b[0m\u001b[0;34m=\u001b[0m\u001b[0msql\u001b[0m\u001b[0;34m.\u001b[0m\u001b[0mpd_read_sql\u001b[0m\u001b[0;34m(\u001b[0m\u001b[0mq\u001b[0m\u001b[0;34m)\u001b[0m\u001b[0;34m\u001b[0m\u001b[0;34m\u001b[0m\u001b[0m\n\u001b[0m\u001b[1;32m      3\u001b[0m \u001b[0mdf\u001b[0m\u001b[0;34m.\u001b[0m\u001b[0mcallChains\u001b[0m\u001b[0;34m.\u001b[0m\u001b[0mmedian\u001b[0m\u001b[0;34m(\u001b[0m\u001b[0;34m)\u001b[0m\u001b[0;34m,\u001b[0m \u001b[0mdf\u001b[0m\u001b[0;34m.\u001b[0m\u001b[0mcallChains\u001b[0m\u001b[0;34m.\u001b[0m\u001b[0msum\u001b[0m\u001b[0;34m(\u001b[0m\u001b[0;34m)\u001b[0m\u001b[0;34m\u001b[0m\u001b[0;34m\u001b[0m\u001b[0m\n",
      "\u001b[0;32m~/Desktop/vulnerable-dependency-detection-comparison/sql.py\u001b[0m in \u001b[0;36mpd_read_sql\u001b[0;34m(query, connection)\u001b[0m\n\u001b[1;32m     39\u001b[0m \u001b[0;34m\u001b[0m\u001b[0m\n\u001b[1;32m     40\u001b[0m \u001b[0;32mdef\u001b[0m \u001b[0mpd_read_sql\u001b[0m\u001b[0;34m(\u001b[0m\u001b[0mquery\u001b[0m\u001b[0;34m,\u001b[0m \u001b[0mconnection\u001b[0m\u001b[0;34m=\u001b[0m\u001b[0mglobal_conn\u001b[0m\u001b[0;34m)\u001b[0m\u001b[0;34m:\u001b[0m\u001b[0;34m\u001b[0m\u001b[0;34m\u001b[0m\u001b[0m\n\u001b[0;32m---> 41\u001b[0;31m     \u001b[0;32mreturn\u001b[0m \u001b[0mpd\u001b[0m\u001b[0;34m.\u001b[0m\u001b[0mread_sql\u001b[0m\u001b[0;34m(\u001b[0m\u001b[0mquery\u001b[0m\u001b[0;34m,\u001b[0m\u001b[0mconnection\u001b[0m\u001b[0;34m)\u001b[0m\u001b[0;34m\u001b[0m\u001b[0;34m\u001b[0m\u001b[0m\n\u001b[0m\u001b[1;32m     42\u001b[0m \u001b[0;34m\u001b[0m\u001b[0m\n\u001b[1;32m     43\u001b[0m \u001b[0;32mdef\u001b[0m \u001b[0mload_df\u001b[0m\u001b[0;34m(\u001b[0m\u001b[0mtable\u001b[0m\u001b[0;34m,\u001b[0m\u001b[0mdf\u001b[0m\u001b[0;34m)\u001b[0m\u001b[0;34m:\u001b[0m\u001b[0;34m\u001b[0m\u001b[0;34m\u001b[0m\u001b[0m\n",
      "\u001b[0;32m~/Library/Python/3.7/lib/python/site-packages/pandas/io/sql.py\u001b[0m in \u001b[0;36mread_sql\u001b[0;34m(sql, con, index_col, coerce_float, params, parse_dates, columns, chunksize)\u001b[0m\n\u001b[1;32m    410\u001b[0m             \u001b[0mcoerce_float\u001b[0m\u001b[0;34m=\u001b[0m\u001b[0mcoerce_float\u001b[0m\u001b[0;34m,\u001b[0m\u001b[0;34m\u001b[0m\u001b[0;34m\u001b[0m\u001b[0m\n\u001b[1;32m    411\u001b[0m             \u001b[0mparse_dates\u001b[0m\u001b[0;34m=\u001b[0m\u001b[0mparse_dates\u001b[0m\u001b[0;34m,\u001b[0m\u001b[0;34m\u001b[0m\u001b[0;34m\u001b[0m\u001b[0m\n\u001b[0;32m--> 412\u001b[0;31m             \u001b[0mchunksize\u001b[0m\u001b[0;34m=\u001b[0m\u001b[0mchunksize\u001b[0m\u001b[0;34m,\u001b[0m\u001b[0;34m\u001b[0m\u001b[0;34m\u001b[0m\u001b[0m\n\u001b[0m\u001b[1;32m    413\u001b[0m         )\n\u001b[1;32m    414\u001b[0m \u001b[0;34m\u001b[0m\u001b[0m\n",
      "\u001b[0;32m~/Library/Python/3.7/lib/python/site-packages/pandas/io/sql.py\u001b[0m in \u001b[0;36mread_query\u001b[0;34m(self, sql, index_col, coerce_float, params, parse_dates, chunksize)\u001b[0m\n\u001b[1;32m   1631\u001b[0m \u001b[0;34m\u001b[0m\u001b[0m\n\u001b[1;32m   1632\u001b[0m         \u001b[0margs\u001b[0m \u001b[0;34m=\u001b[0m \u001b[0m_convert_params\u001b[0m\u001b[0;34m(\u001b[0m\u001b[0msql\u001b[0m\u001b[0;34m,\u001b[0m \u001b[0mparams\u001b[0m\u001b[0;34m)\u001b[0m\u001b[0;34m\u001b[0m\u001b[0;34m\u001b[0m\u001b[0m\n\u001b[0;32m-> 1633\u001b[0;31m         \u001b[0mcursor\u001b[0m \u001b[0;34m=\u001b[0m \u001b[0mself\u001b[0m\u001b[0;34m.\u001b[0m\u001b[0mexecute\u001b[0m\u001b[0;34m(\u001b[0m\u001b[0;34m*\u001b[0m\u001b[0margs\u001b[0m\u001b[0;34m)\u001b[0m\u001b[0;34m\u001b[0m\u001b[0;34m\u001b[0m\u001b[0m\n\u001b[0m\u001b[1;32m   1634\u001b[0m         \u001b[0mcolumns\u001b[0m \u001b[0;34m=\u001b[0m \u001b[0;34m[\u001b[0m\u001b[0mcol_desc\u001b[0m\u001b[0;34m[\u001b[0m\u001b[0;36m0\u001b[0m\u001b[0;34m]\u001b[0m \u001b[0;32mfor\u001b[0m \u001b[0mcol_desc\u001b[0m \u001b[0;32min\u001b[0m \u001b[0mcursor\u001b[0m\u001b[0;34m.\u001b[0m\u001b[0mdescription\u001b[0m\u001b[0;34m]\u001b[0m\u001b[0;34m\u001b[0m\u001b[0;34m\u001b[0m\u001b[0m\n\u001b[1;32m   1635\u001b[0m \u001b[0;34m\u001b[0m\u001b[0m\n",
      "\u001b[0;32m~/Library/Python/3.7/lib/python/site-packages/pandas/io/sql.py\u001b[0m in \u001b[0;36mexecute\u001b[0;34m(self, *args, **kwargs)\u001b[0m\n\u001b[1;32m   1593\u001b[0m                     \u001b[0;34mf\"Execution failed on sql: {args[0]}\\n{exc}\\nunable to rollback\"\u001b[0m\u001b[0;34m\u001b[0m\u001b[0;34m\u001b[0m\u001b[0m\n\u001b[1;32m   1594\u001b[0m                 )\n\u001b[0;32m-> 1595\u001b[0;31m                 \u001b[0;32mraise\u001b[0m \u001b[0mex\u001b[0m \u001b[0;32mfrom\u001b[0m \u001b[0minner_exc\u001b[0m\u001b[0;34m\u001b[0m\u001b[0;34m\u001b[0m\u001b[0m\n\u001b[0m\u001b[1;32m   1596\u001b[0m \u001b[0;34m\u001b[0m\u001b[0m\n\u001b[1;32m   1597\u001b[0m             \u001b[0mex\u001b[0m \u001b[0;34m=\u001b[0m \u001b[0mDatabaseError\u001b[0m\u001b[0;34m(\u001b[0m\u001b[0;34mf\"Execution failed on sql '{args[0]}': {exc}\"\u001b[0m\u001b[0;34m)\u001b[0m\u001b[0;34m\u001b[0m\u001b[0;34m\u001b[0m\u001b[0m\n",
      "\u001b[0;31mDatabaseError\u001b[0m: Execution failed on sql: select * from srcclrCallChains;\n(0, '')\nunable to rollback"
     ]
    }
   ],
   "source": [
    "q='''select * from srcclrCallChains;'''\n",
    "df=sql.pd_read_sql(q)\n",
    "df.callChains.median(), df.callChains.sum()"
   ]
  },
  {
   "cell_type": "code",
   "execution_count": null,
   "metadata": {},
   "outputs": [],
   "source": []
  }
 ]
}