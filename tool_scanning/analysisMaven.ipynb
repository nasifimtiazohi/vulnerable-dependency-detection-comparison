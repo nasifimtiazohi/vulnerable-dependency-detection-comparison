{
 "metadata": {
  "language_info": {
   "codemirror_mode": {
    "name": "ipython",
    "version": 3
   },
   "file_extension": ".py",
   "mimetype": "text/x-python",
   "name": "python",
   "nbconvert_exporter": "python",
   "pygments_lexer": "ipython3",
   "version": "3.7.7-final"
  },
  "orig_nbformat": 2,
  "kernelspec": {
   "name": "python3",
   "display_name": "Python 3"
  }
 },
 "nbformat": 4,
 "nbformat_minor": 2,
 "cells": [
  {
   "cell_type": "code",
   "execution_count": 2,
   "metadata": {},
   "outputs": [],
   "source": [
    "import os, sys\n",
    "sys.path.append('..')\n",
    "import common, sql\n",
    "import pandas as pd"
   ]
  },
  {
   "cell_type": "code",
   "execution_count": 4,
   "metadata": {},
   "outputs": [
    {
     "output_type": "execute_result",
     "data": {
      "text/plain": "[{'id': 1, 'name': 'Maven Security Versions'},\n {'id': 2, 'name': 'Snyk'},\n {'id': 3, 'name': 'Github Dependabot'},\n {'id': 4, 'name': 'OWASP Dependency-Check'}]"
     },
     "metadata": {},
     "execution_count": 4
    }
   ],
   "source": [
    "q='''select * from tool\n",
    "where id not in (5);'''\n",
    "tools=sql.execute(q)\n",
    "tools"
   ]
  },
  {
   "cell_type": "code",
   "execution_count": 5,
   "metadata": {
    "tags": []
   },
   "outputs": [
    {
     "output_type": "stream",
     "name": "stdout",
     "text": "Maven Security Versions 3197 58.0\nSnyk 4968 62.0\nGithub Dependabot 136 0.0\nOWASP Dependency-Check 12833 253.0\n"
    }
   ],
   "source": [
    "for tool in tools:\n",
    "    toolId = tool['id']\n",
    "    toolName = tool['name']\n",
    "    q='''select r.id, ifnull(sub.alerts,0) as alerts from repository r\n",
    "        left join\n",
    "        (select repositoryId, sum(mA.count)as alerts from mavenAlert mA\n",
    "        join dependency d on mA.dependencyId = d.id\n",
    "        where toolId=%s\n",
    "        group by repositoryId) sub\n",
    "        on r.id=sub.repositoryId\n",
    "        where r.id != 44\n",
    "        order by r.id;'''\n",
    "    df=pd.DataFrame(sql.execute(q,(toolId,)))\n",
    "    print(toolName, df.alerts.sum(), df.alerts.median())"
   ]
  },
  {
   "cell_type": "code",
   "execution_count": 14,
   "metadata": {},
   "outputs": [
    {
     "output_type": "execute_result",
     "data": {
      "text/plain": "   id                     name  count(distinct p.id)\n0   1  Maven Security Versions                    36\n1   2                     Snyk                    96\n2   3        Github Dependabot                    20\n3   4   OWASP Dependency-Check                   354",
      "text/html": "<div>\n<style scoped>\n    .dataframe tbody tr th:only-of-type {\n        vertical-align: middle;\n    }\n\n    .dataframe tbody tr th {\n        vertical-align: top;\n    }\n\n    .dataframe thead th {\n        text-align: right;\n    }\n</style>\n<table border=\"1\" class=\"dataframe\">\n  <thead>\n    <tr style=\"text-align: right;\">\n      <th></th>\n      <th>id</th>\n      <th>name</th>\n      <th>count(distinct p.id)</th>\n    </tr>\n  </thead>\n  <tbody>\n    <tr>\n      <th>0</th>\n      <td>1</td>\n      <td>Maven Security Versions</td>\n      <td>36</td>\n    </tr>\n    <tr>\n      <th>1</th>\n      <td>2</td>\n      <td>Snyk</td>\n      <td>96</td>\n    </tr>\n    <tr>\n      <th>2</th>\n      <td>3</td>\n      <td>Github Dependabot</td>\n      <td>20</td>\n    </tr>\n    <tr>\n      <th>3</th>\n      <td>4</td>\n      <td>OWASP Dependency-Check</td>\n      <td>354</td>\n    </tr>\n  </tbody>\n</table>\n</div>"
     },
     "metadata": {},
     "execution_count": 14
    }
   ],
   "source": [
    "q='''select t.id, t.name, count(distinct p.id)\n",
    "from mavenAlert mA\n",
    "join dependency d on mA.dependencyId = d.id\n",
    "join package p on d.packageId = p.id\n",
    "join tool t on mA.toolId = t.id\n",
    "group by t.id,t.name\n",
    "order by t.id;'''\n",
    "df=sql.pd_read_sql(q)\n",
    "df"
   ]
  },
  {
   "cell_type": "code",
   "execution_count": 6,
   "metadata": {
    "tags": []
   },
   "outputs": [
    {
     "output_type": "stream",
     "name": "stdout",
     "text": "Maven Security Versions 12.0\nSnyk 6.0\nGithub Dependabot 0.0\nOWASP Dependency-Check 38.0\n"
    }
   ],
   "source": [
    "for tool in tools:\n",
    "    toolId = tool['id']\n",
    "    toolName = tool['name']\n",
    "    q='''select r.id, ifnull(sub.deps,0) as deps from repository r\n",
    "        left join\n",
    "        (select repositoryId, count(distinct packageId) as deps from mavenAlert mA\n",
    "        join dependency d on mA.dependencyId = d.id\n",
    "        where toolId=%s\n",
    "        group by repositoryId) sub\n",
    "        on r.id=sub.repositoryId\n",
    "        where r.id != 44\n",
    "        order by r.id;'''\n",
    "    df=pd.DataFrame(sql.execute(q,(toolId,)))\n",
    "    print(toolName, df.deps.median())"
   ]
  },
  {
   "cell_type": "code",
   "execution_count": 15,
   "metadata": {},
   "outputs": [
    {
     "output_type": "execute_result",
     "data": {
      "text/plain": "   id                     name  count(distinct p.artifact)\n0   1  Maven Security Versions                          14\n1   2                     Snyk                          46\n2   3        Github Dependabot                          11\n3   4   OWASP Dependency-Check                         181",
      "text/html": "<div>\n<style scoped>\n    .dataframe tbody tr th:only-of-type {\n        vertical-align: middle;\n    }\n\n    .dataframe tbody tr th {\n        vertical-align: top;\n    }\n\n    .dataframe thead th {\n        text-align: right;\n    }\n</style>\n<table border=\"1\" class=\"dataframe\">\n  <thead>\n    <tr style=\"text-align: right;\">\n      <th></th>\n      <th>id</th>\n      <th>name</th>\n      <th>count(distinct p.artifact)</th>\n    </tr>\n  </thead>\n  <tbody>\n    <tr>\n      <th>0</th>\n      <td>1</td>\n      <td>Maven Security Versions</td>\n      <td>14</td>\n    </tr>\n    <tr>\n      <th>1</th>\n      <td>2</td>\n      <td>Snyk</td>\n      <td>46</td>\n    </tr>\n    <tr>\n      <th>2</th>\n      <td>3</td>\n      <td>Github Dependabot</td>\n      <td>11</td>\n    </tr>\n    <tr>\n      <th>3</th>\n      <td>4</td>\n      <td>OWASP Dependency-Check</td>\n      <td>181</td>\n    </tr>\n  </tbody>\n</table>\n</div>"
     },
     "metadata": {},
     "execution_count": 15
    }
   ],
   "source": [
    "q='''select t.id, t.name, count(distinct p.artifact)\n",
    "from mavenAlert mA\n",
    "join dependency d on mA.dependencyId = d.id\n",
    "join package p on d.packageId = p.id\n",
    "join tool t on mA.toolId = t.id\n",
    "group by t.id,t.name\n",
    "order by t.id;'''\n",
    "df=sql.pd_read_sql(q)\n",
    "df"
   ]
  },
  {
   "cell_type": "code",
   "execution_count": 7,
   "metadata": {
    "tags": []
   },
   "outputs": [
    {
     "output_type": "stream",
     "name": "stdout",
     "text": "Maven Security Versions 12.0\nSnyk 6.0\nGithub Dependabot 0.0\nOWASP Dependency-Check 37.0\n"
    }
   ],
   "source": [
    "for tool in tools:\n",
    "    toolId = tool['id']\n",
    "    toolName = tool['name']\n",
    "    q='''select r.id, ifnull(sub.deps,0) as packages from repository r\n",
    "        left join\n",
    "        (select repositoryId, count(distinct p.artifact) as deps from mavenAlert mA\n",
    "        join dependency d on mA.dependencyId = d.id\n",
    "        join package p on d.packageId = p.id\n",
    "        where toolId=%s\n",
    "        group by repositoryId) sub\n",
    "        on r.id=sub.repositoryId\n",
    "        where r.id != 44\n",
    "        order by r.id;'''\n",
    "    df=pd.DataFrame(sql.execute(q,(toolId,)))\n",
    "    print(toolName, df.packages.median())"
   ]
  },
  {
   "cell_type": "code",
   "execution_count": 18,
   "metadata": {},
   "outputs": [
    {
     "output_type": "execute_result",
     "data": {
      "text/plain": "   id                     name  count(distinct v.id)\n0   1  Maven Security Versions                    36\n1   2                     Snyk                   186\n2   3        Github Dependabot                    61\n3   4   OWASP Dependency-Check                   510",
      "text/html": "<div>\n<style scoped>\n    .dataframe tbody tr th:only-of-type {\n        vertical-align: middle;\n    }\n\n    .dataframe tbody tr th {\n        vertical-align: top;\n    }\n\n    .dataframe thead th {\n        text-align: right;\n    }\n</style>\n<table border=\"1\" class=\"dataframe\">\n  <thead>\n    <tr style=\"text-align: right;\">\n      <th></th>\n      <th>id</th>\n      <th>name</th>\n      <th>count(distinct v.id)</th>\n    </tr>\n  </thead>\n  <tbody>\n    <tr>\n      <th>0</th>\n      <td>1</td>\n      <td>Maven Security Versions</td>\n      <td>36</td>\n    </tr>\n    <tr>\n      <th>1</th>\n      <td>2</td>\n      <td>Snyk</td>\n      <td>186</td>\n    </tr>\n    <tr>\n      <th>2</th>\n      <td>3</td>\n      <td>Github Dependabot</td>\n      <td>61</td>\n    </tr>\n    <tr>\n      <th>3</th>\n      <td>4</td>\n      <td>OWASP Dependency-Check</td>\n      <td>510</td>\n    </tr>\n  </tbody>\n</table>\n</div>"
     },
     "metadata": {},
     "execution_count": 18
    }
   ],
   "source": [
    "q='''select t.id, t.name, count(distinct v.id)\n",
    "from mavenAlert mA\n",
    "join dependency d on mA.dependencyId = d.id\n",
    "join package p on d.packageId = p.id\n",
    "join tool t on mA.toolId = t.id\n",
    "join vulnerability v on mA.vulnerabilityId = v.id\n",
    "group by t.id,t.name\n",
    "order by t.id;'''\n",
    "df=sql.pd_read_sql(q)\n",
    "df"
   ]
  },
  {
   "cell_type": "code",
   "execution_count": 8,
   "metadata": {
    "tags": []
   },
   "outputs": [
    {
     "output_type": "stream",
     "name": "stdout",
     "text": "Maven Security Versions 22.0\nSnyk 22.0\nGithub Dependabot 0.0\nOWASP Dependency-Check 119.0\n"
    }
   ],
   "source": [
    "for tool in tools:\n",
    "    toolId = tool['id']\n",
    "    toolName = tool['name']\n",
    "    q='''select r.id, ifnull(sub.vuln,0) as vuln from repository r\n",
    "        left join\n",
    "        (select repositoryId, count(distinct v.id) as vuln from mavenAlert mA\n",
    "        join dependency d on mA.dependencyId = d.id\n",
    "        join package p on d.packageId = p.id\n",
    "        join vulnerability v on mA.vulnerabilityId = v.id\n",
    "        where toolId=%s\n",
    "        group by repositoryId) sub\n",
    "        on r.id=sub.repositoryId\n",
    "        where r.id != 44\n",
    "        order by r.id;'''\n",
    "    df=pd.DataFrame(sql.execute(q,(toolId,)))\n",
    "    print(toolName, df.vuln.median())"
   ]
  },
  {
   "cell_type": "code",
   "execution_count": 22,
   "metadata": {},
   "outputs": [
    {
     "output_type": "execute_result",
     "data": {
      "text/plain": "   id                     name  count(distinct v.id)\n0   1  Maven Security Versions                    36\n1   2                     Snyk                   175\n2   3        Github Dependabot                    61\n3   4   OWASP Dependency-Check                   286",
      "text/html": "<div>\n<style scoped>\n    .dataframe tbody tr th:only-of-type {\n        vertical-align: middle;\n    }\n\n    .dataframe tbody tr th {\n        vertical-align: top;\n    }\n\n    .dataframe thead th {\n        text-align: right;\n    }\n</style>\n<table border=\"1\" class=\"dataframe\">\n  <thead>\n    <tr style=\"text-align: right;\">\n      <th></th>\n      <th>id</th>\n      <th>name</th>\n      <th>count(distinct v.id)</th>\n    </tr>\n  </thead>\n  <tbody>\n    <tr>\n      <th>0</th>\n      <td>1</td>\n      <td>Maven Security Versions</td>\n      <td>36</td>\n    </tr>\n    <tr>\n      <th>1</th>\n      <td>2</td>\n      <td>Snyk</td>\n      <td>175</td>\n    </tr>\n    <tr>\n      <th>2</th>\n      <td>3</td>\n      <td>Github Dependabot</td>\n      <td>61</td>\n    </tr>\n    <tr>\n      <th>3</th>\n      <td>4</td>\n      <td>OWASP Dependency-Check</td>\n      <td>286</td>\n    </tr>\n  </tbody>\n</table>\n</div>"
     },
     "metadata": {},
     "execution_count": 22
    }
   ],
   "source": [
    "q='''select t.id, t.name, count(distinct v.id)\n",
    "from mavenAlert mA\n",
    "join dependency d on mA.dependencyId = d.id\n",
    "join package p on d.packageId = p.id\n",
    "join tool t on mA.toolId = t.id\n",
    "join vulnerability v on mA.vulnerabilityId = v.id\n",
    "where v.cveId is not null and v.sourceId is null\n",
    "group by t.id,t.name\n",
    "order by t.id;'''\n",
    "df=sql.pd_read_sql(q)\n",
    "df"
   ]
  },
  {
   "cell_type": "code",
   "execution_count": 23,
   "metadata": {},
   "outputs": [
    {
     "output_type": "execute_result",
     "data": {
      "text/plain": "   toolId     maven      npm\n0       1   2.46667      NaN\n1       2  16.36670  1.03333\n2       4  10.73330  4.43333",
      "text/html": "<div>\n<style scoped>\n    .dataframe tbody tr th:only-of-type {\n        vertical-align: middle;\n    }\n\n    .dataframe tbody tr th {\n        vertical-align: top;\n    }\n\n    .dataframe thead th {\n        text-align: right;\n    }\n</style>\n<table border=\"1\" class=\"dataframe\">\n  <thead>\n    <tr style=\"text-align: right;\">\n      <th></th>\n      <th>toolId</th>\n      <th>maven</th>\n      <th>npm</th>\n    </tr>\n  </thead>\n  <tbody>\n    <tr>\n      <th>0</th>\n      <td>1</td>\n      <td>2.46667</td>\n      <td>NaN</td>\n    </tr>\n    <tr>\n      <th>1</th>\n      <td>2</td>\n      <td>16.36670</td>\n      <td>1.03333</td>\n    </tr>\n    <tr>\n      <th>2</th>\n      <td>4</td>\n      <td>10.73330</td>\n      <td>4.43333</td>\n    </tr>\n  </tbody>\n</table>\n</div>"
     },
     "metadata": {},
     "execution_count": 23
    }
   ],
   "source": [
    "q='select * from scanMinutes'\n",
    "df=sql.pd_read_sql(q)\n",
    "df"
   ]
  },
  {
   "cell_type": "code",
   "execution_count": 11,
   "metadata": {
    "tags": []
   },
   "outputs": [
    {
     "output_type": "stream",
     "name": "stdout",
     "text": "Maven Security Versions 12.0\nSnyk 6.0\n"
    }
   ],
   "source": [
    "q='''select t.name as tool, repositoryId, count(distinct packageId) as c\n",
    "from mavenAlert mA\n",
    "join dependency d on mA.dependencyId = d.id\n",
    "join derivedMavenDependencyTree dMDT on d.id = dMDT.dependencyId\n",
    "join tool t on mA.toolId = t.id\n",
    "group by toolId, repositoryId;'''\n",
    "results = sql.pd_read_sql(q)\n",
    "for tool, df in results.groupby('tool'):\n",
    "    print(tool,df.c.median()) "
   ]
  },
  {
   "cell_type": "code",
   "execution_count": 7,
   "metadata": {
    "tags": []
   },
   "outputs": [
    {
     "output_type": "stream",
     "name": "stdout",
     "text": "Maven Security Versions 22.0\nSnyk 26.5\n"
    }
   ],
   "source": [
    "q='''select t.name as tool, repositoryId, count(distinct v.id) as c\n",
    "from mavenAlert mA\n",
    "join dependency d on mA.dependencyId = d.id\n",
    "join derivedMavenDependencyTree dMDT on d.id = dMDT.dependencyId\n",
    "join vulnerability v on mA.vulnerabilityId = v.id\n",
    "join tool t on mA.toolId = t.id\n",
    "group by toolId, repositoryId;'''\n",
    "results = sql.pd_read_sql(q)\n",
    "for tool, df in results.groupby('tool'):\n",
    "    print(tool,df.c.median()) "
   ]
  },
  {
   "cell_type": "code",
   "execution_count": 24,
   "metadata": {},
   "outputs": [
    {
     "output_type": "execute_result",
     "data": {
      "text/plain": "                       tool     scope  deps  vuln\n0   Maven Security Versions   compile     6     9\n1   Maven Security Versions  provided    35    35\n2   Maven Security Versions      test     5     9\n3                      Snyk   compile    40    97\n4                      Snyk  provided    75   181\n5                      Snyk   runtime     1     2\n6                      Snyk      test    21    22\n7         Github Dependabot   compile    11    60\n8         Github Dependabot  provided     8    43\n9         Github Dependabot   runtime     1     1\n10        Github Dependabot      test     2     2\n11   OWASP Dependency-Check   compile    31   131\n12   OWASP Dependency-Check  provided    80   265\n13   OWASP Dependency-Check   runtime     3    13\n14   OWASP Dependency-Check      test     2    60",
      "text/html": "<div>\n<style scoped>\n    .dataframe tbody tr th:only-of-type {\n        vertical-align: middle;\n    }\n\n    .dataframe tbody tr th {\n        vertical-align: top;\n    }\n\n    .dataframe thead th {\n        text-align: right;\n    }\n</style>\n<table border=\"1\" class=\"dataframe\">\n  <thead>\n    <tr style=\"text-align: right;\">\n      <th></th>\n      <th>tool</th>\n      <th>scope</th>\n      <th>deps</th>\n      <th>vuln</th>\n    </tr>\n  </thead>\n  <tbody>\n    <tr>\n      <th>0</th>\n      <td>Maven Security Versions</td>\n      <td>compile</td>\n      <td>6</td>\n      <td>9</td>\n    </tr>\n    <tr>\n      <th>1</th>\n      <td>Maven Security Versions</td>\n      <td>provided</td>\n      <td>35</td>\n      <td>35</td>\n    </tr>\n    <tr>\n      <th>2</th>\n      <td>Maven Security Versions</td>\n      <td>test</td>\n      <td>5</td>\n      <td>9</td>\n    </tr>\n    <tr>\n      <th>3</th>\n      <td>Snyk</td>\n      <td>compile</td>\n      <td>40</td>\n      <td>97</td>\n    </tr>\n    <tr>\n      <th>4</th>\n      <td>Snyk</td>\n      <td>provided</td>\n      <td>75</td>\n      <td>181</td>\n    </tr>\n    <tr>\n      <th>5</th>\n      <td>Snyk</td>\n      <td>runtime</td>\n      <td>1</td>\n      <td>2</td>\n    </tr>\n    <tr>\n      <th>6</th>\n      <td>Snyk</td>\n      <td>test</td>\n      <td>21</td>\n      <td>22</td>\n    </tr>\n    <tr>\n      <th>7</th>\n      <td>Github Dependabot</td>\n      <td>compile</td>\n      <td>11</td>\n      <td>60</td>\n    </tr>\n    <tr>\n      <th>8</th>\n      <td>Github Dependabot</td>\n      <td>provided</td>\n      <td>8</td>\n      <td>43</td>\n    </tr>\n    <tr>\n      <th>9</th>\n      <td>Github Dependabot</td>\n      <td>runtime</td>\n      <td>1</td>\n      <td>1</td>\n    </tr>\n    <tr>\n      <th>10</th>\n      <td>Github Dependabot</td>\n      <td>test</td>\n      <td>2</td>\n      <td>2</td>\n    </tr>\n    <tr>\n      <th>11</th>\n      <td>OWASP Dependency-Check</td>\n      <td>compile</td>\n      <td>31</td>\n      <td>131</td>\n    </tr>\n    <tr>\n      <th>12</th>\n      <td>OWASP Dependency-Check</td>\n      <td>provided</td>\n      <td>80</td>\n      <td>265</td>\n    </tr>\n    <tr>\n      <th>13</th>\n      <td>OWASP Dependency-Check</td>\n      <td>runtime</td>\n      <td>3</td>\n      <td>13</td>\n    </tr>\n    <tr>\n      <th>14</th>\n      <td>OWASP Dependency-Check</td>\n      <td>test</td>\n      <td>2</td>\n      <td>60</td>\n    </tr>\n  </tbody>\n</table>\n</div>"
     },
     "metadata": {},
     "execution_count": 24
    }
   ],
   "source": [
    "q='''select t.name as tool, scope, count(distinct d.packageId) as deps, count(distinct v.id) as vuln\n",
    "from mavenAlert mA\n",
    "join dependency d on mA.dependencyId=d.id\n",
    "join vulnerability v on mA.vulnerabilityId=v.id\n",
    "join derivedMavenDependencyTree dMDT on d.id = dMDT.dependencyId\n",
    "join tool t on t.id=mA.toolId\n",
    "group by toolId, scope;'''\n",
    "sql.pd_read_sql(q)"
   ]
  },
  {
   "cell_type": "code",
   "execution_count": 10,
   "metadata": {},
   "outputs": [
    {
     "output_type": "execute_result",
     "data": {
      "text/plain": "                     tool scope  deps  vuln\n0                    Snyk   dev    83   105\n1                    Snyk  prod    12    24\n2       Github Dependabot   dev     8     9\n3       Github Dependabot  prod     5     9\n4  OWASP Dependency-Check   dev   167   168\n5  OWASP Dependency-Check  prod    57    52\n6               NPM Audit   dev    52    57\n7               NPM Audit  prod    13    10",
      "text/html": "<div>\n<style scoped>\n    .dataframe tbody tr th:only-of-type {\n        vertical-align: middle;\n    }\n\n    .dataframe tbody tr th {\n        vertical-align: top;\n    }\n\n    .dataframe thead th {\n        text-align: right;\n    }\n</style>\n<table border=\"1\" class=\"dataframe\">\n  <thead>\n    <tr style=\"text-align: right;\">\n      <th></th>\n      <th>tool</th>\n      <th>scope</th>\n      <th>deps</th>\n      <th>vuln</th>\n    </tr>\n  </thead>\n  <tbody>\n    <tr>\n      <th>0</th>\n      <td>Snyk</td>\n      <td>dev</td>\n      <td>83</td>\n      <td>105</td>\n    </tr>\n    <tr>\n      <th>1</th>\n      <td>Snyk</td>\n      <td>prod</td>\n      <td>12</td>\n      <td>24</td>\n    </tr>\n    <tr>\n      <th>2</th>\n      <td>Github Dependabot</td>\n      <td>dev</td>\n      <td>8</td>\n      <td>9</td>\n    </tr>\n    <tr>\n      <th>3</th>\n      <td>Github Dependabot</td>\n      <td>prod</td>\n      <td>5</td>\n      <td>9</td>\n    </tr>\n    <tr>\n      <th>4</th>\n      <td>OWASP Dependency-Check</td>\n      <td>dev</td>\n      <td>167</td>\n      <td>168</td>\n    </tr>\n    <tr>\n      <th>5</th>\n      <td>OWASP Dependency-Check</td>\n      <td>prod</td>\n      <td>57</td>\n      <td>52</td>\n    </tr>\n    <tr>\n      <th>6</th>\n      <td>NPM Audit</td>\n      <td>dev</td>\n      <td>52</td>\n      <td>57</td>\n    </tr>\n    <tr>\n      <th>7</th>\n      <td>NPM Audit</td>\n      <td>prod</td>\n      <td>13</td>\n      <td>10</td>\n    </tr>\n  </tbody>\n</table>\n</div>"
     },
     "metadata": {},
     "execution_count": 10
    }
   ],
   "source": [
    "q='''select t.name as tool, scope, count(distinct d.packageId) as deps, count(distinct v.id) as vuln\n",
    "from npmAlert nA\n",
    "join dependency d on nA.dependencyId=d.id\n",
    "join vulnerability v on nA.vulnerabilityId=v.id\n",
    "join npmDependencyTree nDT on d.packageId = nDT.packageId\n",
    "join tool t on t.id=nA.toolId\n",
    "group by toolId, scope;'''\n",
    "df=sql.pd_read_sql(q)\n",
    "df"
   ]
  }
 ]
}