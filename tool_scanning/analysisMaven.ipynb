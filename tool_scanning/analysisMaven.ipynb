{
 "metadata": {
  "language_info": {
   "codemirror_mode": {
    "name": "ipython",
    "version": 3
   },
   "file_extension": ".py",
   "mimetype": "text/x-python",
   "name": "python",
   "nbconvert_exporter": "python",
   "pygments_lexer": "ipython3",
   "version": "3.7.7-final"
  },
  "orig_nbformat": 2,
  "kernelspec": {
   "name": "python3",
   "display_name": "Python 3"
  }
 },
 "nbformat": 4,
 "nbformat_minor": 2,
 "cells": [
  {
   "cell_type": "code",
   "execution_count": 1,
   "metadata": {},
   "outputs": [],
   "source": [
    "import os, sys\n",
    "sys.path.append('..')\n",
    "import common, sql\n",
    "import pandas as pd"
   ]
  },
  {
   "cell_type": "code",
   "execution_count": 4,
   "metadata": {},
   "outputs": [
    {
     "output_type": "execute_result",
     "data": {
      "text/plain": "(3197.0, 58.0)"
     },
     "metadata": {},
     "execution_count": 4
    }
   ],
   "source": [
    "q='''select toolId, repositoryId, sum(a.count) as c from alert a\n",
    "join dependency d on a.dependencyId=d.id\n",
    "group by toolId, repositoryId;'''\n",
    "df=sql.pd_read_sql(q)\n",
    "df.c.sum(), df.c.median()"
   ]
  },
  {
   "cell_type": "code",
   "execution_count": 6,
   "metadata": {},
   "outputs": [
    {
     "output_type": "execute_result",
     "data": {
      "text/plain": "(565, 12.0)"
     },
     "metadata": {},
     "execution_count": 6
    }
   ],
   "source": [
    "q='''select a.toolId, d.repositoryId, count(distinct d.packageId) as c from alert a\n",
    "join dependency d on a.dependencyId=d.id\n",
    "join vulnerability v on a.vulnerabilityId=v.id\n",
    "join mavenDependencyTree mDT on d.packageId = mDT.packageId\n",
    "group by toolId, repositoryId;\n",
    "'''\n",
    "df=sql.pd_read_sql(q)\n",
    "df.c.sum(), df.c.median()"
   ]
  },
  {
   "cell_type": "code",
   "execution_count": 7,
   "metadata": {},
   "outputs": [
    {
     "output_type": "execute_result",
     "data": {
      "text/plain": "(1095, 23.0)"
     },
     "metadata": {},
     "execution_count": 7
    }
   ],
   "source": [
    "q='''select toolId, repositoryId, count(distinct v.id) as c from alert a\n",
    "join dependency d on a.dependencyId=d.id\n",
    "join vulnerability v on a.vulnerabilityId=v.id\n",
    "group by toolId, repositoryId;\n",
    "'''\n",
    "df=sql.pd_read_sql(q)\n",
    "df.c.sum(), df.c.median()"
   ]
  },
  {
   "cell_type": "code",
   "execution_count": 10,
   "metadata": {},
   "outputs": [
    {
     "output_type": "execute_result",
     "data": {
      "text/plain": "(513, 11.0, 1034, 22.0)"
     },
     "metadata": {},
     "execution_count": 10
    }
   ],
   "source": [
    "q='''select a.toolId, d.repositoryId, count(distinct d.packageId) as deps, count(distinct v.id) as vuln\n",
    "from alert a\n",
    "join dependency d on a.dependencyId=d.id\n",
    "join vulnerability v on a.vulnerabilityId=v.id\n",
    "join derivedMavenDependencyTree dMDT on d.id = dMDT.dependencyId\n",
    "where scope = 'provided'\n",
    "group by toolId, repositoryId;\n",
    "'''\n",
    "df=sql.pd_read_sql(q)\n",
    "df.deps.sum(), df.deps.median(), df.vuln.sum(), df.vuln.median()"
   ]
  },
  {
   "cell_type": "code",
   "execution_count": 11,
   "metadata": {},
   "outputs": [
    {
     "output_type": "execute_result",
     "data": {
      "text/plain": "(7, 1.0, 11, 3.0)"
     },
     "metadata": {},
     "execution_count": 11
    }
   ],
   "source": [
    "q='''select a.toolId, d.repositoryId, count(distinct d.packageId) as deps, count(distinct v.id) as vuln\n",
    "from alert a\n",
    "join dependency d on a.dependencyId=d.id\n",
    "join vulnerability v on a.vulnerabilityId=v.id\n",
    "join derivedMavenDependencyTree dMDT on d.id = dMDT.dependencyId\n",
    "where scope = 'compile'\n",
    "group by toolId, repositoryId;\n",
    "'''\n",
    "df=sql.pd_read_sql(q)\n",
    "df.deps.sum(), df.deps.median(), df.vuln.sum(), df.vuln.median()"
   ]
  },
  {
   "cell_type": "code",
   "execution_count": 12,
   "metadata": {},
   "outputs": [
    {
     "output_type": "execute_result",
     "data": {
      "text/plain": "(0, nan, 0, nan)"
     },
     "metadata": {},
     "execution_count": 12
    }
   ],
   "source": [
    "q='''select a.toolId, d.repositoryId, count(distinct d.packageId) as deps, count(distinct v.id) as vuln\n",
    "from alert a\n",
    "join dependency d on a.dependencyId=d.id\n",
    "join vulnerability v on a.vulnerabilityId=v.id\n",
    "join derivedMavenDependencyTree dMDT on d.id = dMDT.dependencyId\n",
    "where scope = 'runtime'\n",
    "group by toolId, repositoryId;\n",
    "'''\n",
    "df=sql.pd_read_sql(q)\n",
    "df.deps.sum(), df.deps.median(), df.vuln.sum(), df.vuln.median()"
   ]
  },
  {
   "cell_type": "code",
   "execution_count": 13,
   "metadata": {},
   "outputs": [
    {
     "output_type": "execute_result",
     "data": {
      "text/plain": "(45, 1.0, 50, 1.0)"
     },
     "metadata": {},
     "execution_count": 13
    }
   ],
   "source": [
    "q='''select a.toolId, d.repositoryId, count(distinct d.packageId) as deps, count(distinct v.id) as vuln\n",
    "from alert a\n",
    "join dependency d on a.dependencyId=d.id\n",
    "join vulnerability v on a.vulnerabilityId=v.id\n",
    "join derivedMavenDependencyTree dMDT on d.id = dMDT.dependencyId\n",
    "where scope = 'test'\n",
    "group by toolId, repositoryId;\n",
    "'''\n",
    "df=sql.pd_read_sql(q)\n",
    "df.deps.sum(), df.deps.median(), df.vuln.sum(), df.vuln.median()"
   ]
  },
  {
   "cell_type": "code",
   "execution_count": null,
   "metadata": {},
   "outputs": [],
   "source": []
  }
 ]
}